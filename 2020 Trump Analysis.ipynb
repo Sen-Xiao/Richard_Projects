{
 "cells": [
  {
   "cell_type": "markdown",
   "id": "ad1e3787",
   "metadata": {},
   "source": [
    "# Project 1"
   ]
  },
  {
   "cell_type": "markdown",
   "id": "787e5fe3",
   "metadata": {},
   "source": [
    "## Introduction\n",
    "\n",
    "In the 2020 U.S. election, the Republican presidential candidate Donald Trump failed to be re-elected as the President of the United States. Many Republicans who oppose Trump want to hold him accountable for their loss in the 2020 presidential election. But is Donald Trump really the person to blame? Or it is just people's unfavourable views on the Republican party that result in the Republicans' failure. Two investigations are conducted in this project to find out whether Trump is really dragging down the Republican Party in the 2020 presidential election.\n",
    "\n",
    "Numerous scholarly works have explored a comparable inquiry, examining the reasons behind the failure of Donald Trump and the Republican Party in the 2020 presidential election. Baccini et al. (2021) posit that Trump's mishandling of the COVID-19 pandemic significantly eroded his support, independent of the country's economic conditions. They argue that this policy was mostly attributable to Trump himself rather than the Republican Party. Additionally, Blendon and Benson (2020) contend that Trump's unfavourable stance towards Medicare had an adverse impact on his support in the election. This is noteworthy, given that a majority of both Republican and Democratic voters favour the Medicare buy-in feature offered in the Affordable Care Act. To summarize, several researchers suggest that Trump's candidacy had a detrimental effect on the Republican Party's electoral performance in 2020 presidential election.\n",
    "\n",
    "In this project, we conducted two investigations to find out the research question from different perspectives. It is widely acknowledged that most voters are driven by two dominant factors, the quality of the candidate, including his or her charisma, fundraising capability etc., and the popularity of the party to which he or she is affiliated. In another word, the outcome of the election which is the Y variable is dependent on two X variables, the quality of the candidate and the popularity of his or her party. We know the outcome since we know the results and vote shares of the 2020 U.S. presidential election. One of the X variables, the popularity of the candidates' party, could be evaluated by the vote share of the candidate's party in the 2020 U.S. senate and the 2020 U.S. house election. Though the results of the Senate and House are also determined by the popularity of the party and quality of the candidate, the sample size (number of Republican Senate/House candidates) is large enough, so the Republican Party's overall performance is considered solely determined by the popularity of the Republican party.\n",
    "\n",
    "To determine if the quality of the candidate was responsible for the Republican Party's failure in the 2020 presidential election, we can compare the vote share of Donald Trump to that of Republican candidates in the House and Senate elections in each state or county. If Trump's vote share is lower than the overall level of Republican candidates, then he likely dragged down the party. Think of it like a course where the final grade is determined by exams and homework. If the final grade is lower than the exam score, then we know the homework score must be lower too. In this case, the final grade is Trump's performance, the exam score is the popularity of the Republican party, and the homework score is Trump's electability.\n",
    "According to my investigations, we found out that Donald Trump did drag down the Republican party in the 2020 presidential election, as his vote share is lower than the overall level of Republican candidates in the House and the Senate nationwide. From a geographical perspective, he is less popular than Republican Party itself in most states but more popular than the average Republicans in coastal states. \n",
    "\n",
    "This paper takes a unique approach to examining the Republican Party's performance in the 2020 presidential election by comparing the vote share of Donald Trump with the vote share of Republican candidates in the House and Senate elections. This approach allows us to infer the impact of the candidate's quality (i.e., Donald Trump's electability) on the Republican Party's performance, which has not been explored in detail in previous studies. From empirical perspective, my investigation provides empirical evidence to support the argument that Donald Trump's candidacy had a detrimental effect on the Republican Party's electoral performance in the 2020 presidential election. We have also analysed the causalities behind Trump dragging down the Republican party in 2020 from multiple perspectives, including geographical, religious and demographic perspectives."
   ]
  },
  {
   "cell_type": "markdown",
   "id": "91cc692d",
   "metadata": {},
   "source": [
    "## Data Import and Cleaning"
   ]
  },
  {
   "cell_type": "code",
   "execution_count": null,
   "id": "082bd0c8",
   "metadata": {},
   "outputs": [],
   "source": [
    "!pip install -q qeds\n",
    "!pip install -q matplotlib\n",
    "\n",
    "import pandas as pd\n",
    "import numpy as np\n",
    "import matplotlib.pyplot as plt\n",
    "\n",
    "import requests\n",
    "from bs4 import BeautifulSoup\n",
    "\n",
    "import matplotlib.colors as mplc\n",
    "import statsmodels.formula.api as sm\n",
    "from pandas_datareader import DataReader\n",
    "import matplotlib.patches as patches\n",
    "import seaborn as sns\n",
    "\n",
    "!pip install -q plotly_express\n",
    "import time\n",
    "from datetime import datetime\n",
    "import plotly_express as px\n",
    "from plotly.offline import init_notebook_mode\n",
    "init_notebook_mode(connected=True)\n",
    "todays_date = datetime.fromtimestamp(time.time()).strftime(\"%Y-%m-%d\")\n"
   ]
  },
  {
   "cell_type": "code",
   "execution_count": 99,
   "id": "56fa5b0c",
   "metadata": {},
   "outputs": [],
   "source": [
    "governors_county_candidate = pd.read_csv('/Users/richardhsiao/Documents/ECO225/archive/governors_county_candidate.csv')\n",
    "governors_state = pd.read_csv('/Users/richardhsiao/Documents/ECO225/archive/governors_state.csv')\n",
    "house_candidate = pd.read_csv('/Users/richardhsiao/Documents/ECO225/archive/house_candidate.csv')\n",
    "house_state = pd.read_csv('/Users/richardhsiao/Documents/ECO225/archive/house_state.csv')\n",
    "president_county = pd.read_csv('/Users/richardhsiao/Documents/ECO225/archive/president_county.csv')\n",
    "governors_county = pd.read_csv('/Users/richardhsiao/Documents/ECO225/archive/governors_county.csv')\n",
    "senate_state = pd.read_csv('/Users/richardhsiao/Documents/ECO225/archive/senate_state.csv')\n",
    "senate_county = pd.read_csv('/Users/richardhsiao/Documents/ECO225/archive/senate_county.csv')\n",
    "president_county_candidates = pd.read_csv('/Users/richardhsiao/Documents/ECO225/archive/president_county_candidate.csv')\n",
    "president_state = pd.read_csv('/Users/richardhsiao/Documents/ECO225/archive/president_state.csv')\n",
    "world_country_and_usa_states_latitude_and_longitude_values = pd.read_csv ('/Users/richardhsiao/Documents/ECO225/archive/world_country_and_usa_states_latitude_and_longitude_values.csv')\n",
    "senate_2016 = pd.read_csv('/Users/richardhsiao/Documents/ECO225/archive/1976-2020-senate.csv', encoding= 'ISO-8859-1')\n",
    "president_2016 = pd.read_csv('/Users/richardhsiao/Documents/ECO225/archive/1976-2020-president.csv')\n",
    "senate_county_candidate = pd.read_csv('/Users/richardhsiao/Documents/ECO225/archive/senate_county_candidate.csv')"
   ]
  },
  {
   "cell_type": "code",
   "execution_count": 102,
   "id": "c13fadd3",
   "metadata": {
    "scrolled": true
   },
   "outputs": [
    {
     "data": {
      "text/html": [
       "<div>\n",
       "<style scoped>\n",
       "    .dataframe tbody tr th:only-of-type {\n",
       "        vertical-align: middle;\n",
       "    }\n",
       "\n",
       "    .dataframe tbody tr th {\n",
       "        vertical-align: top;\n",
       "    }\n",
       "\n",
       "    .dataframe thead th {\n",
       "        text-align: right;\n",
       "    }\n",
       "</style>\n",
       "<table border=\"1\" class=\"dataframe\">\n",
       "  <thead>\n",
       "    <tr style=\"text-align: right;\">\n",
       "      <th></th>\n",
       "      <th>total_votes</th>\n",
       "    </tr>\n",
       "    <tr>\n",
       "      <th>county</th>\n",
       "      <th></th>\n",
       "    </tr>\n",
       "  </thead>\n",
       "  <tbody>\n",
       "    <tr>\n",
       "      <th>Abbeville County</th>\n",
       "      <td>4414</td>\n",
       "    </tr>\n",
       "    <tr>\n",
       "      <th>Abbot</th>\n",
       "      <td>111</td>\n",
       "    </tr>\n",
       "    <tr>\n",
       "      <th>Abington</th>\n",
       "      <td>4190</td>\n",
       "    </tr>\n",
       "    <tr>\n",
       "      <th>Acadia Parish</th>\n",
       "      <td>5859</td>\n",
       "    </tr>\n",
       "    <tr>\n",
       "      <th>Accomack County</th>\n",
       "      <td>7939</td>\n",
       "    </tr>\n",
       "  </tbody>\n",
       "</table>\n",
       "</div>"
      ],
      "text/plain": [
       "                  total_votes\n",
       "county                       \n",
       "Abbeville County         4414\n",
       "Abbot                     111\n",
       "Abington                 4190\n",
       "Acadia Parish            5859\n",
       "Accomack County          7939"
      ]
     },
     "execution_count": 102,
     "metadata": {},
     "output_type": "execute_result"
    }
   ],
   "source": [
    "#Finding total votes and Republican votes of 2020 U.S. Senate election by county (denominator)\n",
    "senate_total_vote_county = senate_county_candidate.groupby('county')\\\n",
    ".sum('total_votes')\n",
    "senate_total_vote_county.head()"
   ]
  },
  {
   "cell_type": "code",
   "execution_count": 103,
   "id": "cb9f19b8",
   "metadata": {
    "scrolled": true
   },
   "outputs": [
    {
     "data": {
      "text/html": [
       "<div>\n",
       "<style scoped>\n",
       "    .dataframe tbody tr th:only-of-type {\n",
       "        vertical-align: middle;\n",
       "    }\n",
       "\n",
       "    .dataframe tbody tr th {\n",
       "        vertical-align: top;\n",
       "    }\n",
       "\n",
       "    .dataframe thead th {\n",
       "        text-align: right;\n",
       "    }\n",
       "</style>\n",
       "<table border=\"1\" class=\"dataframe\">\n",
       "  <thead>\n",
       "    <tr style=\"text-align: right;\">\n",
       "      <th></th>\n",
       "      <th>total_votes</th>\n",
       "    </tr>\n",
       "    <tr>\n",
       "      <th>county</th>\n",
       "      <th></th>\n",
       "    </tr>\n",
       "  </thead>\n",
       "  <tbody>\n",
       "    <tr>\n",
       "      <th>Abington</th>\n",
       "      <td>4118</td>\n",
       "    </tr>\n",
       "    <tr>\n",
       "      <th>Acadia Parish</th>\n",
       "      <td>572</td>\n",
       "    </tr>\n",
       "    <tr>\n",
       "      <th>Acton</th>\n",
       "      <td>2941</td>\n",
       "    </tr>\n",
       "    <tr>\n",
       "      <th>Acworth</th>\n",
       "      <td>227</td>\n",
       "    </tr>\n",
       "    <tr>\n",
       "      <th>Adams</th>\n",
       "      <td>1358</td>\n",
       "    </tr>\n",
       "  </tbody>\n",
       "</table>\n",
       "</div>"
      ],
      "text/plain": [
       "               total_votes\n",
       "county                    \n",
       "Abington              4118\n",
       "Acadia Parish          572\n",
       "Acton                 2941\n",
       "Acworth                227\n",
       "Adams                 1358"
      ]
     },
     "execution_count": 103,
     "metadata": {},
     "output_type": "execute_result"
    }
   ],
   "source": [
    "#Finding Republican votes of 2020 U.S. Senate election by county (numerator)\n",
    "\n",
    "senate_GOP_candidate = senate_county_candidate['party'].str.contains('REP')\n",
    "senate_GOP_candidate.to_frame()\n",
    "\n",
    "senate_GOP_vote_county = senate_county_candidate[senate_GOP_candidate]\n",
    "senate_GOP_vote_county=senate_GOP_vote_county.groupby('county')\\\n",
    ".sum('total_votes')\n",
    "senate_GOP_vote_county.head()"
   ]
  },
  {
   "cell_type": "code",
   "execution_count": 104,
   "id": "d77a7a0d",
   "metadata": {
    "scrolled": true
   },
   "outputs": [
    {
     "data": {
      "text/html": [
       "<div>\n",
       "<style scoped>\n",
       "    .dataframe tbody tr th:only-of-type {\n",
       "        vertical-align: middle;\n",
       "    }\n",
       "\n",
       "    .dataframe tbody tr th {\n",
       "        vertical-align: top;\n",
       "    }\n",
       "\n",
       "    .dataframe thead th {\n",
       "        text-align: right;\n",
       "    }\n",
       "</style>\n",
       "<table border=\"1\" class=\"dataframe\">\n",
       "  <thead>\n",
       "    <tr style=\"text-align: right;\">\n",
       "      <th></th>\n",
       "      <th>GOP_vote_ratio</th>\n",
       "    </tr>\n",
       "    <tr>\n",
       "      <th>county</th>\n",
       "      <th></th>\n",
       "    </tr>\n",
       "  </thead>\n",
       "  <tbody>\n",
       "    <tr>\n",
       "      <th>Abington</th>\n",
       "      <td>0.982816</td>\n",
       "    </tr>\n",
       "    <tr>\n",
       "      <th>Acadia Parish</th>\n",
       "      <td>0.097628</td>\n",
       "    </tr>\n",
       "    <tr>\n",
       "      <th>Acton</th>\n",
       "      <td>0.808411</td>\n",
       "    </tr>\n",
       "    <tr>\n",
       "      <th>Acworth</th>\n",
       "      <td>0.953782</td>\n",
       "    </tr>\n",
       "    <tr>\n",
       "      <th>Adams</th>\n",
       "      <td>0.959717</td>\n",
       "    </tr>\n",
       "  </tbody>\n",
       "</table>\n",
       "</div>"
      ],
      "text/plain": [
       "               GOP_vote_ratio\n",
       "county                       \n",
       "Abington             0.982816\n",
       "Acadia Parish        0.097628\n",
       "Acton                0.808411\n",
       "Acworth              0.953782\n",
       "Adams                0.959717"
      ]
     },
     "execution_count": 104,
     "metadata": {},
     "output_type": "execute_result"
    }
   ],
   "source": [
    "#Finding Republican vote share in 2020 U.S. Senate by county\n",
    "senate_GOP_vote_ratio=senate_GOP_vote_county/senate_total_vote_county\n",
    "senate_GOP_vote_ratio = senate_GOP_vote_ratio.rename(columns={'total_votes': 'GOP_vote_ratio'})\n",
    "\n",
    "senate_GOP_vote_ratio.dropna(inplace=True)\n",
    "senate_GOP_vote_ratio=senate_GOP_vote_ratio.reset_index()\n",
    "senate_GOP_vote_ratio=senate_GOP_vote_ratio.set_index('county')\n",
    "senate_GOP_vote_ratio.head()"
   ]
  },
  {
   "cell_type": "code",
   "execution_count": 105,
   "id": "50f0ec4d",
   "metadata": {
    "scrolled": true
   },
   "outputs": [
    {
     "data": {
      "text/html": [
       "<div>\n",
       "<style scoped>\n",
       "    .dataframe tbody tr th:only-of-type {\n",
       "        vertical-align: middle;\n",
       "    }\n",
       "\n",
       "    .dataframe tbody tr th {\n",
       "        vertical-align: top;\n",
       "    }\n",
       "\n",
       "    .dataframe thead th {\n",
       "        text-align: right;\n",
       "    }\n",
       "</style>\n",
       "<table border=\"1\" class=\"dataframe\">\n",
       "  <thead>\n",
       "    <tr style=\"text-align: right;\">\n",
       "      <th></th>\n",
       "      <th>total_votes</th>\n",
       "    </tr>\n",
       "    <tr>\n",
       "      <th>state</th>\n",
       "      <th></th>\n",
       "    </tr>\n",
       "  </thead>\n",
       "  <tbody>\n",
       "    <tr>\n",
       "      <th>Alabama’s</th>\n",
       "      <td>2033209</td>\n",
       "    </tr>\n",
       "    <tr>\n",
       "      <th>Alaska</th>\n",
       "      <td>353165</td>\n",
       "    </tr>\n",
       "    <tr>\n",
       "      <th>Arizona’s</th>\n",
       "      <td>3268249</td>\n",
       "    </tr>\n",
       "    <tr>\n",
       "      <th>Arkansas’s</th>\n",
       "      <td>1179396</td>\n",
       "    </tr>\n",
       "    <tr>\n",
       "      <th>California’s</th>\n",
       "      <td>16723953</td>\n",
       "    </tr>\n",
       "  </tbody>\n",
       "</table>\n",
       "</div>"
      ],
      "text/plain": [
       "              total_votes\n",
       "state                    \n",
       "Alabama’s         2033209\n",
       "Alaska             353165\n",
       "Arizona’s         3268249\n",
       "Arkansas’s        1179396\n",
       "California’s     16723953"
      ]
     },
     "execution_count": 105,
     "metadata": {},
     "output_type": "execute_result"
    }
   ],
   "source": [
    "# Finding total votes and Republican votes of 2020 U.S. presidential election by county\n",
    "\n",
    "#Only keep the name of state (first word) to group by data\n",
    "state = house_candidate['district'].str.split().str[0]\n",
    "house_candidate['state'] = state\n",
    "\n",
    "#Find the total votes of all house candidate in each state\n",
    "total_votes_state = house_candidate.groupby('state').sum()['total_votes']\n",
    "total_votes_state.to_frame().head()\n"
   ]
  },
  {
   "cell_type": "code",
   "execution_count": 106,
   "id": "e75a4582",
   "metadata": {
    "scrolled": true
   },
   "outputs": [
    {
     "data": {
      "text/html": [
       "<div>\n",
       "<style scoped>\n",
       "    .dataframe tbody tr th:only-of-type {\n",
       "        vertical-align: middle;\n",
       "    }\n",
       "\n",
       "    .dataframe tbody tr th {\n",
       "        vertical-align: top;\n",
       "    }\n",
       "\n",
       "    .dataframe thead th {\n",
       "        text-align: right;\n",
       "    }\n",
       "</style>\n",
       "<table border=\"1\" class=\"dataframe\">\n",
       "  <thead>\n",
       "    <tr style=\"text-align: right;\">\n",
       "      <th></th>\n",
       "      <th>total_votes</th>\n",
       "    </tr>\n",
       "    <tr>\n",
       "      <th>county</th>\n",
       "      <th></th>\n",
       "    </tr>\n",
       "  </thead>\n",
       "  <tbody>\n",
       "    <tr>\n",
       "      <th>Abbeville County</th>\n",
       "      <td>12433</td>\n",
       "    </tr>\n",
       "    <tr>\n",
       "      <th>Abbot</th>\n",
       "      <td>417</td>\n",
       "    </tr>\n",
       "    <tr>\n",
       "      <th>Abington</th>\n",
       "      <td>9660</td>\n",
       "    </tr>\n",
       "    <tr>\n",
       "      <th>Acadia Parish</th>\n",
       "      <td>28425</td>\n",
       "    </tr>\n",
       "    <tr>\n",
       "      <th>Accomack County</th>\n",
       "      <td>16962</td>\n",
       "    </tr>\n",
       "  </tbody>\n",
       "</table>\n",
       "</div>"
      ],
      "text/plain": [
       "                  total_votes\n",
       "county                       \n",
       "Abbeville County        12433\n",
       "Abbot                     417\n",
       "Abington                 9660\n",
       "Acadia Parish           28425\n",
       "Accomack County         16962"
      ]
     },
     "execution_count": 106,
     "metadata": {},
     "output_type": "execute_result"
    }
   ],
   "source": [
    "#Finding total votes and Republican votes of 2020 U.S. presidential election by county\n",
    "\n",
    "president_total_votes_county = \\\n",
    "president_county_candidates.groupby('county').sum('total_votes').\\\n",
    "drop(columns=['won'])\n",
    "president_total_votes_county.head()\n",
    "\n"
   ]
  },
  {
   "cell_type": "code",
   "execution_count": 107,
   "id": "be452ea3",
   "metadata": {
    "scrolled": true
   },
   "outputs": [
    {
     "data": {
      "text/html": [
       "<div>\n",
       "<style scoped>\n",
       "    .dataframe tbody tr th:only-of-type {\n",
       "        vertical-align: middle;\n",
       "    }\n",
       "\n",
       "    .dataframe tbody tr th {\n",
       "        vertical-align: top;\n",
       "    }\n",
       "\n",
       "    .dataframe thead th {\n",
       "        text-align: right;\n",
       "    }\n",
       "</style>\n",
       "<table border=\"1\" class=\"dataframe\">\n",
       "  <thead>\n",
       "    <tr style=\"text-align: right;\">\n",
       "      <th></th>\n",
       "      <th>party</th>\n",
       "    </tr>\n",
       "  </thead>\n",
       "  <tbody>\n",
       "    <tr>\n",
       "      <th>0</th>\n",
       "      <td>False</td>\n",
       "    </tr>\n",
       "    <tr>\n",
       "      <th>1</th>\n",
       "      <td>True</td>\n",
       "    </tr>\n",
       "    <tr>\n",
       "      <th>2</th>\n",
       "      <td>False</td>\n",
       "    </tr>\n",
       "    <tr>\n",
       "      <th>3</th>\n",
       "      <td>False</td>\n",
       "    </tr>\n",
       "    <tr>\n",
       "      <th>4</th>\n",
       "      <td>False</td>\n",
       "    </tr>\n",
       "  </tbody>\n",
       "</table>\n",
       "</div>"
      ],
      "text/plain": [
       "   party\n",
       "0  False\n",
       "1   True\n",
       "2  False\n",
       "3  False\n",
       "4  False"
      ]
     },
     "execution_count": 107,
     "metadata": {},
     "output_type": "execute_result"
    }
   ],
   "source": [
    "#Select Republican senate candidates\n",
    "president_GOP_candidates = president_county_candidates['party'].\\\n",
    "str.contains('REP')\n",
    "president_GOP_candidates.to_frame().head()"
   ]
  },
  {
   "cell_type": "code",
   "execution_count": 108,
   "id": "eba3651b",
   "metadata": {
    "scrolled": true
   },
   "outputs": [
    {
     "data": {
      "text/html": [
       "<div>\n",
       "<style scoped>\n",
       "    .dataframe tbody tr th:only-of-type {\n",
       "        vertical-align: middle;\n",
       "    }\n",
       "\n",
       "    .dataframe tbody tr th {\n",
       "        vertical-align: top;\n",
       "    }\n",
       "\n",
       "    .dataframe thead th {\n",
       "        text-align: right;\n",
       "    }\n",
       "</style>\n",
       "<table border=\"1\" class=\"dataframe\">\n",
       "  <thead>\n",
       "    <tr style=\"text-align: right;\">\n",
       "      <th></th>\n",
       "      <th>president_GOP_vote_county</th>\n",
       "    </tr>\n",
       "    <tr>\n",
       "      <th>county</th>\n",
       "      <th></th>\n",
       "    </tr>\n",
       "  </thead>\n",
       "  <tbody>\n",
       "    <tr>\n",
       "      <th>Abbeville County</th>\n",
       "      <td>8215</td>\n",
       "    </tr>\n",
       "    <tr>\n",
       "      <th>Abbot</th>\n",
       "      <td>288</td>\n",
       "    </tr>\n",
       "    <tr>\n",
       "      <th>Abington</th>\n",
       "      <td>4236</td>\n",
       "    </tr>\n",
       "    <tr>\n",
       "      <th>Acadia Parish</th>\n",
       "      <td>22596</td>\n",
       "    </tr>\n",
       "    <tr>\n",
       "      <th>Accomack County</th>\n",
       "      <td>9172</td>\n",
       "    </tr>\n",
       "  </tbody>\n",
       "</table>\n",
       "</div>"
      ],
      "text/plain": [
       "                  president_GOP_vote_county\n",
       "county                                     \n",
       "Abbeville County                       8215\n",
       "Abbot                                   288\n",
       "Abington                               4236\n",
       "Acadia Parish                         22596\n",
       "Accomack County                        9172"
      ]
     },
     "execution_count": 108,
     "metadata": {},
     "output_type": "execute_result"
    }
   ],
   "source": [
    "#Calculate the Republican presidential vote share by county\n",
    "president_GOP_votes_county = \\\n",
    "president_county_candidates[president_GOP_candidates].groupby('county').sum('total_votes')\n",
    "president_GOP_votes_county=\\\n",
    "president_GOP_votes_county.reset_index().drop(columns=['won']).rename(columns={'total_votes': \\\n",
    "'president_GOP_vote_county'})\n",
    "\n",
    "president_GOP_votes_county=president_GOP_votes_county.set_index('county')\n",
    "president_GOP_votes_county.head()"
   ]
  },
  {
   "cell_type": "code",
   "execution_count": 109,
   "id": "bd251758",
   "metadata": {
    "scrolled": true
   },
   "outputs": [
    {
     "data": {
      "text/html": [
       "<div>\n",
       "<style scoped>\n",
       "    .dataframe tbody tr th:only-of-type {\n",
       "        vertical-align: middle;\n",
       "    }\n",
       "\n",
       "    .dataframe tbody tr th {\n",
       "        vertical-align: top;\n",
       "    }\n",
       "\n",
       "    .dataframe thead th {\n",
       "        text-align: right;\n",
       "    }\n",
       "</style>\n",
       "<table border=\"1\" class=\"dataframe\">\n",
       "  <thead>\n",
       "    <tr style=\"text-align: right;\">\n",
       "      <th></th>\n",
       "      <th>president_GOP_vote_share</th>\n",
       "    </tr>\n",
       "    <tr>\n",
       "      <th>county</th>\n",
       "      <th></th>\n",
       "    </tr>\n",
       "  </thead>\n",
       "  <tbody>\n",
       "    <tr>\n",
       "      <th>Abbeville County</th>\n",
       "      <td>0.660742</td>\n",
       "    </tr>\n",
       "    <tr>\n",
       "      <th>Abbot</th>\n",
       "      <td>0.690647</td>\n",
       "    </tr>\n",
       "    <tr>\n",
       "      <th>Abington</th>\n",
       "      <td>0.438509</td>\n",
       "    </tr>\n",
       "    <tr>\n",
       "      <th>Acadia Parish</th>\n",
       "      <td>0.794934</td>\n",
       "    </tr>\n",
       "    <tr>\n",
       "      <th>Accomack County</th>\n",
       "      <td>0.540738</td>\n",
       "    </tr>\n",
       "  </tbody>\n",
       "</table>\n",
       "</div>"
      ],
      "text/plain": [
       "                  president_GOP_vote_share\n",
       "county                                    \n",
       "Abbeville County                  0.660742\n",
       "Abbot                             0.690647\n",
       "Abington                          0.438509\n",
       "Acadia Parish                     0.794934\n",
       "Accomack County                   0.540738"
      ]
     },
     "execution_count": 109,
     "metadata": {},
     "output_type": "execute_result"
    }
   ],
   "source": [
    "##Finding Republican vote share in 2020 U.S. presidential election by county\n",
    "\n",
    "president_GOP_votes_county_ratio = president_GOP_votes_county \\\n",
    "['president_GOP_vote_county'].div(president_total_votes_county\\\n",
    "['total_votes'], axis=0)\n",
    "president_GOP_votes_county_ratio= \\\n",
    "president_GOP_votes_county_ratio.to_frame().rename \\\n",
    "(columns={0: \"president_GOP_vote_share\"})\n",
    "\n",
    "president_GOP_votes_county_ratio.head()"
   ]
  },
  {
   "cell_type": "code",
   "execution_count": 110,
   "id": "14b8768e",
   "metadata": {
    "scrolled": true
   },
   "outputs": [
    {
     "data": {
      "text/html": [
       "<div>\n",
       "<style scoped>\n",
       "    .dataframe tbody tr th:only-of-type {\n",
       "        vertical-align: middle;\n",
       "    }\n",
       "\n",
       "    .dataframe tbody tr th {\n",
       "        vertical-align: top;\n",
       "    }\n",
       "\n",
       "    .dataframe thead th {\n",
       "        text-align: right;\n",
       "    }\n",
       "</style>\n",
       "<table border=\"1\" class=\"dataframe\">\n",
       "  <thead>\n",
       "    <tr style=\"text-align: right;\">\n",
       "      <th></th>\n",
       "      <th>president_GOP_vote_share</th>\n",
       "      <th>GOP_vote_ratio</th>\n",
       "    </tr>\n",
       "    <tr>\n",
       "      <th>county</th>\n",
       "      <th></th>\n",
       "      <th></th>\n",
       "    </tr>\n",
       "  </thead>\n",
       "  <tbody>\n",
       "    <tr>\n",
       "      <th>Abington</th>\n",
       "      <td>0.438509</td>\n",
       "      <td>0.982816</td>\n",
       "    </tr>\n",
       "    <tr>\n",
       "      <th>Acadia Parish</th>\n",
       "      <td>0.794934</td>\n",
       "      <td>0.097628</td>\n",
       "    </tr>\n",
       "    <tr>\n",
       "      <th>Acton</th>\n",
       "      <td>0.218531</td>\n",
       "      <td>0.808411</td>\n",
       "    </tr>\n",
       "    <tr>\n",
       "      <th>Acworth</th>\n",
       "      <td>0.472759</td>\n",
       "      <td>0.953782</td>\n",
       "    </tr>\n",
       "    <tr>\n",
       "      <th>Adams</th>\n",
       "      <td>0.321549</td>\n",
       "      <td>0.959717</td>\n",
       "    </tr>\n",
       "  </tbody>\n",
       "</table>\n",
       "</div>"
      ],
      "text/plain": [
       "               president_GOP_vote_share  GOP_vote_ratio\n",
       "county                                                 \n",
       "Abington                       0.438509        0.982816\n",
       "Acadia Parish                  0.794934        0.097628\n",
       "Acton                          0.218531        0.808411\n",
       "Acworth                        0.472759        0.953782\n",
       "Adams                          0.321549        0.959717"
      ]
     },
     "execution_count": 110,
     "metadata": {},
     "output_type": "execute_result"
    }
   ],
   "source": [
    "#president_GOP_votes_county_ratio.reset_index()\n",
    "#senate_GOP_vote_ratio.reset_index()\n",
    "\n",
    "merged_president_senate = president_GOP_votes_county_ratio.\\\n",
    "merge(senate_GOP_vote_ratio, on='county', how='inner')\n",
    "merged_president_senate.head()"
   ]
  },
  {
   "cell_type": "code",
   "execution_count": 111,
   "id": "763e074c",
   "metadata": {
    "scrolled": true
   },
   "outputs": [
    {
     "data": {
      "text/html": [
       "<div>\n",
       "<style scoped>\n",
       "    .dataframe tbody tr th:only-of-type {\n",
       "        vertical-align: middle;\n",
       "    }\n",
       "\n",
       "    .dataframe tbody tr th {\n",
       "        vertical-align: top;\n",
       "    }\n",
       "\n",
       "    .dataframe thead th {\n",
       "        text-align: right;\n",
       "    }\n",
       "</style>\n",
       "<table border=\"1\" class=\"dataframe\">\n",
       "  <thead>\n",
       "    <tr style=\"text-align: right;\">\n",
       "      <th></th>\n",
       "      <th>GOP_votes</th>\n",
       "    </tr>\n",
       "    <tr>\n",
       "      <th>state</th>\n",
       "      <th></th>\n",
       "    </tr>\n",
       "  </thead>\n",
       "  <tbody>\n",
       "    <tr>\n",
       "      <th>Alabama’s</th>\n",
       "      <td>1416012</td>\n",
       "    </tr>\n",
       "    <tr>\n",
       "      <th>Alaska</th>\n",
       "      <td>192126</td>\n",
       "    </tr>\n",
       "    <tr>\n",
       "      <th>Arizona’s</th>\n",
       "      <td>1638516</td>\n",
       "    </tr>\n",
       "    <tr>\n",
       "      <th>Arkansas’s</th>\n",
       "      <td>828266</td>\n",
       "    </tr>\n",
       "    <tr>\n",
       "      <th>California’s</th>\n",
       "      <td>5640215</td>\n",
       "    </tr>\n",
       "  </tbody>\n",
       "</table>\n",
       "</div>"
      ],
      "text/plain": [
       "              GOP_votes\n",
       "state                  \n",
       "Alabama’s       1416012\n",
       "Alaska           192126\n",
       "Arizona’s       1638516\n",
       "Arkansas’s       828266\n",
       "California’s    5640215"
      ]
     },
     "execution_count": 111,
     "metadata": {},
     "output_type": "execute_result"
    }
   ],
   "source": [
    "# Finding the Republican house candidate vote share over state\n",
    "\n",
    "#Filter the Republican house candidate \n",
    "house_GOP_state = house_candidate['party'].str.contains('REP')\n",
    "\n",
    "#Find sum of votes from Republican house candidates in each state\n",
    "house_GOP_votes_state = house_candidate[house_GOP_state]. \\\n",
    "groupby('state').sum()['total_votes']\n",
    "house_GOP_votes_state = house_GOP_votes_state.to_frame(). \\\n",
    "rename(columns = {'total_votes': 'GOP_votes'})\n",
    "house_GOP_votes_state.head()\n"
   ]
  },
  {
   "cell_type": "code",
   "execution_count": 112,
   "id": "89c89d13",
   "metadata": {
    "scrolled": true
   },
   "outputs": [
    {
     "data": {
      "text/html": [
       "<div>\n",
       "<style scoped>\n",
       "    .dataframe tbody tr th:only-of-type {\n",
       "        vertical-align: middle;\n",
       "    }\n",
       "\n",
       "    .dataframe tbody tr th {\n",
       "        vertical-align: top;\n",
       "    }\n",
       "\n",
       "    .dataframe thead th {\n",
       "        text-align: right;\n",
       "    }\n",
       "</style>\n",
       "<table border=\"1\" class=\"dataframe\">\n",
       "  <thead>\n",
       "    <tr style=\"text-align: right;\">\n",
       "      <th></th>\n",
       "      <th>Republican_Votes_Share</th>\n",
       "    </tr>\n",
       "    <tr>\n",
       "      <th>state</th>\n",
       "      <th></th>\n",
       "    </tr>\n",
       "  </thead>\n",
       "  <tbody>\n",
       "    <tr>\n",
       "      <th>Alabama’s</th>\n",
       "      <td>0.696442</td>\n",
       "    </tr>\n",
       "    <tr>\n",
       "      <th>Alaska</th>\n",
       "      <td>0.544012</td>\n",
       "    </tr>\n",
       "    <tr>\n",
       "      <th>Arizona’s</th>\n",
       "      <td>0.501344</td>\n",
       "    </tr>\n",
       "    <tr>\n",
       "      <th>Arkansas’s</th>\n",
       "      <td>0.702280</td>\n",
       "    </tr>\n",
       "    <tr>\n",
       "      <th>California’s</th>\n",
       "      <td>0.337254</td>\n",
       "    </tr>\n",
       "  </tbody>\n",
       "</table>\n",
       "</div>"
      ],
      "text/plain": [
       "              Republican_Votes_Share\n",
       "state                               \n",
       "Alabama’s                   0.696442\n",
       "Alaska                      0.544012\n",
       "Arizona’s                   0.501344\n",
       "Arkansas’s                  0.702280\n",
       "California’s                0.337254"
      ]
     },
     "execution_count": 112,
     "metadata": {},
     "output_type": "execute_result"
    }
   ],
   "source": [
    "#Finding Republican vote share in 2020 U.S. House election by state\n",
    "\n",
    "#Calculate the Republican house candidates votes share over state\n",
    "house_GOP_state_ratio = \\\n",
    "house_GOP_votes_state['GOP_votes'] / total_votes_state\n",
    "house_GOP_state_ratio = house_GOP_state_ratio.to_frame().rename \\\n",
    "(columns={0: 'Republican_Votes_Share'})\n",
    "#Remove missing values\n",
    "house_GOP_state_ratio.dropna(inplace=True)\n",
    "house_GOP_state_ratio.head()\n"
   ]
  },
  {
   "cell_type": "code",
   "execution_count": 113,
   "id": "d979bece",
   "metadata": {
    "scrolled": true
   },
   "outputs": [
    {
     "data": {
      "text/html": [
       "<div>\n",
       "<style scoped>\n",
       "    .dataframe tbody tr th:only-of-type {\n",
       "        vertical-align: middle;\n",
       "    }\n",
       "\n",
       "    .dataframe tbody tr th {\n",
       "        vertical-align: top;\n",
       "    }\n",
       "\n",
       "    .dataframe thead th {\n",
       "        text-align: right;\n",
       "    }\n",
       "</style>\n",
       "<table border=\"1\" class=\"dataframe\">\n",
       "  <thead>\n",
       "    <tr style=\"text-align: right;\">\n",
       "      <th></th>\n",
       "      <th>GOP_votes</th>\n",
       "    </tr>\n",
       "    <tr>\n",
       "      <th>state</th>\n",
       "      <th></th>\n",
       "    </tr>\n",
       "  </thead>\n",
       "  <tbody>\n",
       "    <tr>\n",
       "      <th>Alabama</th>\n",
       "      <td>1441168</td>\n",
       "    </tr>\n",
       "    <tr>\n",
       "      <th>Alaska</th>\n",
       "      <td>189892</td>\n",
       "    </tr>\n",
       "    <tr>\n",
       "      <th>Arizona</th>\n",
       "      <td>1661686</td>\n",
       "    </tr>\n",
       "    <tr>\n",
       "      <th>Arkansas</th>\n",
       "      <td>760647</td>\n",
       "    </tr>\n",
       "    <tr>\n",
       "      <th>California</th>\n",
       "      <td>6005961</td>\n",
       "    </tr>\n",
       "  </tbody>\n",
       "</table>\n",
       "</div>"
      ],
      "text/plain": [
       "            GOP_votes\n",
       "state                \n",
       "Alabama       1441168\n",
       "Alaska         189892\n",
       "Arizona       1661686\n",
       "Arkansas       760647\n",
       "California    6005961"
      ]
     },
     "execution_count": 113,
     "metadata": {},
     "output_type": "execute_result"
    }
   ],
   "source": [
    "#Finding Republican vote share in 2020 U.S. presidential election by state\n",
    "\n",
    "president_total_votes_state = president_county_candidates.groupby('state').sum('total_votes')\n",
    "president_total_votes_state\n",
    "\n",
    "president_GOP_state = president_county_candidates['party'].str.contains('REP')\n",
    "president_GOP_state = president_GOP_state.to_frame()\n",
    "\n",
    "president_GOP_votes_state = \\\n",
    "president_county_candidates \\\n",
    "[president_GOP_state['party']].groupby('state').sum()['total_votes']\n",
    "president_GOP_votes_state = president_GOP_votes_state.to_frame().rename(columns = {'total_votes': 'GOP_votes'})\n",
    "president_GOP_votes_state.head()\n",
    "\n"
   ]
  },
  {
   "cell_type": "code",
   "execution_count": 114,
   "id": "6d0c15c4",
   "metadata": {
    "scrolled": true
   },
   "outputs": [
    {
     "data": {
      "text/html": [
       "<div>\n",
       "<style scoped>\n",
       "    .dataframe tbody tr th:only-of-type {\n",
       "        vertical-align: middle;\n",
       "    }\n",
       "\n",
       "    .dataframe tbody tr th {\n",
       "        vertical-align: top;\n",
       "    }\n",
       "\n",
       "    .dataframe thead th {\n",
       "        text-align: right;\n",
       "    }\n",
       "</style>\n",
       "<table border=\"1\" class=\"dataframe\">\n",
       "  <thead>\n",
       "    <tr style=\"text-align: right;\">\n",
       "      <th></th>\n",
       "      <th>GOP_vote_ratio</th>\n",
       "    </tr>\n",
       "    <tr>\n",
       "      <th>state</th>\n",
       "      <th></th>\n",
       "    </tr>\n",
       "  </thead>\n",
       "  <tbody>\n",
       "    <tr>\n",
       "      <th>Alabama</th>\n",
       "      <td>0.620310</td>\n",
       "    </tr>\n",
       "    <tr>\n",
       "      <th>Alaska</th>\n",
       "      <td>0.485228</td>\n",
       "    </tr>\n",
       "    <tr>\n",
       "      <th>Arizona</th>\n",
       "      <td>0.490560</td>\n",
       "    </tr>\n",
       "    <tr>\n",
       "      <th>Arkansas</th>\n",
       "      <td>0.623957</td>\n",
       "    </tr>\n",
       "    <tr>\n",
       "      <th>California</th>\n",
       "      <td>0.343278</td>\n",
       "    </tr>\n",
       "  </tbody>\n",
       "</table>\n",
       "</div>"
      ],
      "text/plain": [
       "            GOP_vote_ratio\n",
       "state                     \n",
       "Alabama           0.620310\n",
       "Alaska            0.485228\n",
       "Arizona           0.490560\n",
       "Arkansas          0.623957\n",
       "California        0.343278"
      ]
     },
     "execution_count": 114,
     "metadata": {},
     "output_type": "execute_result"
    }
   ],
   "source": [
    "#Calculate the Republican presidential candidates votes share by state\n",
    "president_GOP_votes_state_ratio = \\\n",
    "pd.DataFrame({'GOP_vote_ratio': president_GOP_votes_state[\"GOP_votes\"]/president_total_votes_state[\"total_votes\"]})\n",
    "president_GOP_votes_state_ratio.head()"
   ]
  },
  {
   "cell_type": "code",
   "execution_count": 115,
   "id": "0b0a7849",
   "metadata": {
    "scrolled": true
   },
   "outputs": [
    {
     "data": {
      "text/html": [
       "<div>\n",
       "<style scoped>\n",
       "    .dataframe tbody tr th:only-of-type {\n",
       "        vertical-align: middle;\n",
       "    }\n",
       "\n",
       "    .dataframe tbody tr th {\n",
       "        vertical-align: top;\n",
       "    }\n",
       "\n",
       "    .dataframe thead th {\n",
       "        text-align: right;\n",
       "    }\n",
       "</style>\n",
       "<table border=\"1\" class=\"dataframe\">\n",
       "  <thead>\n",
       "    <tr style=\"text-align: right;\">\n",
       "      <th></th>\n",
       "      <th>state</th>\n",
       "      <th>Republican_Votes_Share</th>\n",
       "    </tr>\n",
       "  </thead>\n",
       "  <tbody>\n",
       "    <tr>\n",
       "      <th>0</th>\n",
       "      <td>Alabama’s</td>\n",
       "      <td>0.696442</td>\n",
       "    </tr>\n",
       "    <tr>\n",
       "      <th>1</th>\n",
       "      <td>Alaska</td>\n",
       "      <td>0.544012</td>\n",
       "    </tr>\n",
       "    <tr>\n",
       "      <th>2</th>\n",
       "      <td>Arizona’s</td>\n",
       "      <td>0.501344</td>\n",
       "    </tr>\n",
       "    <tr>\n",
       "      <th>3</th>\n",
       "      <td>Arkansas’s</td>\n",
       "      <td>0.702280</td>\n",
       "    </tr>\n",
       "    <tr>\n",
       "      <th>4</th>\n",
       "      <td>California’s</td>\n",
       "      <td>0.337254</td>\n",
       "    </tr>\n",
       "  </tbody>\n",
       "</table>\n",
       "</div>"
      ],
      "text/plain": [
       "          state  Republican_Votes_Share\n",
       "0     Alabama’s                0.696442\n",
       "1        Alaska                0.544012\n",
       "2     Arizona’s                0.501344\n",
       "3    Arkansas’s                0.702280\n",
       "4  California’s                0.337254"
      ]
     },
     "execution_count": 115,
     "metadata": {},
     "output_type": "execute_result"
    }
   ],
   "source": [
    "#Organize table of Republican vote share in states\n",
    "house_GOP_state_ratio_2 = house_GOP_state_ratio.reset_index()\n",
    "house_GOP_state_ratio_2.head()"
   ]
  },
  {
   "cell_type": "code",
   "execution_count": 116,
   "id": "5c52dbf4",
   "metadata": {
    "scrolled": true
   },
   "outputs": [
    {
     "data": {
      "text/html": [
       "<div>\n",
       "<style scoped>\n",
       "    .dataframe tbody tr th:only-of-type {\n",
       "        vertical-align: middle;\n",
       "    }\n",
       "\n",
       "    .dataframe tbody tr th {\n",
       "        vertical-align: top;\n",
       "    }\n",
       "\n",
       "    .dataframe thead th {\n",
       "        text-align: right;\n",
       "    }\n",
       "</style>\n",
       "<table border=\"1\" class=\"dataframe\">\n",
       "  <thead>\n",
       "    <tr style=\"text-align: right;\">\n",
       "      <th></th>\n",
       "      <th>state</th>\n",
       "      <th>GOP_vote_ratio</th>\n",
       "    </tr>\n",
       "  </thead>\n",
       "  <tbody>\n",
       "    <tr>\n",
       "      <th>0</th>\n",
       "      <td>Alab</td>\n",
       "      <td>0.620310</td>\n",
       "    </tr>\n",
       "    <tr>\n",
       "      <th>1</th>\n",
       "      <td>Alas</td>\n",
       "      <td>0.485228</td>\n",
       "    </tr>\n",
       "    <tr>\n",
       "      <th>2</th>\n",
       "      <td>Ariz</td>\n",
       "      <td>0.490560</td>\n",
       "    </tr>\n",
       "    <tr>\n",
       "      <th>3</th>\n",
       "      <td>Arka</td>\n",
       "      <td>0.623957</td>\n",
       "    </tr>\n",
       "    <tr>\n",
       "      <th>4</th>\n",
       "      <td>Cali</td>\n",
       "      <td>0.343278</td>\n",
       "    </tr>\n",
       "  </tbody>\n",
       "</table>\n",
       "</div>"
      ],
      "text/plain": [
       "  state  GOP_vote_ratio\n",
       "0  Alab        0.620310\n",
       "1  Alas        0.485228\n",
       "2  Ariz        0.490560\n",
       "3  Arka        0.623957\n",
       "4  Cali        0.343278"
      ]
     },
     "execution_count": 116,
     "metadata": {},
     "output_type": "execute_result"
    }
   ],
   "source": [
    "table_senate = president_GOP_votes_state_ratio.reset_index()\n",
    "\n",
    "table_senate['state']=table_senate['state'].str[:4]\n",
    "table_senate.head()"
   ]
  },
  {
   "cell_type": "code",
   "execution_count": 117,
   "id": "db4c98de",
   "metadata": {
    "scrolled": true
   },
   "outputs": [
    {
     "data": {
      "text/html": [
       "<div>\n",
       "<style scoped>\n",
       "    .dataframe tbody tr th:only-of-type {\n",
       "        vertical-align: middle;\n",
       "    }\n",
       "\n",
       "    .dataframe tbody tr th {\n",
       "        vertical-align: top;\n",
       "    }\n",
       "\n",
       "    .dataframe thead th {\n",
       "        text-align: right;\n",
       "    }\n",
       "</style>\n",
       "<table border=\"1\" class=\"dataframe\">\n",
       "  <thead>\n",
       "    <tr style=\"text-align: right;\">\n",
       "      <th></th>\n",
       "      <th>state</th>\n",
       "      <th>Republican_Votes_Share</th>\n",
       "    </tr>\n",
       "  </thead>\n",
       "  <tbody>\n",
       "    <tr>\n",
       "      <th>0</th>\n",
       "      <td>Alab</td>\n",
       "      <td>0.696442</td>\n",
       "    </tr>\n",
       "    <tr>\n",
       "      <th>1</th>\n",
       "      <td>Alas</td>\n",
       "      <td>0.544012</td>\n",
       "    </tr>\n",
       "    <tr>\n",
       "      <th>2</th>\n",
       "      <td>Ariz</td>\n",
       "      <td>0.501344</td>\n",
       "    </tr>\n",
       "    <tr>\n",
       "      <th>3</th>\n",
       "      <td>Arka</td>\n",
       "      <td>0.702280</td>\n",
       "    </tr>\n",
       "    <tr>\n",
       "      <th>4</th>\n",
       "      <td>Cali</td>\n",
       "      <td>0.337254</td>\n",
       "    </tr>\n",
       "  </tbody>\n",
       "</table>\n",
       "</div>"
      ],
      "text/plain": [
       "  state  Republican_Votes_Share\n",
       "0  Alab                0.696442\n",
       "1  Alas                0.544012\n",
       "2  Ariz                0.501344\n",
       "3  Arka                0.702280\n",
       "4  Cali                0.337254"
      ]
     },
     "execution_count": 117,
     "metadata": {},
     "output_type": "execute_result"
    }
   ],
   "source": [
    "table_house = house_GOP_state_ratio_2\n",
    "\n",
    "table_house['state']=table_house['state'].str[:4]\n",
    "table_house.head()"
   ]
  },
  {
   "cell_type": "code",
   "execution_count": 118,
   "id": "c6fbd491",
   "metadata": {
    "scrolled": true
   },
   "outputs": [
    {
     "data": {
      "text/html": [
       "<div>\n",
       "<style scoped>\n",
       "    .dataframe tbody tr th:only-of-type {\n",
       "        vertical-align: middle;\n",
       "    }\n",
       "\n",
       "    .dataframe tbody tr th {\n",
       "        vertical-align: top;\n",
       "    }\n",
       "\n",
       "    .dataframe thead th {\n",
       "        text-align: right;\n",
       "    }\n",
       "</style>\n",
       "<table border=\"1\" class=\"dataframe\">\n",
       "  <thead>\n",
       "    <tr style=\"text-align: right;\">\n",
       "      <th></th>\n",
       "      <th>state</th>\n",
       "      <th>Republican_Votes_Share</th>\n",
       "      <th>GOP_vote_ratio</th>\n",
       "    </tr>\n",
       "  </thead>\n",
       "  <tbody>\n",
       "    <tr>\n",
       "      <th>0</th>\n",
       "      <td>Alab</td>\n",
       "      <td>0.696442</td>\n",
       "      <td>0.620310</td>\n",
       "    </tr>\n",
       "    <tr>\n",
       "      <th>1</th>\n",
       "      <td>Alas</td>\n",
       "      <td>0.544012</td>\n",
       "      <td>0.485228</td>\n",
       "    </tr>\n",
       "    <tr>\n",
       "      <th>2</th>\n",
       "      <td>Ariz</td>\n",
       "      <td>0.501344</td>\n",
       "      <td>0.490560</td>\n",
       "    </tr>\n",
       "    <tr>\n",
       "      <th>3</th>\n",
       "      <td>Arka</td>\n",
       "      <td>0.702280</td>\n",
       "      <td>0.623957</td>\n",
       "    </tr>\n",
       "    <tr>\n",
       "      <th>4</th>\n",
       "      <td>Cali</td>\n",
       "      <td>0.337254</td>\n",
       "      <td>0.343278</td>\n",
       "    </tr>\n",
       "  </tbody>\n",
       "</table>\n",
       "</div>"
      ],
      "text/plain": [
       "  state  Republican_Votes_Share  GOP_vote_ratio\n",
       "0  Alab                0.696442        0.620310\n",
       "1  Alas                0.544012        0.485228\n",
       "2  Ariz                0.501344        0.490560\n",
       "3  Arka                0.702280        0.623957\n",
       "4  Cali                0.337254        0.343278"
      ]
     },
     "execution_count": 118,
     "metadata": {},
     "output_type": "execute_result"
    }
   ],
   "source": [
    "merged_president_house  = pd.merge(table_house, table_senate, on='state')\n",
    "merged_president_house = merged_president_house.loc[:, ['state', 'Republican_Votes_Share', 'GOP_vote_ratio']]\n",
    "merged_president_house.head()"
   ]
  },
  {
   "cell_type": "code",
   "execution_count": 119,
   "id": "6eec47fe",
   "metadata": {
    "scrolled": true
   },
   "outputs": [
    {
     "data": {
      "text/html": [
       "<div>\n",
       "<style scoped>\n",
       "    .dataframe tbody tr th:only-of-type {\n",
       "        vertical-align: middle;\n",
       "    }\n",
       "\n",
       "    .dataframe tbody tr th {\n",
       "        vertical-align: top;\n",
       "    }\n",
       "\n",
       "    .dataframe thead th {\n",
       "        text-align: right;\n",
       "    }\n",
       "</style>\n",
       "<table border=\"1\" class=\"dataframe\">\n",
       "  <thead>\n",
       "    <tr style=\"text-align: right;\">\n",
       "      <th></th>\n",
       "      <th>Republican_Votes_Share</th>\n",
       "    </tr>\n",
       "    <tr>\n",
       "      <th>state</th>\n",
       "      <th></th>\n",
       "    </tr>\n",
       "  </thead>\n",
       "  <tbody>\n",
       "    <tr>\n",
       "      <th>Alabama’s</th>\n",
       "      <td>0.696442</td>\n",
       "    </tr>\n",
       "    <tr>\n",
       "      <th>Alaska</th>\n",
       "      <td>0.544012</td>\n",
       "    </tr>\n",
       "    <tr>\n",
       "      <th>Arizona’s</th>\n",
       "      <td>0.501344</td>\n",
       "    </tr>\n",
       "    <tr>\n",
       "      <th>Arkansas’s</th>\n",
       "      <td>0.702280</td>\n",
       "    </tr>\n",
       "    <tr>\n",
       "      <th>California’s</th>\n",
       "      <td>0.337254</td>\n",
       "    </tr>\n",
       "  </tbody>\n",
       "</table>\n",
       "</div>"
      ],
      "text/plain": [
       "              Republican_Votes_Share\n",
       "state                               \n",
       "Alabama’s                   0.696442\n",
       "Alaska                      0.544012\n",
       "Arizona’s                   0.501344\n",
       "Arkansas’s                  0.702280\n",
       "California’s                0.337254"
      ]
     },
     "execution_count": 119,
     "metadata": {},
     "output_type": "execute_result"
    }
   ],
   "source": [
    "#Finding Republican vote share in 2020 U.S. House election by state\n",
    "\n",
    "#Calculate the Republican house candidates votes share over state\n",
    "house_GOP_state_ratio = \\\n",
    "house_GOP_votes_state['GOP_votes'] / total_votes_state\n",
    "house_GOP_state_ratio = house_GOP_state_ratio.to_frame().rename \\\n",
    "(columns={0: 'Republican_Votes_Share'})\n",
    "#Remove missing values\n",
    "house_GOP_state_ratio.dropna(inplace=True)\n",
    "house_GOP_state_ratio.head()\n",
    "\n"
   ]
  },
  {
   "cell_type": "code",
   "execution_count": 120,
   "id": "d7339331",
   "metadata": {
    "scrolled": true
   },
   "outputs": [
    {
     "data": {
      "text/html": [
       "<div>\n",
       "<style scoped>\n",
       "    .dataframe tbody tr th:only-of-type {\n",
       "        vertical-align: middle;\n",
       "    }\n",
       "\n",
       "    .dataframe tbody tr th {\n",
       "        vertical-align: top;\n",
       "    }\n",
       "\n",
       "    .dataframe thead th {\n",
       "        text-align: right;\n",
       "    }\n",
       "</style>\n",
       "<table border=\"1\" class=\"dataframe\">\n",
       "  <thead>\n",
       "    <tr style=\"text-align: right;\">\n",
       "      <th></th>\n",
       "      <th>state</th>\n",
       "      <th>Republican_Votes_Share</th>\n",
       "    </tr>\n",
       "  </thead>\n",
       "  <tbody>\n",
       "    <tr>\n",
       "      <th>0</th>\n",
       "      <td>Alabama’s</td>\n",
       "      <td>0.696442</td>\n",
       "    </tr>\n",
       "    <tr>\n",
       "      <th>1</th>\n",
       "      <td>Alaska</td>\n",
       "      <td>0.544012</td>\n",
       "    </tr>\n",
       "    <tr>\n",
       "      <th>2</th>\n",
       "      <td>Arizona’s</td>\n",
       "      <td>0.501344</td>\n",
       "    </tr>\n",
       "    <tr>\n",
       "      <th>3</th>\n",
       "      <td>Arkansas’s</td>\n",
       "      <td>0.702280</td>\n",
       "    </tr>\n",
       "    <tr>\n",
       "      <th>4</th>\n",
       "      <td>California’s</td>\n",
       "      <td>0.337254</td>\n",
       "    </tr>\n",
       "  </tbody>\n",
       "</table>\n",
       "</div>"
      ],
      "text/plain": [
       "          state  Republican_Votes_Share\n",
       "0     Alabama’s                0.696442\n",
       "1        Alaska                0.544012\n",
       "2     Arizona’s                0.501344\n",
       "3    Arkansas’s                0.702280\n",
       "4  California’s                0.337254"
      ]
     },
     "execution_count": 120,
     "metadata": {},
     "output_type": "execute_result"
    }
   ],
   "source": [
    "house_GOP_state_ratio_2 = house_GOP_state_ratio.reset_index()\n",
    "house_GOP_state_ratio_2.head()"
   ]
  },
  {
   "cell_type": "code",
   "execution_count": 121,
   "id": "61f957d6",
   "metadata": {
    "scrolled": true
   },
   "outputs": [
    {
     "data": {
      "text/html": [
       "<div>\n",
       "<style scoped>\n",
       "    .dataframe tbody tr th:only-of-type {\n",
       "        vertical-align: middle;\n",
       "    }\n",
       "\n",
       "    .dataframe tbody tr th {\n",
       "        vertical-align: top;\n",
       "    }\n",
       "\n",
       "    .dataframe thead th {\n",
       "        text-align: right;\n",
       "    }\n",
       "</style>\n",
       "<table border=\"1\" class=\"dataframe\">\n",
       "  <thead>\n",
       "    <tr style=\"text-align: right;\">\n",
       "      <th></th>\n",
       "      <th>country_code</th>\n",
       "      <th>latitude</th>\n",
       "      <th>longitude</th>\n",
       "      <th>country</th>\n",
       "      <th>usa_state_code</th>\n",
       "      <th>usa_state_latitude</th>\n",
       "      <th>usa_state_longitude</th>\n",
       "      <th>state</th>\n",
       "    </tr>\n",
       "  </thead>\n",
       "  <tbody>\n",
       "    <tr>\n",
       "      <th>0</th>\n",
       "      <td>AD</td>\n",
       "      <td>42.546245</td>\n",
       "      <td>1.601554</td>\n",
       "      <td>Andorra</td>\n",
       "      <td>AK</td>\n",
       "      <td>63.588753</td>\n",
       "      <td>-154.493062</td>\n",
       "      <td>Alas</td>\n",
       "    </tr>\n",
       "    <tr>\n",
       "      <th>1</th>\n",
       "      <td>AE</td>\n",
       "      <td>23.424076</td>\n",
       "      <td>53.847818</td>\n",
       "      <td>United Arab Emirates</td>\n",
       "      <td>AL</td>\n",
       "      <td>32.318231</td>\n",
       "      <td>-86.902298</td>\n",
       "      <td>Alab</td>\n",
       "    </tr>\n",
       "    <tr>\n",
       "      <th>2</th>\n",
       "      <td>AF</td>\n",
       "      <td>33.939110</td>\n",
       "      <td>67.709953</td>\n",
       "      <td>Afghanistan</td>\n",
       "      <td>AR</td>\n",
       "      <td>35.201050</td>\n",
       "      <td>-91.831833</td>\n",
       "      <td>Arka</td>\n",
       "    </tr>\n",
       "    <tr>\n",
       "      <th>3</th>\n",
       "      <td>AG</td>\n",
       "      <td>17.060816</td>\n",
       "      <td>-61.796428</td>\n",
       "      <td>Antigua and Barbuda</td>\n",
       "      <td>AZ</td>\n",
       "      <td>34.048928</td>\n",
       "      <td>-111.093731</td>\n",
       "      <td>Ariz</td>\n",
       "    </tr>\n",
       "    <tr>\n",
       "      <th>4</th>\n",
       "      <td>AI</td>\n",
       "      <td>18.220554</td>\n",
       "      <td>-63.068615</td>\n",
       "      <td>Anguilla</td>\n",
       "      <td>CA</td>\n",
       "      <td>36.778261</td>\n",
       "      <td>-119.417932</td>\n",
       "      <td>Cali</td>\n",
       "    </tr>\n",
       "  </tbody>\n",
       "</table>\n",
       "</div>"
      ],
      "text/plain": [
       "  country_code   latitude  longitude               country usa_state_code  \\\n",
       "0           AD  42.546245   1.601554               Andorra             AK   \n",
       "1           AE  23.424076  53.847818  United Arab Emirates             AL   \n",
       "2           AF  33.939110  67.709953           Afghanistan             AR   \n",
       "3           AG  17.060816 -61.796428   Antigua and Barbuda             AZ   \n",
       "4           AI  18.220554 -63.068615              Anguilla             CA   \n",
       "\n",
       "   usa_state_latitude  usa_state_longitude state  \n",
       "0           63.588753          -154.493062  Alas  \n",
       "1           32.318231           -86.902298  Alab  \n",
       "2           35.201050           -91.831833  Arka  \n",
       "3           34.048928          -111.093731  Ariz  \n",
       "4           36.778261          -119.417932  Cali  "
      ]
     },
     "execution_count": 121,
     "metadata": {},
     "output_type": "execute_result"
    }
   ],
   "source": [
    "world_table = world_country_and_usa_states_latitude_and_longitude_values.copy().dropna()\n",
    "world_table['usa_state']=world_table['usa_state'].str[:4]\n",
    "world_table=world_table.rename(columns={'usa_state':'state'})\n",
    "world_table.head()"
   ]
  },
  {
   "cell_type": "code",
   "execution_count": 122,
   "id": "25b7660d",
   "metadata": {
    "scrolled": true
   },
   "outputs": [
    {
     "data": {
      "text/html": [
       "<div>\n",
       "<style scoped>\n",
       "    .dataframe tbody tr th:only-of-type {\n",
       "        vertical-align: middle;\n",
       "    }\n",
       "\n",
       "    .dataframe tbody tr th {\n",
       "        vertical-align: top;\n",
       "    }\n",
       "\n",
       "    .dataframe thead th {\n",
       "        text-align: right;\n",
       "    }\n",
       "</style>\n",
       "<table border=\"1\" class=\"dataframe\">\n",
       "  <thead>\n",
       "    <tr style=\"text-align: right;\">\n",
       "      <th></th>\n",
       "      <th>state_y</th>\n",
       "      <th>Republican_Votes_Share</th>\n",
       "      <th>GOP_vote_ratio</th>\n",
       "    </tr>\n",
       "  </thead>\n",
       "  <tbody>\n",
       "    <tr>\n",
       "      <th>0</th>\n",
       "      <td>Alabama’s</td>\n",
       "      <td>0.696442</td>\n",
       "      <td>0.620310</td>\n",
       "    </tr>\n",
       "    <tr>\n",
       "      <th>1</th>\n",
       "      <td>Alaska</td>\n",
       "      <td>0.544012</td>\n",
       "      <td>0.485228</td>\n",
       "    </tr>\n",
       "    <tr>\n",
       "      <th>2</th>\n",
       "      <td>Arizona’s</td>\n",
       "      <td>0.501344</td>\n",
       "      <td>0.490560</td>\n",
       "    </tr>\n",
       "    <tr>\n",
       "      <th>3</th>\n",
       "      <td>Arkansas’s</td>\n",
       "      <td>0.702280</td>\n",
       "      <td>0.623957</td>\n",
       "    </tr>\n",
       "    <tr>\n",
       "      <th>4</th>\n",
       "      <td>California’s</td>\n",
       "      <td>0.337254</td>\n",
       "      <td>0.343278</td>\n",
       "    </tr>\n",
       "  </tbody>\n",
       "</table>\n",
       "</div>"
      ],
      "text/plain": [
       "        state_y  Republican_Votes_Share  GOP_vote_ratio\n",
       "0     Alabama’s                0.696442        0.620310\n",
       "1        Alaska                0.544012        0.485228\n",
       "2     Arizona’s                0.501344        0.490560\n",
       "3    Arkansas’s                0.702280        0.623957\n",
       "4  California’s                0.337254        0.343278"
      ]
     },
     "execution_count": 122,
     "metadata": {},
     "output_type": "execute_result"
    }
   ],
   "source": [
    "merged_final = pd.merge(merged_president_house,house_GOP_state_ratio_2, on = 'Republican_Votes_Share' )\n",
    "merged_final = merged_final.loc[:, [ 'state_y', 'Republican_Votes_Share', 'GOP_vote_ratio']]\n",
    "merged_final.head()"
   ]
  },
  {
   "cell_type": "code",
   "execution_count": 123,
   "id": "efd2ee9c",
   "metadata": {
    "scrolled": true
   },
   "outputs": [
    {
     "data": {
      "text/html": [
       "<div>\n",
       "<style scoped>\n",
       "    .dataframe tbody tr th:only-of-type {\n",
       "        vertical-align: middle;\n",
       "    }\n",
       "\n",
       "    .dataframe tbody tr th {\n",
       "        vertical-align: top;\n",
       "    }\n",
       "\n",
       "    .dataframe thead th {\n",
       "        text-align: right;\n",
       "    }\n",
       "</style>\n",
       "<table border=\"1\" class=\"dataframe\">\n",
       "  <thead>\n",
       "    <tr style=\"text-align: right;\">\n",
       "      <th></th>\n",
       "      <th>Republican_Votes_Share</th>\n",
       "    </tr>\n",
       "    <tr>\n",
       "      <th>state</th>\n",
       "      <th></th>\n",
       "    </tr>\n",
       "  </thead>\n",
       "  <tbody>\n",
       "    <tr>\n",
       "      <th>Alabama’s</th>\n",
       "      <td>0.696442</td>\n",
       "    </tr>\n",
       "    <tr>\n",
       "      <th>Alaska</th>\n",
       "      <td>0.544012</td>\n",
       "    </tr>\n",
       "    <tr>\n",
       "      <th>Arizona’s</th>\n",
       "      <td>0.501344</td>\n",
       "    </tr>\n",
       "    <tr>\n",
       "      <th>Arkansas’s</th>\n",
       "      <td>0.702280</td>\n",
       "    </tr>\n",
       "    <tr>\n",
       "      <th>California’s</th>\n",
       "      <td>0.337254</td>\n",
       "    </tr>\n",
       "  </tbody>\n",
       "</table>\n",
       "</div>"
      ],
      "text/plain": [
       "              Republican_Votes_Share\n",
       "state                               \n",
       "Alabama’s                   0.696442\n",
       "Alaska                      0.544012\n",
       "Arizona’s                   0.501344\n",
       "Arkansas’s                  0.702280\n",
       "California’s                0.337254"
      ]
     },
     "execution_count": 123,
     "metadata": {},
     "output_type": "execute_result"
    }
   ],
   "source": [
    "#Finding Republican vote share in 2020 U.S. House election by state\n",
    "\n",
    "#Calculate the Republican house candidates votes share by state\n",
    "house_GOP_state_ratio = \\\n",
    "house_GOP_votes_state['GOP_votes'] / total_votes_state\n",
    "house_GOP_state_ratio = house_GOP_state_ratio.to_frame().rename \\\n",
    "(columns={0: 'Republican_Votes_Share'})\n",
    "#Remove missing values\n",
    "house_GOP_state_ratio.dropna(inplace=True)\n",
    "house_GOP_state_ratio.head()"
   ]
  },
  {
   "cell_type": "code",
   "execution_count": 124,
   "id": "39fe2b4b",
   "metadata": {
    "scrolled": true
   },
   "outputs": [
    {
     "data": {
      "text/html": [
       "<div>\n",
       "<style scoped>\n",
       "    .dataframe tbody tr th:only-of-type {\n",
       "        vertical-align: middle;\n",
       "    }\n",
       "\n",
       "    .dataframe tbody tr th {\n",
       "        vertical-align: top;\n",
       "    }\n",
       "\n",
       "    .dataframe thead th {\n",
       "        text-align: right;\n",
       "    }\n",
       "</style>\n",
       "<table border=\"1\" class=\"dataframe\">\n",
       "  <thead>\n",
       "    <tr style=\"text-align: right;\">\n",
       "      <th></th>\n",
       "      <th>state</th>\n",
       "      <th>Republican_Votes_Share</th>\n",
       "    </tr>\n",
       "  </thead>\n",
       "  <tbody>\n",
       "    <tr>\n",
       "      <th>0</th>\n",
       "      <td>Alab</td>\n",
       "      <td>0.696442</td>\n",
       "    </tr>\n",
       "    <tr>\n",
       "      <th>1</th>\n",
       "      <td>Alas</td>\n",
       "      <td>0.544012</td>\n",
       "    </tr>\n",
       "    <tr>\n",
       "      <th>2</th>\n",
       "      <td>Ariz</td>\n",
       "      <td>0.501344</td>\n",
       "    </tr>\n",
       "    <tr>\n",
       "      <th>3</th>\n",
       "      <td>Arka</td>\n",
       "      <td>0.702280</td>\n",
       "    </tr>\n",
       "    <tr>\n",
       "      <th>4</th>\n",
       "      <td>Cali</td>\n",
       "      <td>0.337254</td>\n",
       "    </tr>\n",
       "  </tbody>\n",
       "</table>\n",
       "</div>"
      ],
      "text/plain": [
       "  state  Republican_Votes_Share\n",
       "0  Alab                0.696442\n",
       "1  Alas                0.544012\n",
       "2  Ariz                0.501344\n",
       "3  Arka                0.702280\n",
       "4  Cali                0.337254"
      ]
     },
     "execution_count": 124,
     "metadata": {},
     "output_type": "execute_result"
    }
   ],
   "source": [
    "house_GOP_state_ratio_use_for_merge = house_GOP_state_ratio.reset_index()\n",
    "house_GOP_state_ratio_use_for_merge['state'] = house_GOP_state_ratio_use_for_merge['state'].str[:4]\n",
    "house_GOP_state_ratio_use_for_merge=house_GOP_state_ratio_use_for_merge.rename(columns={'state': 'state'})\n",
    "house_GOP_state_ratio_use_for_merge.head()"
   ]
  },
  {
   "cell_type": "code",
   "execution_count": 125,
   "id": "15d3aae3",
   "metadata": {
    "scrolled": true
   },
   "outputs": [
    {
     "data": {
      "text/html": [
       "<div>\n",
       "<style scoped>\n",
       "    .dataframe tbody tr th:only-of-type {\n",
       "        vertical-align: middle;\n",
       "    }\n",
       "\n",
       "    .dataframe tbody tr th {\n",
       "        vertical-align: top;\n",
       "    }\n",
       "\n",
       "    .dataframe thead th {\n",
       "        text-align: right;\n",
       "    }\n",
       "</style>\n",
       "<table border=\"1\" class=\"dataframe\">\n",
       "  <thead>\n",
       "    <tr style=\"text-align: right;\">\n",
       "      <th></th>\n",
       "      <th>state</th>\n",
       "      <th>Republican_Votes_Share</th>\n",
       "      <th>GOP_vote_ratio</th>\n",
       "    </tr>\n",
       "  </thead>\n",
       "  <tbody>\n",
       "    <tr>\n",
       "      <th>0</th>\n",
       "      <td>Alabama’s</td>\n",
       "      <td>0.696442</td>\n",
       "      <td>0.620310</td>\n",
       "    </tr>\n",
       "    <tr>\n",
       "      <th>1</th>\n",
       "      <td>Alaska</td>\n",
       "      <td>0.544012</td>\n",
       "      <td>0.485228</td>\n",
       "    </tr>\n",
       "    <tr>\n",
       "      <th>2</th>\n",
       "      <td>Arizona’s</td>\n",
       "      <td>0.501344</td>\n",
       "      <td>0.490560</td>\n",
       "    </tr>\n",
       "    <tr>\n",
       "      <th>3</th>\n",
       "      <td>Arkansas’s</td>\n",
       "      <td>0.702280</td>\n",
       "      <td>0.623957</td>\n",
       "    </tr>\n",
       "    <tr>\n",
       "      <th>4</th>\n",
       "      <td>California’s</td>\n",
       "      <td>0.337254</td>\n",
       "      <td>0.343278</td>\n",
       "    </tr>\n",
       "  </tbody>\n",
       "</table>\n",
       "</div>"
      ],
      "text/plain": [
       "          state  Republican_Votes_Share  GOP_vote_ratio\n",
       "0     Alabama’s                0.696442        0.620310\n",
       "1        Alaska                0.544012        0.485228\n",
       "2     Arizona’s                0.501344        0.490560\n",
       "3    Arkansas’s                0.702280        0.623957\n",
       "4  California’s                0.337254        0.343278"
      ]
     },
     "execution_count": 125,
     "metadata": {},
     "output_type": "execute_result"
    }
   ],
   "source": [
    "merged_final = merged_final.rename(columns={'state_y':'state'})\n",
    "merged_final.head()"
   ]
  },
  {
   "cell_type": "code",
   "execution_count": 126,
   "id": "57f0c79d",
   "metadata": {
    "scrolled": true
   },
   "outputs": [
    {
     "data": {
      "text/html": [
       "<div>\n",
       "<style scoped>\n",
       "    .dataframe tbody tr th:only-of-type {\n",
       "        vertical-align: middle;\n",
       "    }\n",
       "\n",
       "    .dataframe tbody tr th {\n",
       "        vertical-align: top;\n",
       "    }\n",
       "\n",
       "    .dataframe thead th {\n",
       "        text-align: right;\n",
       "    }\n",
       "</style>\n",
       "<table border=\"1\" class=\"dataframe\">\n",
       "  <thead>\n",
       "    <tr style=\"text-align: right;\">\n",
       "      <th></th>\n",
       "      <th>country_code</th>\n",
       "      <th>latitude</th>\n",
       "      <th>longitude</th>\n",
       "      <th>country</th>\n",
       "      <th>usa_state_code</th>\n",
       "      <th>usa_state_latitude</th>\n",
       "      <th>usa_state_longitude</th>\n",
       "      <th>state</th>\n",
       "      <th>Republican_Votes_Share</th>\n",
       "    </tr>\n",
       "  </thead>\n",
       "  <tbody>\n",
       "    <tr>\n",
       "      <th>0</th>\n",
       "      <td>AD</td>\n",
       "      <td>42.546245</td>\n",
       "      <td>1.601554</td>\n",
       "      <td>Andorra</td>\n",
       "      <td>AK</td>\n",
       "      <td>63.588753</td>\n",
       "      <td>-154.493062</td>\n",
       "      <td>Alas</td>\n",
       "      <td>0.544012</td>\n",
       "    </tr>\n",
       "    <tr>\n",
       "      <th>1</th>\n",
       "      <td>AE</td>\n",
       "      <td>23.424076</td>\n",
       "      <td>53.847818</td>\n",
       "      <td>United Arab Emirates</td>\n",
       "      <td>AL</td>\n",
       "      <td>32.318231</td>\n",
       "      <td>-86.902298</td>\n",
       "      <td>Alab</td>\n",
       "      <td>0.696442</td>\n",
       "    </tr>\n",
       "    <tr>\n",
       "      <th>2</th>\n",
       "      <td>AF</td>\n",
       "      <td>33.939110</td>\n",
       "      <td>67.709953</td>\n",
       "      <td>Afghanistan</td>\n",
       "      <td>AR</td>\n",
       "      <td>35.201050</td>\n",
       "      <td>-91.831833</td>\n",
       "      <td>Arka</td>\n",
       "      <td>0.702280</td>\n",
       "    </tr>\n",
       "    <tr>\n",
       "      <th>3</th>\n",
       "      <td>AG</td>\n",
       "      <td>17.060816</td>\n",
       "      <td>-61.796428</td>\n",
       "      <td>Antigua and Barbuda</td>\n",
       "      <td>AZ</td>\n",
       "      <td>34.048928</td>\n",
       "      <td>-111.093731</td>\n",
       "      <td>Ariz</td>\n",
       "      <td>0.501344</td>\n",
       "    </tr>\n",
       "    <tr>\n",
       "      <th>4</th>\n",
       "      <td>AI</td>\n",
       "      <td>18.220554</td>\n",
       "      <td>-63.068615</td>\n",
       "      <td>Anguilla</td>\n",
       "      <td>CA</td>\n",
       "      <td>36.778261</td>\n",
       "      <td>-119.417932</td>\n",
       "      <td>Cali</td>\n",
       "      <td>0.337254</td>\n",
       "    </tr>\n",
       "  </tbody>\n",
       "</table>\n",
       "</div>"
      ],
      "text/plain": [
       "  country_code   latitude  longitude               country usa_state_code  \\\n",
       "0           AD  42.546245   1.601554               Andorra             AK   \n",
       "1           AE  23.424076  53.847818  United Arab Emirates             AL   \n",
       "2           AF  33.939110  67.709953           Afghanistan             AR   \n",
       "3           AG  17.060816 -61.796428   Antigua and Barbuda             AZ   \n",
       "4           AI  18.220554 -63.068615              Anguilla             CA   \n",
       "\n",
       "   usa_state_latitude  usa_state_longitude state  Republican_Votes_Share  \n",
       "0           63.588753          -154.493062  Alas                0.544012  \n",
       "1           32.318231           -86.902298  Alab                0.696442  \n",
       "2           35.201050           -91.831833  Arka                0.702280  \n",
       "3           34.048928          -111.093731  Ariz                0.501344  \n",
       "4           36.778261          -119.417932  Cali                0.337254  "
      ]
     },
     "execution_count": 126,
     "metadata": {},
     "output_type": "execute_result"
    }
   ],
   "source": [
    "merged_for_map_1 = pd.merge(world_table, house_GOP_state_ratio_use_for_merge, on='state')\n",
    "merged_for_map_1.head()"
   ]
  },
  {
   "cell_type": "code",
   "execution_count": 127,
   "id": "06e2a01f",
   "metadata": {
    "scrolled": true
   },
   "outputs": [
    {
     "data": {
      "text/html": [
       "<div>\n",
       "<style scoped>\n",
       "    .dataframe tbody tr th:only-of-type {\n",
       "        vertical-align: middle;\n",
       "    }\n",
       "\n",
       "    .dataframe tbody tr th {\n",
       "        vertical-align: top;\n",
       "    }\n",
       "\n",
       "    .dataframe thead tr th {\n",
       "        text-align: left;\n",
       "    }\n",
       "</style>\n",
       "<table border=\"1\" class=\"dataframe\">\n",
       "  <thead>\n",
       "    <tr>\n",
       "      <th></th>\n",
       "      <th>state</th>\n",
       "      <th colspan=\"2\" halign=\"left\">total_votes</th>\n",
       "      <th colspan=\"2\" halign=\"left\">won</th>\n",
       "    </tr>\n",
       "    <tr>\n",
       "      <th>party</th>\n",
       "      <th></th>\n",
       "      <th>DEM</th>\n",
       "      <th>REP</th>\n",
       "      <th>DEM</th>\n",
       "      <th>REP</th>\n",
       "    </tr>\n",
       "  </thead>\n",
       "  <tbody>\n",
       "    <tr>\n",
       "      <th>0</th>\n",
       "      <td>Alabama</td>\n",
       "      <td>849648</td>\n",
       "      <td>1441168</td>\n",
       "      <td>13</td>\n",
       "      <td>54</td>\n",
       "    </tr>\n",
       "    <tr>\n",
       "      <th>1</th>\n",
       "      <td>Alaska</td>\n",
       "      <td>153405</td>\n",
       "      <td>189892</td>\n",
       "      <td>17</td>\n",
       "      <td>20</td>\n",
       "    </tr>\n",
       "    <tr>\n",
       "      <th>2</th>\n",
       "      <td>Arizona</td>\n",
       "      <td>1672143</td>\n",
       "      <td>1661686</td>\n",
       "      <td>5</td>\n",
       "      <td>10</td>\n",
       "    </tr>\n",
       "    <tr>\n",
       "      <th>3</th>\n",
       "      <td>Arkansas</td>\n",
       "      <td>423932</td>\n",
       "      <td>760647</td>\n",
       "      <td>8</td>\n",
       "      <td>67</td>\n",
       "    </tr>\n",
       "    <tr>\n",
       "      <th>4</th>\n",
       "      <td>California</td>\n",
       "      <td>11109764</td>\n",
       "      <td>6005961</td>\n",
       "      <td>35</td>\n",
       "      <td>23</td>\n",
       "    </tr>\n",
       "  </tbody>\n",
       "</table>\n",
       "</div>"
      ],
      "text/plain": [
       "            state total_votes          won    \n",
       "party                     DEM      REP DEM REP\n",
       "0         Alabama      849648  1441168  13  54\n",
       "1          Alaska      153405   189892  17  20\n",
       "2         Arizona     1672143  1661686   5  10\n",
       "3        Arkansas      423932   760647   8  67\n",
       "4      California    11109764  6005961  35  23"
      ]
     },
     "execution_count": 127,
     "metadata": {},
     "output_type": "execute_result"
    }
   ],
   "source": [
    "# Read the CSV file into a DataFrame\n",
    "df_president_county = pd.read_csv('/Users/richardhsiao/Documents/ECO225/archive/president_county_candidate.csv')\n",
    "\n",
    "# Select rows where party is Democrat or Republican\n",
    "df_president_county = df_president_county[df_president_county['party'].isin(['DEM', 'REP'])]\n",
    "\n",
    "# Group the DataFrame by state and party, and compute the sum of the numerical columns\n",
    "df_president_county = df_president_county.groupby(['state', 'party']).sum()\n",
    "\n",
    "# Reshape the DataFrame by unstacking the 'party' index level\n",
    "df_president_county = df_president_county.unstack()\n",
    "\n",
    "# Reset the index to make 'state' a column again\n",
    "df_president_county = df_president_county.reset_index()\n",
    "df_president_county.head()"
   ]
  },
  {
   "cell_type": "code",
   "execution_count": 128,
   "id": "0fa0c55e",
   "metadata": {
    "scrolled": false
   },
   "outputs": [
    {
     "data": {
      "text/html": [
       "<div>\n",
       "<style scoped>\n",
       "    .dataframe tbody tr th:only-of-type {\n",
       "        vertical-align: middle;\n",
       "    }\n",
       "\n",
       "    .dataframe tbody tr th {\n",
       "        vertical-align: top;\n",
       "    }\n",
       "\n",
       "    .dataframe thead th {\n",
       "        text-align: right;\n",
       "    }\n",
       "</style>\n",
       "<table border=\"1\" class=\"dataframe\">\n",
       "  <thead>\n",
       "    <tr style=\"text-align: right;\">\n",
       "      <th></th>\n",
       "      <th>country_code</th>\n",
       "      <th>latitude</th>\n",
       "      <th>longitude</th>\n",
       "      <th>country</th>\n",
       "      <th>usa_state_code</th>\n",
       "      <th>usa_state_latitude</th>\n",
       "      <th>usa_state_longitude</th>\n",
       "      <th>state</th>\n",
       "      <th>Republican_Votes_Share_x</th>\n",
       "      <th>Republican_Votes_Share_y</th>\n",
       "      <th>GOP_vote_ratio</th>\n",
       "    </tr>\n",
       "  </thead>\n",
       "  <tbody>\n",
       "    <tr>\n",
       "      <th>0</th>\n",
       "      <td>AD</td>\n",
       "      <td>42.546245</td>\n",
       "      <td>1.601554</td>\n",
       "      <td>Andorra</td>\n",
       "      <td>AK</td>\n",
       "      <td>63.588753</td>\n",
       "      <td>-154.493062</td>\n",
       "      <td>Alas</td>\n",
       "      <td>0.544012</td>\n",
       "      <td>0.544012</td>\n",
       "      <td>0.485228</td>\n",
       "    </tr>\n",
       "    <tr>\n",
       "      <th>1</th>\n",
       "      <td>AE</td>\n",
       "      <td>23.424076</td>\n",
       "      <td>53.847818</td>\n",
       "      <td>United Arab Emirates</td>\n",
       "      <td>AL</td>\n",
       "      <td>32.318231</td>\n",
       "      <td>-86.902298</td>\n",
       "      <td>Alab</td>\n",
       "      <td>0.696442</td>\n",
       "      <td>0.696442</td>\n",
       "      <td>0.620310</td>\n",
       "    </tr>\n",
       "    <tr>\n",
       "      <th>2</th>\n",
       "      <td>AF</td>\n",
       "      <td>33.939110</td>\n",
       "      <td>67.709953</td>\n",
       "      <td>Afghanistan</td>\n",
       "      <td>AR</td>\n",
       "      <td>35.201050</td>\n",
       "      <td>-91.831833</td>\n",
       "      <td>Arka</td>\n",
       "      <td>0.702280</td>\n",
       "      <td>0.702280</td>\n",
       "      <td>0.623957</td>\n",
       "    </tr>\n",
       "    <tr>\n",
       "      <th>3</th>\n",
       "      <td>AG</td>\n",
       "      <td>17.060816</td>\n",
       "      <td>-61.796428</td>\n",
       "      <td>Antigua and Barbuda</td>\n",
       "      <td>AZ</td>\n",
       "      <td>34.048928</td>\n",
       "      <td>-111.093731</td>\n",
       "      <td>Ariz</td>\n",
       "      <td>0.501344</td>\n",
       "      <td>0.501344</td>\n",
       "      <td>0.490560</td>\n",
       "    </tr>\n",
       "    <tr>\n",
       "      <th>4</th>\n",
       "      <td>AI</td>\n",
       "      <td>18.220554</td>\n",
       "      <td>-63.068615</td>\n",
       "      <td>Anguilla</td>\n",
       "      <td>CA</td>\n",
       "      <td>36.778261</td>\n",
       "      <td>-119.417932</td>\n",
       "      <td>Cali</td>\n",
       "      <td>0.337254</td>\n",
       "      <td>0.337254</td>\n",
       "      <td>0.343278</td>\n",
       "    </tr>\n",
       "  </tbody>\n",
       "</table>\n",
       "</div>"
      ],
      "text/plain": [
       "  country_code   latitude  longitude               country usa_state_code  \\\n",
       "0           AD  42.546245   1.601554               Andorra             AK   \n",
       "1           AE  23.424076  53.847818  United Arab Emirates             AL   \n",
       "2           AF  33.939110  67.709953           Afghanistan             AR   \n",
       "3           AG  17.060816 -61.796428   Antigua and Barbuda             AZ   \n",
       "4           AI  18.220554 -63.068615              Anguilla             CA   \n",
       "\n",
       "   usa_state_latitude  usa_state_longitude state  Republican_Votes_Share_x  \\\n",
       "0           63.588753          -154.493062  Alas                  0.544012   \n",
       "1           32.318231           -86.902298  Alab                  0.696442   \n",
       "2           35.201050           -91.831833  Arka                  0.702280   \n",
       "3           34.048928          -111.093731  Ariz                  0.501344   \n",
       "4           36.778261          -119.417932  Cali                  0.337254   \n",
       "\n",
       "   Republican_Votes_Share_y  GOP_vote_ratio  \n",
       "0                  0.544012        0.485228  \n",
       "1                  0.696442        0.620310  \n",
       "2                  0.702280        0.623957  \n",
       "3                  0.501344        0.490560  \n",
       "4                  0.337254        0.343278  "
      ]
     },
     "execution_count": 128,
     "metadata": {},
     "output_type": "execute_result"
    }
   ],
   "source": [
    "merged_for_map = pd.merge(merged_for_map_1,merged_president_house, on = 'state' )\n",
    "merged_for_map.head()"
   ]
  },
  {
   "cell_type": "code",
   "execution_count": 129,
   "id": "0ec55856",
   "metadata": {
    "scrolled": true
   },
   "outputs": [
    {
     "data": {
      "text/html": [
       "<div>\n",
       "<style scoped>\n",
       "    .dataframe tbody tr th:only-of-type {\n",
       "        vertical-align: middle;\n",
       "    }\n",
       "\n",
       "    .dataframe tbody tr th {\n",
       "        vertical-align: top;\n",
       "    }\n",
       "\n",
       "    .dataframe thead th {\n",
       "        text-align: right;\n",
       "    }\n",
       "</style>\n",
       "<table border=\"1\" class=\"dataframe\">\n",
       "  <thead>\n",
       "    <tr style=\"text-align: right;\">\n",
       "      <th></th>\n",
       "      <th>country_code</th>\n",
       "      <th>latitude</th>\n",
       "      <th>longitude</th>\n",
       "      <th>country</th>\n",
       "      <th>usa_state_code</th>\n",
       "      <th>usa_state_latitude</th>\n",
       "      <th>usa_state_longitude</th>\n",
       "      <th>state</th>\n",
       "      <th>Republican_Votes_Share_x</th>\n",
       "      <th>Republican_Votes_Share_y</th>\n",
       "      <th>GOP_vote_ratio</th>\n",
       "    </tr>\n",
       "  </thead>\n",
       "  <tbody>\n",
       "    <tr>\n",
       "      <th>4</th>\n",
       "      <td>AI</td>\n",
       "      <td>18.220554</td>\n",
       "      <td>-63.068615</td>\n",
       "      <td>Anguilla</td>\n",
       "      <td>CA</td>\n",
       "      <td>36.778261</td>\n",
       "      <td>-119.417932</td>\n",
       "      <td>Cali</td>\n",
       "      <td>0.337254</td>\n",
       "      <td>0.337254</td>\n",
       "      <td>0.343278</td>\n",
       "    </tr>\n",
       "    <tr>\n",
       "      <th>6</th>\n",
       "      <td>AM</td>\n",
       "      <td>40.069099</td>\n",
       "      <td>45.038189</td>\n",
       "      <td>Armenia</td>\n",
       "      <td>CT</td>\n",
       "      <td>41.603221</td>\n",
       "      <td>-73.087749</td>\n",
       "      <td>Conn</td>\n",
       "      <td>0.385215</td>\n",
       "      <td>0.385215</td>\n",
       "      <td>0.392095</td>\n",
       "    </tr>\n",
       "    <tr>\n",
       "      <th>7</th>\n",
       "      <td>AO</td>\n",
       "      <td>-11.202692</td>\n",
       "      <td>17.873887</td>\n",
       "      <td>Angola</td>\n",
       "      <td>DE</td>\n",
       "      <td>38.910832</td>\n",
       "      <td>-75.527670</td>\n",
       "      <td>Dela</td>\n",
       "      <td>0.402220</td>\n",
       "      <td>0.402220</td>\n",
       "      <td>0.398014</td>\n",
       "    </tr>\n",
       "    <tr>\n",
       "      <th>8</th>\n",
       "      <td>AQ</td>\n",
       "      <td>-75.250973</td>\n",
       "      <td>-0.071389</td>\n",
       "      <td>Antarctica</td>\n",
       "      <td>FL</td>\n",
       "      <td>27.664827</td>\n",
       "      <td>-81.515754</td>\n",
       "      <td>Flor</td>\n",
       "      <td>0.522616</td>\n",
       "      <td>0.522616</td>\n",
       "      <td>0.512198</td>\n",
       "    </tr>\n",
       "    <tr>\n",
       "      <th>9</th>\n",
       "      <td>AR</td>\n",
       "      <td>-38.416097</td>\n",
       "      <td>-63.616672</td>\n",
       "      <td>Argentina</td>\n",
       "      <td>GA</td>\n",
       "      <td>32.157435</td>\n",
       "      <td>-82.907123</td>\n",
       "      <td>Geor</td>\n",
       "      <td>0.509918</td>\n",
       "      <td>0.509918</td>\n",
       "      <td>0.492596</td>\n",
       "    </tr>\n",
       "  </tbody>\n",
       "</table>\n",
       "</div>"
      ],
      "text/plain": [
       "  country_code   latitude  longitude     country usa_state_code  \\\n",
       "4           AI  18.220554 -63.068615    Anguilla             CA   \n",
       "6           AM  40.069099  45.038189     Armenia             CT   \n",
       "7           AO -11.202692  17.873887      Angola             DE   \n",
       "8           AQ -75.250973  -0.071389  Antarctica             FL   \n",
       "9           AR -38.416097 -63.616672   Argentina             GA   \n",
       "\n",
       "   usa_state_latitude  usa_state_longitude state  Republican_Votes_Share_x  \\\n",
       "4           36.778261          -119.417932  Cali                  0.337254   \n",
       "6           41.603221           -73.087749  Conn                  0.385215   \n",
       "7           38.910832           -75.527670  Dela                  0.402220   \n",
       "8           27.664827           -81.515754  Flor                  0.522616   \n",
       "9           32.157435           -82.907123  Geor                  0.509918   \n",
       "\n",
       "   Republican_Votes_Share_y  GOP_vote_ratio  \n",
       "4                  0.337254        0.343278  \n",
       "6                  0.385215        0.392095  \n",
       "7                  0.402220        0.398014  \n",
       "8                  0.522616        0.512198  \n",
       "9                  0.509918        0.492596  "
      ]
     },
     "execution_count": 129,
     "metadata": {},
     "output_type": "execute_result"
    }
   ],
   "source": [
    "coastal_state = merged_for_map.iloc[[4,6,7,8,9,18,19,20,30,34,36,37,44,45]]\n",
    "coastal_state.head()"
   ]
  },
  {
   "cell_type": "code",
   "execution_count": 130,
   "id": "57262a45",
   "metadata": {
    "scrolled": true
   },
   "outputs": [
    {
     "data": {
      "text/html": [
       "<div>\n",
       "<style scoped>\n",
       "    .dataframe tbody tr th:only-of-type {\n",
       "        vertical-align: middle;\n",
       "    }\n",
       "\n",
       "    .dataframe tbody tr th {\n",
       "        vertical-align: top;\n",
       "    }\n",
       "\n",
       "    .dataframe thead th {\n",
       "        text-align: right;\n",
       "    }\n",
       "</style>\n",
       "<table border=\"1\" class=\"dataframe\">\n",
       "  <thead>\n",
       "    <tr style=\"text-align: right;\">\n",
       "      <th></th>\n",
       "      <th>country_code</th>\n",
       "      <th>latitude</th>\n",
       "      <th>longitude</th>\n",
       "      <th>country</th>\n",
       "      <th>usa_state_code</th>\n",
       "      <th>usa_state_latitude</th>\n",
       "      <th>usa_state_longitude</th>\n",
       "      <th>state</th>\n",
       "      <th>Republican_Votes_Share_x</th>\n",
       "      <th>Republican_Votes_Share_y</th>\n",
       "      <th>GOP_vote_ratio</th>\n",
       "    </tr>\n",
       "  </thead>\n",
       "  <tbody>\n",
       "    <tr>\n",
       "      <th>0</th>\n",
       "      <td>AD</td>\n",
       "      <td>42.546245</td>\n",
       "      <td>1.601554</td>\n",
       "      <td>Andorra</td>\n",
       "      <td>AK</td>\n",
       "      <td>63.588753</td>\n",
       "      <td>-154.493062</td>\n",
       "      <td>Alas</td>\n",
       "      <td>0.544012</td>\n",
       "      <td>0.544012</td>\n",
       "      <td>0.485228</td>\n",
       "    </tr>\n",
       "    <tr>\n",
       "      <th>1</th>\n",
       "      <td>AE</td>\n",
       "      <td>23.424076</td>\n",
       "      <td>53.847818</td>\n",
       "      <td>United Arab Emirates</td>\n",
       "      <td>AL</td>\n",
       "      <td>32.318231</td>\n",
       "      <td>-86.902298</td>\n",
       "      <td>Alab</td>\n",
       "      <td>0.696442</td>\n",
       "      <td>0.696442</td>\n",
       "      <td>0.620310</td>\n",
       "    </tr>\n",
       "    <tr>\n",
       "      <th>2</th>\n",
       "      <td>AF</td>\n",
       "      <td>33.939110</td>\n",
       "      <td>67.709953</td>\n",
       "      <td>Afghanistan</td>\n",
       "      <td>AR</td>\n",
       "      <td>35.201050</td>\n",
       "      <td>-91.831833</td>\n",
       "      <td>Arka</td>\n",
       "      <td>0.702280</td>\n",
       "      <td>0.702280</td>\n",
       "      <td>0.623957</td>\n",
       "    </tr>\n",
       "    <tr>\n",
       "      <th>3</th>\n",
       "      <td>AG</td>\n",
       "      <td>17.060816</td>\n",
       "      <td>-61.796428</td>\n",
       "      <td>Antigua and Barbuda</td>\n",
       "      <td>AZ</td>\n",
       "      <td>34.048928</td>\n",
       "      <td>-111.093731</td>\n",
       "      <td>Ariz</td>\n",
       "      <td>0.501344</td>\n",
       "      <td>0.501344</td>\n",
       "      <td>0.490560</td>\n",
       "    </tr>\n",
       "    <tr>\n",
       "      <th>5</th>\n",
       "      <td>AL</td>\n",
       "      <td>41.153332</td>\n",
       "      <td>20.168331</td>\n",
       "      <td>Albania</td>\n",
       "      <td>CO</td>\n",
       "      <td>39.550051</td>\n",
       "      <td>-105.782067</td>\n",
       "      <td>Colo</td>\n",
       "      <td>0.435472</td>\n",
       "      <td>0.435472</td>\n",
       "      <td>0.418983</td>\n",
       "    </tr>\n",
       "  </tbody>\n",
       "</table>\n",
       "</div>"
      ],
      "text/plain": [
       "  country_code   latitude  longitude               country usa_state_code  \\\n",
       "0           AD  42.546245   1.601554               Andorra             AK   \n",
       "1           AE  23.424076  53.847818  United Arab Emirates             AL   \n",
       "2           AF  33.939110  67.709953           Afghanistan             AR   \n",
       "3           AG  17.060816 -61.796428   Antigua and Barbuda             AZ   \n",
       "5           AL  41.153332  20.168331               Albania             CO   \n",
       "\n",
       "   usa_state_latitude  usa_state_longitude state  Republican_Votes_Share_x  \\\n",
       "0           63.588753          -154.493062  Alas                  0.544012   \n",
       "1           32.318231           -86.902298  Alab                  0.696442   \n",
       "2           35.201050           -91.831833  Arka                  0.702280   \n",
       "3           34.048928          -111.093731  Ariz                  0.501344   \n",
       "5           39.550051          -105.782067  Colo                  0.435472   \n",
       "\n",
       "   Republican_Votes_Share_y  GOP_vote_ratio  \n",
       "0                  0.544012        0.485228  \n",
       "1                  0.696442        0.620310  \n",
       "2                  0.702280        0.623957  \n",
       "3                  0.501344        0.490560  \n",
       "5                  0.435472        0.418983  "
      ]
     },
     "execution_count": 130,
     "metadata": {},
     "output_type": "execute_result"
    }
   ],
   "source": [
    "central_state = merged_for_map.iloc[[0,1,2,3,5,10,11,12,13,14,15,16,17,21,22,23,24,25,26,27,28,29,31,32,33,35,38,39,40,41,42,43,46,47]]\n",
    "central_state.head()"
   ]
  },
  {
   "cell_type": "code",
   "execution_count": 131,
   "id": "178724ef",
   "metadata": {
    "scrolled": false
   },
   "outputs": [
    {
     "name": "stderr",
     "output_type": "stream",
     "text": [
      "/var/folders/ss/t6yqpmk53d5_cyq8f1hlnr1r0000gn/T/ipykernel_58370/1535808191.py:11: FutureWarning:\n",
      "\n",
      "merging between different levels is deprecated and will be removed in a future version. (2 levels on the left, 1 on the right)\n",
      "\n"
     ]
    },
    {
     "data": {
      "text/html": [
       "<div>\n",
       "<style scoped>\n",
       "    .dataframe tbody tr th:only-of-type {\n",
       "        vertical-align: middle;\n",
       "    }\n",
       "\n",
       "    .dataframe tbody tr th {\n",
       "        vertical-align: top;\n",
       "    }\n",
       "\n",
       "    .dataframe thead th {\n",
       "        text-align: right;\n",
       "    }\n",
       "</style>\n",
       "<table border=\"1\" class=\"dataframe\">\n",
       "  <thead>\n",
       "    <tr style=\"text-align: right;\">\n",
       "      <th></th>\n",
       "      <th>state</th>\n",
       "      <th>(state, )</th>\n",
       "      <th>(total_votes, DEM)</th>\n",
       "      <th>(total_votes, REP)</th>\n",
       "      <th>(won, DEM)</th>\n",
       "      <th>(won, REP)</th>\n",
       "      <th>usa_state_code</th>\n",
       "      <th>percent_republican</th>\n",
       "    </tr>\n",
       "  </thead>\n",
       "  <tbody>\n",
       "    <tr>\n",
       "      <th>0</th>\n",
       "      <td>Alabama</td>\n",
       "      <td>Alabama</td>\n",
       "      <td>849648</td>\n",
       "      <td>1441168</td>\n",
       "      <td>13</td>\n",
       "      <td>54</td>\n",
       "      <td>AL</td>\n",
       "      <td>0.629107</td>\n",
       "    </tr>\n",
       "    <tr>\n",
       "      <th>1</th>\n",
       "      <td>Alaska</td>\n",
       "      <td>Alaska</td>\n",
       "      <td>153405</td>\n",
       "      <td>189892</td>\n",
       "      <td>17</td>\n",
       "      <td>20</td>\n",
       "      <td>AK</td>\n",
       "      <td>0.553142</td>\n",
       "    </tr>\n",
       "    <tr>\n",
       "      <th>2</th>\n",
       "      <td>Arizona</td>\n",
       "      <td>Arizona</td>\n",
       "      <td>1672143</td>\n",
       "      <td>1661686</td>\n",
       "      <td>5</td>\n",
       "      <td>10</td>\n",
       "      <td>AZ</td>\n",
       "      <td>0.498432</td>\n",
       "    </tr>\n",
       "    <tr>\n",
       "      <th>3</th>\n",
       "      <td>Arkansas</td>\n",
       "      <td>Arkansas</td>\n",
       "      <td>423932</td>\n",
       "      <td>760647</td>\n",
       "      <td>8</td>\n",
       "      <td>67</td>\n",
       "      <td>AR</td>\n",
       "      <td>0.642124</td>\n",
       "    </tr>\n",
       "    <tr>\n",
       "      <th>4</th>\n",
       "      <td>California</td>\n",
       "      <td>California</td>\n",
       "      <td>11109764</td>\n",
       "      <td>6005961</td>\n",
       "      <td>35</td>\n",
       "      <td>23</td>\n",
       "      <td>CA</td>\n",
       "      <td>0.350903</td>\n",
       "    </tr>\n",
       "  </tbody>\n",
       "</table>\n",
       "</div>"
      ],
      "text/plain": [
       "        state   (state, )  (total_votes, DEM)  (total_votes, REP)  (won, DEM)  \\\n",
       "0     Alabama     Alabama              849648             1441168          13   \n",
       "1      Alaska      Alaska              153405              189892          17   \n",
       "2     Arizona     Arizona             1672143             1661686           5   \n",
       "3    Arkansas    Arkansas              423932              760647           8   \n",
       "4  California  California            11109764             6005961          35   \n",
       "\n",
       "   (won, REP) usa_state_code  percent_republican  \n",
       "0          54             AL            0.629107  \n",
       "1          20             AK            0.553142  \n",
       "2          10             AZ            0.498432  \n",
       "3          67             AR            0.642124  \n",
       "4          23             CA            0.350903  "
      ]
     },
     "execution_count": 131,
     "metadata": {},
     "output_type": "execute_result"
    }
   ],
   "source": [
    "# Read the CSV file into a DataFrame\n",
    "state_codes = pd.read_csv('/Users/richardhsiao/Documents/ECO225/archive/world_country_and_usa_states_latitude_and_longitude_values.csv')\n",
    "\n",
    "# Select only the 'usa_state' and 'usa_state_code' columns\n",
    "state_codes = state_codes[['usa_state', 'usa_state_code']]\n",
    "\n",
    "# Rename the 'usa_state' column to 'state'\n",
    "state_codes = state_codes.rename(columns={'usa_state': 'state'})\n",
    "\n",
    "# Merge the state_codes DataFrame with df_president_county on the 'state' column\n",
    "df_president_county = df_president_county.merge(state_codes, on='state', how='left')\n",
    "\n",
    "# Compute the percentage of Republican votes\n",
    "df_president_county['percent_republican'] = df_president_county[('total_votes', 'REP')] / (df_president_county[('total_votes', 'REP')] + df_president_county[('total_votes', 'DEM')])\n",
    "\n",
    "# Remove any duplicated columns\n",
    "df_president_county = df_president_county.loc[:, ~df_president_county.columns.duplicated()]\n",
    "\n",
    "# Output the final DataFrame\n",
    "df_president_county.head()\n"
   ]
  },
  {
   "cell_type": "code",
   "execution_count": 132,
   "id": "b626d8c6",
   "metadata": {},
   "outputs": [
    {
     "data": {
      "text/html": [
       "<div>\n",
       "<style scoped>\n",
       "    .dataframe tbody tr th:only-of-type {\n",
       "        vertical-align: middle;\n",
       "    }\n",
       "\n",
       "    .dataframe tbody tr th {\n",
       "        vertical-align: top;\n",
       "    }\n",
       "\n",
       "    .dataframe thead th {\n",
       "        text-align: right;\n",
       "    }\n",
       "</style>\n",
       "<table border=\"1\" class=\"dataframe\">\n",
       "  <thead>\n",
       "    <tr style=\"text-align: right;\">\n",
       "      <th></th>\n",
       "      <th>Rank</th>\n",
       "      <th>county</th>\n",
       "      <th>State, federal district or territory</th>\n",
       "      <th>Per capitaincome</th>\n",
       "      <th>Medianhouseholdincome</th>\n",
       "      <th>Medianfamilyincome</th>\n",
       "      <th>Population</th>\n",
       "      <th>Number ofhouseholds</th>\n",
       "    </tr>\n",
       "  </thead>\n",
       "  <tbody>\n",
       "    <tr>\n",
       "      <th>0</th>\n",
       "      <td>1</td>\n",
       "      <td>New York County</td>\n",
       "      <td>New York</td>\n",
       "      <td>$76,592</td>\n",
       "      <td>$69,659</td>\n",
       "      <td>$86,553</td>\n",
       "      <td>1628706.0</td>\n",
       "      <td>759460.0</td>\n",
       "    </tr>\n",
       "    <tr>\n",
       "      <th>1</th>\n",
       "      <td>2</td>\n",
       "      <td>Arlington</td>\n",
       "      <td>Virginia</td>\n",
       "      <td>$62,018</td>\n",
       "      <td>$103,208</td>\n",
       "      <td>$139,244</td>\n",
       "      <td>214861.0</td>\n",
       "      <td>94454.0</td>\n",
       "    </tr>\n",
       "    <tr>\n",
       "      <th>2</th>\n",
       "      <td>3</td>\n",
       "      <td>Falls Church City</td>\n",
       "      <td>Virginia</td>\n",
       "      <td>$59,088</td>\n",
       "      <td>$120,000</td>\n",
       "      <td>$152,857</td>\n",
       "      <td>12731.0</td>\n",
       "      <td>5020.0</td>\n",
       "    </tr>\n",
       "    <tr>\n",
       "      <th>3</th>\n",
       "      <td>4</td>\n",
       "      <td>Marin</td>\n",
       "      <td>California</td>\n",
       "      <td>$56,791</td>\n",
       "      <td>$90,839</td>\n",
       "      <td>$117,357</td>\n",
       "      <td>254643.0</td>\n",
       "      <td>102912.0</td>\n",
       "    </tr>\n",
       "    <tr>\n",
       "      <th>4</th>\n",
       "      <td>5</td>\n",
       "      <td>Santa Clara</td>\n",
       "      <td>California</td>\n",
       "      <td>$56,248</td>\n",
       "      <td>$124,055</td>\n",
       "      <td>$124,055</td>\n",
       "      <td>1927852.0</td>\n",
       "      <td>640215.0</td>\n",
       "    </tr>\n",
       "  </tbody>\n",
       "</table>\n",
       "</div>"
      ],
      "text/plain": [
       "  Rank             county State, federal district or territory  \\\n",
       "0    1    New York County                             New York   \n",
       "1    2          Arlington                             Virginia   \n",
       "2    3  Falls Church City                             Virginia   \n",
       "3    4              Marin                           California   \n",
       "4    5        Santa Clara                           California   \n",
       "\n",
       "  Per capitaincome Medianhouseholdincome Medianfamilyincome  Population  \\\n",
       "0          $76,592               $69,659            $86,553   1628706.0   \n",
       "1          $62,018              $103,208           $139,244    214861.0   \n",
       "2          $59,088              $120,000           $152,857     12731.0   \n",
       "3          $56,791               $90,839           $117,357    254643.0   \n",
       "4          $56,248              $124,055           $124,055   1927852.0   \n",
       "\n",
       "   Number ofhouseholds  \n",
       "0             759460.0  \n",
       "1              94454.0  \n",
       "2               5020.0  \n",
       "3             102912.0  \n",
       "4             640215.0  "
      ]
     },
     "execution_count": 132,
     "metadata": {},
     "output_type": "execute_result"
    }
   ],
   "source": [
    "## Web scraping the data of income per capita of all US counties from Wikipedia\n",
    "\n",
    "url = \"https://en.wikipedia.org/wiki/List_of_United_States_counties_by_per_capita_income\"\n",
    "\n",
    "html = requests.get(url).content\n",
    "soup = BeautifulSoup(html)\n",
    "\n",
    "table = soup.find_all(\"table\")[2] # select the third table on the page\n",
    "Income_per_capita = pd.read_html(str(table))[0] # convert the table to a pandas dataframe\n",
    "Income_per_capita = Income_per_capita.rename(columns={'County or county-equivalent': 'county'})\n",
    "Income_per_capita.head()"
   ]
  },
  {
   "cell_type": "code",
   "execution_count": 133,
   "id": "5721aa57",
   "metadata": {},
   "outputs": [
    {
     "data": {
      "text/html": [
       "<div>\n",
       "<style scoped>\n",
       "    .dataframe tbody tr th:only-of-type {\n",
       "        vertical-align: middle;\n",
       "    }\n",
       "\n",
       "    .dataframe tbody tr th {\n",
       "        vertical-align: top;\n",
       "    }\n",
       "\n",
       "    .dataframe thead th {\n",
       "        text-align: right;\n",
       "    }\n",
       "</style>\n",
       "<table border=\"1\" class=\"dataframe\">\n",
       "  <thead>\n",
       "    <tr style=\"text-align: right;\">\n",
       "      <th></th>\n",
       "      <th>county</th>\n",
       "      <th>GOP_vote_ratio</th>\n",
       "    </tr>\n",
       "  </thead>\n",
       "  <tbody>\n",
       "    <tr>\n",
       "      <th>0</th>\n",
       "      <td>Abington</td>\n",
       "      <td>0.982816</td>\n",
       "    </tr>\n",
       "    <tr>\n",
       "      <th>1</th>\n",
       "      <td>Acadia Parish</td>\n",
       "      <td>0.097628</td>\n",
       "    </tr>\n",
       "    <tr>\n",
       "      <th>2</th>\n",
       "      <td>Acton</td>\n",
       "      <td>0.808411</td>\n",
       "    </tr>\n",
       "    <tr>\n",
       "      <th>3</th>\n",
       "      <td>Acworth</td>\n",
       "      <td>0.953782</td>\n",
       "    </tr>\n",
       "    <tr>\n",
       "      <th>4</th>\n",
       "      <td>Adams</td>\n",
       "      <td>0.959717</td>\n",
       "    </tr>\n",
       "    <tr>\n",
       "      <th>...</th>\n",
       "      <td>...</td>\n",
       "      <td>...</td>\n",
       "    </tr>\n",
       "    <tr>\n",
       "      <th>987</th>\n",
       "      <td>Yazoo County</td>\n",
       "      <td>0.982089</td>\n",
       "    </tr>\n",
       "    <tr>\n",
       "      <th>988</th>\n",
       "      <td>York</td>\n",
       "      <td>0.914235</td>\n",
       "    </tr>\n",
       "    <tr>\n",
       "      <th>989</th>\n",
       "      <td>Zapata County</td>\n",
       "      <td>0.934447</td>\n",
       "    </tr>\n",
       "    <tr>\n",
       "      <th>990</th>\n",
       "      <td>Zavala County</td>\n",
       "      <td>0.905217</td>\n",
       "    </tr>\n",
       "    <tr>\n",
       "      <th>991</th>\n",
       "      <td>Ziebach County</td>\n",
       "      <td>1.000000</td>\n",
       "    </tr>\n",
       "  </tbody>\n",
       "</table>\n",
       "<p>992 rows × 2 columns</p>\n",
       "</div>"
      ],
      "text/plain": [
       "             county  GOP_vote_ratio\n",
       "0          Abington        0.982816\n",
       "1     Acadia Parish        0.097628\n",
       "2             Acton        0.808411\n",
       "3           Acworth        0.953782\n",
       "4             Adams        0.959717\n",
       "..              ...             ...\n",
       "987    Yazoo County        0.982089\n",
       "988            York        0.914235\n",
       "989   Zapata County        0.934447\n",
       "990   Zavala County        0.905217\n",
       "991  Ziebach County        1.000000\n",
       "\n",
       "[992 rows x 2 columns]"
      ]
     },
     "execution_count": 133,
     "metadata": {},
     "output_type": "execute_result"
    }
   ],
   "source": [
    "senate_GOP_vote_ratio.reset_index()"
   ]
  },
  {
   "cell_type": "code",
   "execution_count": 134,
   "id": "3a0424f5",
   "metadata": {},
   "outputs": [
    {
     "data": {
      "text/html": [
       "<div>\n",
       "<style scoped>\n",
       "    .dataframe tbody tr th:only-of-type {\n",
       "        vertical-align: middle;\n",
       "    }\n",
       "\n",
       "    .dataframe tbody tr th {\n",
       "        vertical-align: top;\n",
       "    }\n",
       "\n",
       "    .dataframe thead th {\n",
       "        text-align: right;\n",
       "    }\n",
       "</style>\n",
       "<table border=\"1\" class=\"dataframe\">\n",
       "  <thead>\n",
       "    <tr style=\"text-align: right;\">\n",
       "      <th></th>\n",
       "      <th>county</th>\n",
       "      <th>GOP_vote_ratio</th>\n",
       "      <th>Rank</th>\n",
       "      <th>State, federal district or territory</th>\n",
       "      <th>Per capitaincome</th>\n",
       "      <th>Medianhouseholdincome</th>\n",
       "      <th>Medianfamilyincome</th>\n",
       "      <th>Population</th>\n",
       "      <th>Number ofhouseholds</th>\n",
       "    </tr>\n",
       "  </thead>\n",
       "  <tbody>\n",
       "    <tr>\n",
       "      <th>0</th>\n",
       "      <td>Adams</td>\n",
       "      <td>0.959717</td>\n",
       "      <td>248</td>\n",
       "      <td>North Dakota</td>\n",
       "      <td>$31,502</td>\n",
       "      <td>$47,798</td>\n",
       "      <td>$65,859</td>\n",
       "      <td>2328.0</td>\n",
       "      <td>1101.0</td>\n",
       "    </tr>\n",
       "    <tr>\n",
       "      <th>1</th>\n",
       "      <td>Adams</td>\n",
       "      <td>0.959717</td>\n",
       "      <td>600</td>\n",
       "      <td>Pennsylvania</td>\n",
       "      <td>$27,284</td>\n",
       "      <td>$59,492</td>\n",
       "      <td>$69,551</td>\n",
       "      <td>101496.0</td>\n",
       "      <td>38141.0</td>\n",
       "    </tr>\n",
       "    <tr>\n",
       "      <th>2</th>\n",
       "      <td>Adams</td>\n",
       "      <td>0.959717</td>\n",
       "      <td>929</td>\n",
       "      <td>Nebraska</td>\n",
       "      <td>$25,571</td>\n",
       "      <td>$49,440</td>\n",
       "      <td>$65,286</td>\n",
       "      <td>31367.0</td>\n",
       "      <td>12578.0</td>\n",
       "    </tr>\n",
       "    <tr>\n",
       "      <th>3</th>\n",
       "      <td>Adams</td>\n",
       "      <td>0.959717</td>\n",
       "      <td>1229</td>\n",
       "      <td>Illinois</td>\n",
       "      <td>$24,217</td>\n",
       "      <td>$45,073</td>\n",
       "      <td>$58,992</td>\n",
       "      <td>67152.0</td>\n",
       "      <td>26912.0</td>\n",
       "    </tr>\n",
       "    <tr>\n",
       "      <th>4</th>\n",
       "      <td>Adams</td>\n",
       "      <td>0.959717</td>\n",
       "      <td>1233</td>\n",
       "      <td>Colorado</td>\n",
       "      <td>$24,195</td>\n",
       "      <td>$56,270</td>\n",
       "      <td>$64,611</td>\n",
       "      <td>452030.0</td>\n",
       "      <td>152803.0</td>\n",
       "    </tr>\n",
       "    <tr>\n",
       "      <th>...</th>\n",
       "      <td>...</td>\n",
       "      <td>...</td>\n",
       "      <td>...</td>\n",
       "      <td>...</td>\n",
       "      <td>...</td>\n",
       "      <td>...</td>\n",
       "      <td>...</td>\n",
       "      <td>...</td>\n",
       "      <td>...</td>\n",
       "    </tr>\n",
       "    <tr>\n",
       "      <th>402</th>\n",
       "      <td>York</td>\n",
       "      <td>0.914235</td>\n",
       "      <td>95</td>\n",
       "      <td>Virginia</td>\n",
       "      <td>$36,373</td>\n",
       "      <td>$82,073</td>\n",
       "      <td>$95,392</td>\n",
       "      <td>65762.0</td>\n",
       "      <td>24071.0</td>\n",
       "    </tr>\n",
       "    <tr>\n",
       "      <th>403</th>\n",
       "      <td>York</td>\n",
       "      <td>0.914235</td>\n",
       "      <td>390</td>\n",
       "      <td>Maine</td>\n",
       "      <td>$29,125</td>\n",
       "      <td>$57,348</td>\n",
       "      <td>$70,642</td>\n",
       "      <td>198220.0</td>\n",
       "      <td>81293.0</td>\n",
       "    </tr>\n",
       "    <tr>\n",
       "      <th>404</th>\n",
       "      <td>York</td>\n",
       "      <td>0.914235</td>\n",
       "      <td>470</td>\n",
       "      <td>Nebraska</td>\n",
       "      <td>$28,207</td>\n",
       "      <td>$49,633</td>\n",
       "      <td>$63,940</td>\n",
       "      <td>13762.0</td>\n",
       "      <td>5501.0</td>\n",
       "    </tr>\n",
       "    <tr>\n",
       "      <th>405</th>\n",
       "      <td>York</td>\n",
       "      <td>0.914235</td>\n",
       "      <td>480</td>\n",
       "      <td>Pennsylvania</td>\n",
       "      <td>$28,132</td>\n",
       "      <td>$58,745</td>\n",
       "      <td>$70,001</td>\n",
       "      <td>436339.0</td>\n",
       "      <td>167592.0</td>\n",
       "    </tr>\n",
       "    <tr>\n",
       "      <th>406</th>\n",
       "      <td>York</td>\n",
       "      <td>0.914235</td>\n",
       "      <td>733</td>\n",
       "      <td>South Carolina</td>\n",
       "      <td>$26,553</td>\n",
       "      <td>$53,740</td>\n",
       "      <td>$66,256</td>\n",
       "      <td>230934.0</td>\n",
       "      <td>86483.0</td>\n",
       "    </tr>\n",
       "  </tbody>\n",
       "</table>\n",
       "<p>407 rows × 9 columns</p>\n",
       "</div>"
      ],
      "text/plain": [
       "    county  GOP_vote_ratio  Rank State, federal district or territory  \\\n",
       "0    Adams        0.959717   248                         North Dakota   \n",
       "1    Adams        0.959717   600                         Pennsylvania   \n",
       "2    Adams        0.959717   929                             Nebraska   \n",
       "3    Adams        0.959717  1229                             Illinois   \n",
       "4    Adams        0.959717  1233                             Colorado   \n",
       "..     ...             ...   ...                                  ...   \n",
       "402   York        0.914235    95                             Virginia   \n",
       "403   York        0.914235   390                                Maine   \n",
       "404   York        0.914235   470                             Nebraska   \n",
       "405   York        0.914235   480                         Pennsylvania   \n",
       "406   York        0.914235   733                       South Carolina   \n",
       "\n",
       "    Per capitaincome Medianhouseholdincome Medianfamilyincome  Population  \\\n",
       "0            $31,502               $47,798            $65,859      2328.0   \n",
       "1            $27,284               $59,492            $69,551    101496.0   \n",
       "2            $25,571               $49,440            $65,286     31367.0   \n",
       "3            $24,217               $45,073            $58,992     67152.0   \n",
       "4            $24,195               $56,270            $64,611    452030.0   \n",
       "..               ...                   ...                ...         ...   \n",
       "402          $36,373               $82,073            $95,392     65762.0   \n",
       "403          $29,125               $57,348            $70,642    198220.0   \n",
       "404          $28,207               $49,633            $63,940     13762.0   \n",
       "405          $28,132               $58,745            $70,001    436339.0   \n",
       "406          $26,553               $53,740            $66,256    230934.0   \n",
       "\n",
       "     Number ofhouseholds  \n",
       "0                 1101.0  \n",
       "1                38141.0  \n",
       "2                12578.0  \n",
       "3                26912.0  \n",
       "4               152803.0  \n",
       "..                   ...  \n",
       "402              24071.0  \n",
       "403              81293.0  \n",
       "404               5501.0  \n",
       "405             167592.0  \n",
       "406              86483.0  \n",
       "\n",
       "[407 rows x 9 columns]"
      ]
     },
     "execution_count": 134,
     "metadata": {},
     "output_type": "execute_result"
    }
   ],
   "source": [
    "#Merge with senate_county_candidate\n",
    "new_merge_1 = pd.merge(senate_GOP_vote_ratio, Income_per_capita, on='county', how='inner')\n",
    "new_merge_1"
   ]
  },
  {
   "cell_type": "code",
   "execution_count": 135,
   "id": "e9bf002f",
   "metadata": {},
   "outputs": [
    {
     "data": {
      "text/html": [
       "<div>\n",
       "<style scoped>\n",
       "    .dataframe tbody tr th:only-of-type {\n",
       "        vertical-align: middle;\n",
       "    }\n",
       "\n",
       "    .dataframe tbody tr th {\n",
       "        vertical-align: top;\n",
       "    }\n",
       "\n",
       "    .dataframe thead th {\n",
       "        text-align: right;\n",
       "    }\n",
       "</style>\n",
       "<table border=\"1\" class=\"dataframe\">\n",
       "  <thead>\n",
       "    <tr style=\"text-align: right;\">\n",
       "      <th></th>\n",
       "      <th>county</th>\n",
       "      <th>president_GOP_vote_share</th>\n",
       "      <th>GOP_vote_ratio</th>\n",
       "      <th>Rank</th>\n",
       "      <th>State, federal district or territory</th>\n",
       "      <th>Per capitaincome</th>\n",
       "      <th>Medianhouseholdincome</th>\n",
       "      <th>Medianfamilyincome</th>\n",
       "      <th>Population</th>\n",
       "      <th>Number ofhouseholds</th>\n",
       "    </tr>\n",
       "  </thead>\n",
       "  <tbody>\n",
       "    <tr>\n",
       "      <th>0</th>\n",
       "      <td>Adams</td>\n",
       "      <td>0.321549</td>\n",
       "      <td>0.959717</td>\n",
       "      <td>248</td>\n",
       "      <td>North Dakota</td>\n",
       "      <td>$31,502</td>\n",
       "      <td>$47,798</td>\n",
       "      <td>$65,859</td>\n",
       "      <td>2328.0</td>\n",
       "      <td>1101.0</td>\n",
       "    </tr>\n",
       "    <tr>\n",
       "      <th>1</th>\n",
       "      <td>Adams</td>\n",
       "      <td>0.321549</td>\n",
       "      <td>0.959717</td>\n",
       "      <td>600</td>\n",
       "      <td>Pennsylvania</td>\n",
       "      <td>$27,284</td>\n",
       "      <td>$59,492</td>\n",
       "      <td>$69,551</td>\n",
       "      <td>101496.0</td>\n",
       "      <td>38141.0</td>\n",
       "    </tr>\n",
       "    <tr>\n",
       "      <th>2</th>\n",
       "      <td>Adams</td>\n",
       "      <td>0.321549</td>\n",
       "      <td>0.959717</td>\n",
       "      <td>929</td>\n",
       "      <td>Nebraska</td>\n",
       "      <td>$25,571</td>\n",
       "      <td>$49,440</td>\n",
       "      <td>$65,286</td>\n",
       "      <td>31367.0</td>\n",
       "      <td>12578.0</td>\n",
       "    </tr>\n",
       "    <tr>\n",
       "      <th>3</th>\n",
       "      <td>Adams</td>\n",
       "      <td>0.321549</td>\n",
       "      <td>0.959717</td>\n",
       "      <td>1229</td>\n",
       "      <td>Illinois</td>\n",
       "      <td>$24,217</td>\n",
       "      <td>$45,073</td>\n",
       "      <td>$58,992</td>\n",
       "      <td>67152.0</td>\n",
       "      <td>26912.0</td>\n",
       "    </tr>\n",
       "    <tr>\n",
       "      <th>4</th>\n",
       "      <td>Adams</td>\n",
       "      <td>0.321549</td>\n",
       "      <td>0.959717</td>\n",
       "      <td>1233</td>\n",
       "      <td>Colorado</td>\n",
       "      <td>$24,195</td>\n",
       "      <td>$56,270</td>\n",
       "      <td>$64,611</td>\n",
       "      <td>452030.0</td>\n",
       "      <td>152803.0</td>\n",
       "    </tr>\n",
       "    <tr>\n",
       "      <th>...</th>\n",
       "      <td>...</td>\n",
       "      <td>...</td>\n",
       "      <td>...</td>\n",
       "      <td>...</td>\n",
       "      <td>...</td>\n",
       "      <td>...</td>\n",
       "      <td>...</td>\n",
       "      <td>...</td>\n",
       "      <td>...</td>\n",
       "      <td>...</td>\n",
       "    </tr>\n",
       "    <tr>\n",
       "      <th>402</th>\n",
       "      <td>York</td>\n",
       "      <td>0.347070</td>\n",
       "      <td>0.914235</td>\n",
       "      <td>95</td>\n",
       "      <td>Virginia</td>\n",
       "      <td>$36,373</td>\n",
       "      <td>$82,073</td>\n",
       "      <td>$95,392</td>\n",
       "      <td>65762.0</td>\n",
       "      <td>24071.0</td>\n",
       "    </tr>\n",
       "    <tr>\n",
       "      <th>403</th>\n",
       "      <td>York</td>\n",
       "      <td>0.347070</td>\n",
       "      <td>0.914235</td>\n",
       "      <td>390</td>\n",
       "      <td>Maine</td>\n",
       "      <td>$29,125</td>\n",
       "      <td>$57,348</td>\n",
       "      <td>$70,642</td>\n",
       "      <td>198220.0</td>\n",
       "      <td>81293.0</td>\n",
       "    </tr>\n",
       "    <tr>\n",
       "      <th>404</th>\n",
       "      <td>York</td>\n",
       "      <td>0.347070</td>\n",
       "      <td>0.914235</td>\n",
       "      <td>470</td>\n",
       "      <td>Nebraska</td>\n",
       "      <td>$28,207</td>\n",
       "      <td>$49,633</td>\n",
       "      <td>$63,940</td>\n",
       "      <td>13762.0</td>\n",
       "      <td>5501.0</td>\n",
       "    </tr>\n",
       "    <tr>\n",
       "      <th>405</th>\n",
       "      <td>York</td>\n",
       "      <td>0.347070</td>\n",
       "      <td>0.914235</td>\n",
       "      <td>480</td>\n",
       "      <td>Pennsylvania</td>\n",
       "      <td>$28,132</td>\n",
       "      <td>$58,745</td>\n",
       "      <td>$70,001</td>\n",
       "      <td>436339.0</td>\n",
       "      <td>167592.0</td>\n",
       "    </tr>\n",
       "    <tr>\n",
       "      <th>406</th>\n",
       "      <td>York</td>\n",
       "      <td>0.347070</td>\n",
       "      <td>0.914235</td>\n",
       "      <td>733</td>\n",
       "      <td>South Carolina</td>\n",
       "      <td>$26,553</td>\n",
       "      <td>$53,740</td>\n",
       "      <td>$66,256</td>\n",
       "      <td>230934.0</td>\n",
       "      <td>86483.0</td>\n",
       "    </tr>\n",
       "  </tbody>\n",
       "</table>\n",
       "<p>407 rows × 10 columns</p>\n",
       "</div>"
      ],
      "text/plain": [
       "    county  president_GOP_vote_share  GOP_vote_ratio  Rank  \\\n",
       "0    Adams                  0.321549        0.959717   248   \n",
       "1    Adams                  0.321549        0.959717   600   \n",
       "2    Adams                  0.321549        0.959717   929   \n",
       "3    Adams                  0.321549        0.959717  1229   \n",
       "4    Adams                  0.321549        0.959717  1233   \n",
       "..     ...                       ...             ...   ...   \n",
       "402   York                  0.347070        0.914235    95   \n",
       "403   York                  0.347070        0.914235   390   \n",
       "404   York                  0.347070        0.914235   470   \n",
       "405   York                  0.347070        0.914235   480   \n",
       "406   York                  0.347070        0.914235   733   \n",
       "\n",
       "    State, federal district or territory Per capitaincome  \\\n",
       "0                           North Dakota          $31,502   \n",
       "1                           Pennsylvania          $27,284   \n",
       "2                               Nebraska          $25,571   \n",
       "3                               Illinois          $24,217   \n",
       "4                               Colorado          $24,195   \n",
       "..                                   ...              ...   \n",
       "402                             Virginia          $36,373   \n",
       "403                                Maine          $29,125   \n",
       "404                             Nebraska          $28,207   \n",
       "405                         Pennsylvania          $28,132   \n",
       "406                       South Carolina          $26,553   \n",
       "\n",
       "    Medianhouseholdincome Medianfamilyincome  Population  Number ofhouseholds  \n",
       "0                 $47,798            $65,859      2328.0               1101.0  \n",
       "1                 $59,492            $69,551    101496.0              38141.0  \n",
       "2                 $49,440            $65,286     31367.0              12578.0  \n",
       "3                 $45,073            $58,992     67152.0              26912.0  \n",
       "4                 $56,270            $64,611    452030.0             152803.0  \n",
       "..                    ...                ...         ...                  ...  \n",
       "402               $82,073            $95,392     65762.0              24071.0  \n",
       "403               $57,348            $70,642    198220.0              81293.0  \n",
       "404               $49,633            $63,940     13762.0               5501.0  \n",
       "405               $58,745            $70,001    436339.0             167592.0  \n",
       "406               $53,740            $66,256    230934.0              86483.0  \n",
       "\n",
       "[407 rows x 10 columns]"
      ]
     },
     "execution_count": 135,
     "metadata": {},
     "output_type": "execute_result"
    }
   ],
   "source": [
    "new_merge_2 = pd.merge(president_GOP_votes_county_ratio, new_merge_1, on='county')\n",
    "new_merge_2"
   ]
  },
  {
   "cell_type": "code",
   "execution_count": 136,
   "id": "1c0d3adc",
   "metadata": {},
   "outputs": [
    {
     "data": {
      "text/plain": [
       "0      31502.0\n",
       "1      27284.0\n",
       "2      25571.0\n",
       "3      24217.0\n",
       "4      24195.0\n",
       "        ...   \n",
       "402    36373.0\n",
       "403    29125.0\n",
       "404    28207.0\n",
       "405    28132.0\n",
       "406    26553.0\n",
       "Name: Per capitaincome, Length: 407, dtype: float64"
      ]
     },
     "execution_count": 136,
     "metadata": {},
     "output_type": "execute_result"
    }
   ],
   "source": [
    "new_merge_2['Per capitaincome'] = new_merge_2['Per capitaincome'].astype(str).str.replace(',', '').str.replace('$', '', regex=False).astype(float)\n",
    "new_merge_2['Per capitaincome']"
   ]
  },
  {
   "cell_type": "code",
   "execution_count": 137,
   "id": "b8370ec0",
   "metadata": {
    "scrolled": true
   },
   "outputs": [
    {
     "data": {
      "text/html": [
       "<div>\n",
       "<style scoped>\n",
       "    .dataframe tbody tr th:only-of-type {\n",
       "        vertical-align: middle;\n",
       "    }\n",
       "\n",
       "    .dataframe tbody tr th {\n",
       "        vertical-align: top;\n",
       "    }\n",
       "\n",
       "    .dataframe thead th {\n",
       "        text-align: right;\n",
       "    }\n",
       "</style>\n",
       "<table border=\"1\" class=\"dataframe\">\n",
       "  <thead>\n",
       "    <tr style=\"text-align: right;\">\n",
       "      <th></th>\n",
       "      <th>county</th>\n",
       "      <th>president_GOP_vote_share</th>\n",
       "      <th>GOP_vote_ratio</th>\n",
       "      <th>Rank</th>\n",
       "      <th>State, federal district or territory</th>\n",
       "      <th>Per capitaincome</th>\n",
       "      <th>Medianhouseholdincome</th>\n",
       "      <th>Medianfamilyincome</th>\n",
       "      <th>Population</th>\n",
       "      <th>Number ofhouseholds</th>\n",
       "    </tr>\n",
       "  </thead>\n",
       "  <tbody>\n",
       "    <tr>\n",
       "      <th>0</th>\n",
       "      <td>Adams</td>\n",
       "      <td>0.321549</td>\n",
       "      <td>0.959717</td>\n",
       "      <td>248</td>\n",
       "      <td>North Dakota</td>\n",
       "      <td>31502.0</td>\n",
       "      <td>$47,798</td>\n",
       "      <td>$65,859</td>\n",
       "      <td>2328.0</td>\n",
       "      <td>1101.0</td>\n",
       "    </tr>\n",
       "    <tr>\n",
       "      <th>12</th>\n",
       "      <td>Albany</td>\n",
       "      <td>0.429727</td>\n",
       "      <td>0.942197</td>\n",
       "      <td>210</td>\n",
       "      <td>New York</td>\n",
       "      <td>32328.0</td>\n",
       "      <td>$59,394</td>\n",
       "      <td>$81,846</td>\n",
       "      <td>305279.0</td>\n",
       "      <td>122700.0</td>\n",
       "    </tr>\n",
       "    <tr>\n",
       "      <th>16</th>\n",
       "      <td>Arlington</td>\n",
       "      <td>0.162871</td>\n",
       "      <td>0.973079</td>\n",
       "      <td>2</td>\n",
       "      <td>Virginia</td>\n",
       "      <td>62018.0</td>\n",
       "      <td>$103,208</td>\n",
       "      <td>$139,244</td>\n",
       "      <td>214861.0</td>\n",
       "      <td>94454.0</td>\n",
       "    </tr>\n",
       "    <tr>\n",
       "      <th>19</th>\n",
       "      <td>Barnstable</td>\n",
       "      <td>0.402294</td>\n",
       "      <td>0.986998</td>\n",
       "      <td>102</td>\n",
       "      <td>Massachusetts</td>\n",
       "      <td>36142.0</td>\n",
       "      <td>$60,526</td>\n",
       "      <td>$76,311</td>\n",
       "      <td>215449.0</td>\n",
       "      <td>95398.0</td>\n",
       "    </tr>\n",
       "    <tr>\n",
       "      <th>29</th>\n",
       "      <td>Bristol</td>\n",
       "      <td>0.438653</td>\n",
       "      <td>0.798210</td>\n",
       "      <td>52</td>\n",
       "      <td>Rhode Island</td>\n",
       "      <td>38893.0</td>\n",
       "      <td>$71,238</td>\n",
       "      <td>$93,131</td>\n",
       "      <td>49426.0</td>\n",
       "      <td>19174.0</td>\n",
       "    </tr>\n",
       "  </tbody>\n",
       "</table>\n",
       "</div>"
      ],
      "text/plain": [
       "        county  president_GOP_vote_share  GOP_vote_ratio Rank  \\\n",
       "0        Adams                  0.321549        0.959717  248   \n",
       "12      Albany                  0.429727        0.942197  210   \n",
       "16   Arlington                  0.162871        0.973079    2   \n",
       "19  Barnstable                  0.402294        0.986998  102   \n",
       "29     Bristol                  0.438653        0.798210   52   \n",
       "\n",
       "   State, federal district or territory  Per capitaincome  \\\n",
       "0                          North Dakota           31502.0   \n",
       "12                             New York           32328.0   \n",
       "16                             Virginia           62018.0   \n",
       "19                        Massachusetts           36142.0   \n",
       "29                         Rhode Island           38893.0   \n",
       "\n",
       "   Medianhouseholdincome Medianfamilyincome  Population  Number ofhouseholds  \n",
       "0                $47,798            $65,859      2328.0               1101.0  \n",
       "12               $59,394            $81,846    305279.0             122700.0  \n",
       "16              $103,208           $139,244    214861.0              94454.0  \n",
       "19               $60,526            $76,311    215449.0              95398.0  \n",
       "29               $71,238            $93,131     49426.0              19174.0  "
      ]
     },
     "execution_count": 137,
     "metadata": {},
     "output_type": "execute_result"
    }
   ],
   "source": [
    "rich_counties = new_merge_2.loc[new_merge_2['Per capitaincome'] > 31000]\n",
    "rich_counties.head()"
   ]
  },
  {
   "cell_type": "code",
   "execution_count": 138,
   "id": "ec007044",
   "metadata": {
    "scrolled": true
   },
   "outputs": [
    {
     "data": {
      "text/html": [
       "<div>\n",
       "<style scoped>\n",
       "    .dataframe tbody tr th:only-of-type {\n",
       "        vertical-align: middle;\n",
       "    }\n",
       "\n",
       "    .dataframe tbody tr th {\n",
       "        vertical-align: top;\n",
       "    }\n",
       "\n",
       "    .dataframe thead th {\n",
       "        text-align: right;\n",
       "    }\n",
       "</style>\n",
       "<table border=\"1\" class=\"dataframe\">\n",
       "  <thead>\n",
       "    <tr style=\"text-align: right;\">\n",
       "      <th></th>\n",
       "      <th>county</th>\n",
       "      <th>president_GOP_vote_share</th>\n",
       "      <th>GOP_vote_ratio</th>\n",
       "      <th>Rank</th>\n",
       "      <th>State, federal district or territory</th>\n",
       "      <th>Per capitaincome</th>\n",
       "      <th>Medianhouseholdincome</th>\n",
       "      <th>Medianfamilyincome</th>\n",
       "      <th>Population</th>\n",
       "      <th>Number ofhouseholds</th>\n",
       "    </tr>\n",
       "  </thead>\n",
       "  <tbody>\n",
       "    <tr>\n",
       "      <th>1</th>\n",
       "      <td>Adams</td>\n",
       "      <td>0.321549</td>\n",
       "      <td>0.959717</td>\n",
       "      <td>600</td>\n",
       "      <td>Pennsylvania</td>\n",
       "      <td>27284.0</td>\n",
       "      <td>$59,492</td>\n",
       "      <td>$69,551</td>\n",
       "      <td>101496.0</td>\n",
       "      <td>38141.0</td>\n",
       "    </tr>\n",
       "    <tr>\n",
       "      <th>2</th>\n",
       "      <td>Adams</td>\n",
       "      <td>0.321549</td>\n",
       "      <td>0.959717</td>\n",
       "      <td>929</td>\n",
       "      <td>Nebraska</td>\n",
       "      <td>25571.0</td>\n",
       "      <td>$49,440</td>\n",
       "      <td>$65,286</td>\n",
       "      <td>31367.0</td>\n",
       "      <td>12578.0</td>\n",
       "    </tr>\n",
       "    <tr>\n",
       "      <th>3</th>\n",
       "      <td>Adams</td>\n",
       "      <td>0.321549</td>\n",
       "      <td>0.959717</td>\n",
       "      <td>1229</td>\n",
       "      <td>Illinois</td>\n",
       "      <td>24217.0</td>\n",
       "      <td>$45,073</td>\n",
       "      <td>$58,992</td>\n",
       "      <td>67152.0</td>\n",
       "      <td>26912.0</td>\n",
       "    </tr>\n",
       "    <tr>\n",
       "      <th>4</th>\n",
       "      <td>Adams</td>\n",
       "      <td>0.321549</td>\n",
       "      <td>0.959717</td>\n",
       "      <td>1233</td>\n",
       "      <td>Colorado</td>\n",
       "      <td>24195.0</td>\n",
       "      <td>$56,270</td>\n",
       "      <td>$64,611</td>\n",
       "      <td>452030.0</td>\n",
       "      <td>152803.0</td>\n",
       "    </tr>\n",
       "    <tr>\n",
       "      <th>5</th>\n",
       "      <td>Adams</td>\n",
       "      <td>0.321549</td>\n",
       "      <td>0.959717</td>\n",
       "      <td>1359</td>\n",
       "      <td>Iowa</td>\n",
       "      <td>23707.0</td>\n",
       "      <td>$45,871</td>\n",
       "      <td>$56,552</td>\n",
       "      <td>3973.0</td>\n",
       "      <td>1745.0</td>\n",
       "    </tr>\n",
       "  </tbody>\n",
       "</table>\n",
       "</div>"
      ],
      "text/plain": [
       "  county  president_GOP_vote_share  GOP_vote_ratio  Rank  \\\n",
       "1  Adams                  0.321549        0.959717   600   \n",
       "2  Adams                  0.321549        0.959717   929   \n",
       "3  Adams                  0.321549        0.959717  1229   \n",
       "4  Adams                  0.321549        0.959717  1233   \n",
       "5  Adams                  0.321549        0.959717  1359   \n",
       "\n",
       "  State, federal district or territory  Per capitaincome  \\\n",
       "1                         Pennsylvania           27284.0   \n",
       "2                             Nebraska           25571.0   \n",
       "3                             Illinois           24217.0   \n",
       "4                             Colorado           24195.0   \n",
       "5                                 Iowa           23707.0   \n",
       "\n",
       "  Medianhouseholdincome Medianfamilyincome  Population  Number ofhouseholds  \n",
       "1               $59,492            $69,551    101496.0              38141.0  \n",
       "2               $49,440            $65,286     31367.0              12578.0  \n",
       "3               $45,073            $58,992     67152.0              26912.0  \n",
       "4               $56,270            $64,611    452030.0             152803.0  \n",
       "5               $45,871            $56,552      3973.0               1745.0  "
      ]
     },
     "execution_count": 138,
     "metadata": {},
     "output_type": "execute_result"
    }
   ],
   "source": [
    "poor_counties = new_merge_2.loc[new_merge_2['Per capitaincome'] <= 31000]\n",
    "poor_counties.head()"
   ]
  },
  {
   "cell_type": "markdown",
   "id": "02b72e0f",
   "metadata": {},
   "source": [
    "## Summary Statistics Tables"
   ]
  },
  {
   "cell_type": "code",
   "execution_count": null,
   "id": "d8801a39",
   "metadata": {
    "scrolled": false
   },
   "outputs": [],
   "source": [
    "merged_president_house.describe()"
   ]
  },
  {
   "cell_type": "markdown",
   "id": "9be0f825",
   "metadata": {},
   "source": [
    "From the summary statistics of the table merged by Republican House vote share by state and Republican presidential vote share by state, we can see that the 25%, 50%, and 75% level of vote shares of Republican House candidate is higher than that of Republican presidential candidate in 2020. Those numbers represent the Y variable, the outcome of the presidential election and one of the X variables, the Republican party's popularity represented by Republican House vote shares. Since the Y variable is dependent on the two X variables, we can infer the other X variable, the quality of the candidate Donald Trump, and find out whether he is dragging down the Republican party in the 2020 presidential election. We can see that House Republican candidates' 25th, 50th and 75th percentile of vote share in all the U.S. states is higher than that of Donald Trump, which means that House Republicans performed better than Trump. Therefore, we can infer that the Republican party's popularity nationwide is higher than Trump's. This might be caused by his mishandling of the pandemic, unfriendly atitude towards minorities and the evangelicals' disapproval on his way of wife."
   ]
  },
  {
   "cell_type": "code",
   "execution_count": null,
   "id": "ad54185a",
   "metadata": {
    "scrolled": true
   },
   "outputs": [],
   "source": [
    "merged_president_senate.describe()"
   ]
  },
  {
   "cell_type": "markdown",
   "id": "e39ccb29",
   "metadata": {},
   "source": [
    "From the summary statistics of the table merged by Republican Senate vote share by county and Republican presidential vote share by state, we can see that the 25%, 50%, and 75% level of vote shares of Republican Senate candidate is higher than that of Republican presidential candidate in 2020. Those numbers represent the Y variable, the outcome of the presidential election and one of the X variables, the Republican party's popularity represented by Republican Senate vote shares. Since the Y variable is dependent on the two X variables, we can infer the other X variable, the quality of the candidate Donald Trump, and find out whether he is dragging down the Republican party in the 2020 presidential election. We can see that Senate Republican candidates' 25th, 50th and 75th percentile of vote share in counties, where Senators are reelected in 2020, is higher than that of Donald Trump, which means that Senate Republicans performed better than Trump. Therefore, we can infer that the Republican party's popularity nationwide is higher than Trump's. This might be caused by his mishandling of the pandemic, unfriendly atitude towards minorities and the evangelicals' disapproval on his way of wife."
   ]
  },
  {
   "cell_type": "markdown",
   "id": "d4d3f385",
   "metadata": {},
   "source": [
    "##  Plots and Figures"
   ]
  },
  {
   "cell_type": "markdown",
   "id": "9640b2a1",
   "metadata": {},
   "source": [
    "### Investigation 1 (Representing Republican party popularity by House vote share)\n",
    "\n",
    "In the second investigation, we are going to evaluate one of the X variables, the popularity of the candidate's party. The popularity of the candidate's party in each state is based on the ratio such that the sum of all Republican House candidates' votes to the total vote cast in each state. Then we can find what impact Trump imposed on the Republican party in 2020, by comparing Trump's vote share and Republican vote share in house elections in each state. Given the Y variable, Republican presidential candidate Trump's vote share, and one of X variables, the popularity of the Republican party which is represented by Republican vote share in the House. in this case, we can infer whether Trump is the one to take the blame. In this investigation, we found out that Trump performs worse than Republican House candidates in most states, so Trump is the one who should take responsibility, as the Republican Party's popularity in terms of house vote share is even more than the vote share of Republican Presidential Candidates. So it must be the quality of the candidate that is dragging down the Republican Party in the 2020 presidential election. If you still find my reasoning hard to understand, please go back to the beginning of this report and review the example explaining the reasoning process in the introduction section.\n",
    "\n",
    "\n",
    "More specific analyses and plots are listed below:"
   ]
  },
  {
   "cell_type": "code",
   "execution_count": 44,
   "id": "5bd32b5b",
   "metadata": {
    "scrolled": false
   },
   "outputs": [
    {
     "data": {
      "image/png": "[encoded data removed]",
      "text/plain": [
       "<Figure size 640x480 with 1 Axes>"
      ]
     },
     "metadata": {},
     "output_type": "display_data"
    }
   ],
   "source": [
    "# Draw the box plot\n",
    "merged_president_house['multi_index'] = list(zip(merged_president_house.GOP_vote_ratio, \\\n",
    "merged_president_house.Republican_Votes_Share))\n",
    "merged_president_house.set_index('multi_index', inplace=True)\n",
    "merged_president_house.boxplot()\n",
    "\n",
    "# Add x-axis labels\n",
    "plt.xlabel(\"Note: GOP President Vote Share (Left) & GOP House Vote Share (Right)\")\n",
    "\n",
    "# Add the title\n",
    "plt.title(\"Boxplot of GOP President Vote Share and GOP House Vote Share\")\n",
    "\n",
    "# Show the plot\n",
    "plt.show()"
   ]
  },
  {
   "cell_type": "markdown",
   "id": "56ca2262",
   "metadata": {},
   "source": [
    "The median of the left box plot represents the Y variable, the Republican's performance in the presidential election, and the mean of the right box plot represent one of the X variable, the Republican Party's overall popularity in terms of House race. Since the mean of the right box plot is higher than that of the left one. We can infer that it is Trump's unpopularity that causes the Republican Party to perform worse than they supposed to have in the 2020 presidential election. "
   ]
  },
  {
   "cell_type": "code",
   "execution_count": 45,
   "id": "8d4721c2",
   "metadata": {
    "scrolled": false
   },
   "outputs": [
    {
     "data": {
      "image/png": "[encoded data removed]",
      "text/plain": [
       "<Figure size 640x480 with 1 Axes>"
      ]
     },
     "metadata": {},
     "output_type": "display_data"
    }
   ],
   "source": [
    "\n",
    "merged_final['color'] = np.where(merged_final['Republican_Votes_Share'] > merged_final['GOP_vote_ratio'], 'pink', 'red')\n",
    "\n",
    "# create a scatter plot\n",
    "ax = merged_final.plot.scatter(x='GOP_vote_ratio', y='Republican_Votes_Share', c=merged_final['color'])\n",
    "\n",
    "# add a line with equation y=x\n",
    "x = np.linspace(*ax.get_xlim())\n",
    "ax.plot(x, x, color='red', linestyle='--')\n",
    "\n",
    "# add axis labels and title\n",
    "plt.xlabel('GOP vote ratio')\n",
    "plt.ylabel('Republican vote share')\n",
    "plt.title('Scatter plot with y=x line and colored points')\n",
    "\n",
    "# show the plot\n",
    "plt.show()"
   ]
  },
  {
   "cell_type": "markdown",
   "id": "bf6aace5",
   "metadata": {},
   "source": [
    "In this scatter plot, data points under y=x which are in red, represent all counties where the Republican Party performed better in the House race than they did in the presidential election. Their performance in the house represents the Republican party's overall popularity (as the sample size is large enough), which is solely determined by the Republican party itself. However, their performance in the presidential election is the Y variable, determined by the quality of the candidate, Donald Trump, and the popularity of the Republican Party. If the Republicans performed better in most counties than they did in the presidential election, as shown in the scatter plot, then Donald Trump must have dragged down the Republican vote share in the 2020 presidential election."
   ]
  },
  {
   "cell_type": "markdown",
   "id": "a5b09355",
   "metadata": {},
   "source": [
    "From the economic perspective, Trump's mishandling of the U.S. economy during the pandemic contribute significantly to the Republicans' defeat in the 2020 presidential election. When the country suffered from the COVID-19 pandemic, which caused widespread job losses and economic uncertainty. The pandemic also result in a significant economic recession in the economy in the first half of 2020, and many Americans felt that the Trump administration's response to the crisis was leading the country in the wrong direction. Furthermore, issues such as income inequality, trade policy, improper foreign policy with allies and trade partners and expensive healthcare also contributed to voters' concerns about the economy and influenced their decision at the ballot box. Ultimately, these economic issues, along with other factors such as the handling of the pandemic, Trump's polarizing politics, and his damage to America's standing and image on the world stage. \n",
    "\n",
    "All those negative impacts are mainly caused by the Trump administration, not the establishment Republicans. Also, there is no evident sign that the Republican party's ideology and image becomes less significantly unpopular among Americans. So it is likely that Trump's bad governance and his unpopular image account most for the Republican party's defeat in the 2020 presidential election, which is consistent with out analysis in this investigation."
   ]
  },
  {
   "cell_type": "markdown",
   "id": "cc618063",
   "metadata": {},
   "source": [
    "### Investigation 2 (Representing Republican party popularity by Senate vote share)\n",
    "\n",
    "In investigation 2, the same applies, but we are going to evaluate one of the X variables, the popularity of the candidate's party, in a different way, based on the vote share of Republicans in the Senate. Then we can find what impact Trump imposed on the Republican party in 2020, by comparing Trump's vote share and Republican Senate candidates' vote share by county, which is the same method we used in investigation 1, but we can reaffirm and prove our findings in investigation 1 using data from Senate in this investigation."
   ]
  },
  {
   "cell_type": "code",
   "execution_count": 46,
   "id": "7ed3d50f",
   "metadata": {},
   "outputs": [
    {
     "data": {
      "image/png": "[encoded data removed]",
      "text/plain": [
       "<Figure size 640x480 with 1 Axes>"
      ]
     },
     "metadata": {},
     "output_type": "display_data"
    }
   ],
   "source": [
    "#Draw box plot of Republican_Votes_Share and GOP_vote_ratio\n",
    "merged_president_senate.boxplot()\n",
    "\n",
    "# Add x-axis labels\n",
    "plt.xlabel(\"Note: Replican Senate vote share (Left) & GOP President Vote Share (Right) \")\n",
    "plt.title('Boxplot of Replican Senate vote share and GOP President Vote Share')\n",
    "plt.show()\n"
   ]
  },
  {
   "cell_type": "markdown",
   "id": "8b149493",
   "metadata": {},
   "source": [
    "The median of the left box plot represent the Y variable, Republican's performance in presidential election, the mean of the right box plots represent one of the X variable, the Republican Party's overall popularity in terms of Senate race. Since the mean of right box plot is higher than that of left variable. We can infer that it is Trump's unpopularity that causes the Republican Party performing worse than they supposed to have in the 2020 presidential election. "
   ]
  },
  {
   "cell_type": "code",
   "execution_count": 47,
   "id": "a12cd533",
   "metadata": {
    "scrolled": false
   },
   "outputs": [
    {
     "data": {
      "text/plain": [
       "<matplotlib.legend.Legend at 0x7ff6a1e41160>"
      ]
     },
     "execution_count": 47,
     "metadata": {},
     "output_type": "execute_result"
    }
   ],
   "source": [
    "#Make the scatter points above the line y = x red and others black\n",
    "merged_president_senate[\"color\"] = \\\n",
    "np.where(merged_president_senate['GOP_vote_ratio'] >= \\\n",
    "merged_president_senate['president_GOP_vote_share'], \"pink\", \"red\")\n",
    "ax = merged_president_senate.plot(x='GOP_vote_ratio', y='president_GOP_vote_share', kind='scatter', \\\n",
    "c=merged_president_senate[\"color\"])\n",
    "ax.set_xlabel('Repulican senate candidates vote share by county')\n",
    "ax.set_ylabel('Republican presidential candidate vote share by county')\n",
    "plt.title(\"Repulican presidential candidate vote Share vs. Republican senate candidate vote share by county\")\n",
    "\n",
    "#Add the line y = x to help us infer the result illustrated in the following. \n",
    "x = np.linspace(*ax.get_xlim(), num=100)\n",
    "ax.plot(x, x, color='red', linestyle='-', label='y=x')\n",
    "ax.legend()\n",
    "\n"
   ]
  },
  {
   "cell_type": "markdown",
   "id": "0341fd7e",
   "metadata": {},
   "source": [
    "In this scatter plot, data points under y=x which are in red, represent all counties where the Republican Party performed better in the Senate race than they did in the presidential election. Their performance in Senate represents the Republican party's overall popularity (as the sample size is large enough), which is solely determined by the Republican party itself. However, their performance in the presidential election is the Y variable, determined by the quality of the candidate, Donald Trump, and the popularity of the Republican Party. If the Republicans performed better in the most state than they did in the presidential election, as shown in the scatter plot, then Donald Trump must have dragged down the Republican vote share in the 2020 presidential election.\n",
    "\n",
    "As stated in investigation 1, from the economic perspective, Trump's mishandling of the U.S. economy during the pandemic contribute significantly to the Republicans' defeat in the 2020 presidential election. Plus, there is no substantial evidence that Republican ideology and image are significantly less popular than that of the Democratic party in 2020. Then Trump should take responsibility for the Republican party's loss in the 2020 presidential election."
   ]
  },
  {
   "cell_type": "markdown",
   "id": "dc4494c9",
   "metadata": {},
   "source": [
    "# Project 2"
   ]
  },
  {
   "cell_type": "markdown",
   "id": "9a67a9a2",
   "metadata": {},
   "source": [
    "## The Message\n",
    "\n",
    "In this project, we are conducting research to find out whether Donald Trump should be held accountable for Republican failure in the 2020 presidential election. According to my analysis in project one, we can draw a preliminary conclusion that Trump did impose negative impact on the Republican. As we see in project 1, Trump is less popular than the the overall level of the congressional Republican candidates, which means he is very likely dragging down the image and performance of the Republicans in 2020. Moreover, we are going to analyse relevant data using maps, so that we can dig into the question from geographical perspective. Furthermore, we can analyse the research question by subgroups to find out more about the research question. In this project, we would divide all the U.S. states into two group, coastal states which are situated by the Atlantic or Pacific, and central states which are all the states other than coastal states. Then we can have a closer look at Trump’s impact on the Republican campaign in the 2020 presidential election, from a geographical perspective."
   ]
  },
  {
   "cell_type": "markdown",
   "id": "94456904",
   "metadata": {},
   "source": [
    "## Maps and Interpretations"
   ]
  },
  {
   "cell_type": "markdown",
   "id": "f696be92",
   "metadata": {},
   "source": [
    "In this section, we are going to compare how did House Republicans and Donald Trump performed both in coastal and central states. Therefore, we could analyze Trump's impact from geographical perspective."
   ]
  },
  {
   "cell_type": "code",
   "execution_count": 48,
   "id": "cb82fd3a",
   "metadata": {},
   "outputs": [
    {
     "data": {
      "image/png": "[encoded data removed]",
      "text/plain": [
       "<Figure size 640x480 with 1 Axes>"
      ]
     },
     "metadata": {},
     "output_type": "display_data"
    },
    {
     "data": {
      "image/png": "[encoded data removed]",
      "text/plain": [
       "<Figure size 640x480 with 1 Axes>"
      ]
     },
     "metadata": {},
     "output_type": "display_data"
    }
   ],
   "source": [
    "# create figure and axes\n",
    "fig, ax = plt.subplots()\n",
    "\n",
    "# plot Republican Votes Share as red circles\n",
    "ax.scatter(coastal_state['state'], coastal_state['Republican_Votes_Share_x'], color='red', label='GOP House Vote Share')\n",
    "\n",
    "# plot GOP Vote Ratio as green triangles\n",
    "ax.scatter(coastal_state['state'], coastal_state['GOP_vote_ratio'], color='green', marker='^', label='GOP President Vote Share')\n",
    "\n",
    "# set x-axis label and ticks\n",
    "ax.set_xlabel('state')\n",
    "ax.set_xticks(coastal_state['state'])\n",
    "ax.set_xticklabels(coastal_state['state'], rotation=90)\n",
    "\n",
    "# set y-axis label\n",
    "ax.set_ylabel('Support ratio')\n",
    "\n",
    "# set legend\n",
    "ax.legend()\n",
    "\n",
    "# show plot\n",
    "plt.show()"
   ]
  },
  {
   "cell_type": "code",
   "execution_count": 49,
   "id": "aecdf53f",
   "metadata": {
    "scrolled": false
   },
   "outputs": [
    {
     "data": {
      "image/png": "[encoded data removed]",
      "text/plain": [
       "<Figure size 640x480 with 1 Axes>"
      ]
     },
     "metadata": {},
     "output_type": "display_data"
    }
   ],
   "source": [
    "# create figure and axes\n",
    "fig, ax = plt.subplots()\n",
    "\n",
    "# plot Republican Votes Share as red circles\n",
    "ax.scatter(central_state['state'], central_state['Republican_Votes_Share_x'], color='red', label='GOP House Votes Share')\n",
    "\n",
    "# plot GOP Vote Ratio as green triangles\n",
    "ax.scatter(central_state['state'], central_state['GOP_vote_ratio'], color='green', marker='^', label='GOP President Vote Share')\n",
    "\n",
    "# set x-axis label and ticks\n",
    "ax.set_xlabel('state')\n",
    "ax.set_xticks(central_state['state'])\n",
    "ax.set_xticklabels(central_state['state'], rotation=90)\n",
    "\n",
    "# set y-axis label\n",
    "ax.set_ylabel('Support ratio')\n",
    "\n",
    "# set legend\n",
    "ax.legend()\n",
    "\n",
    "# show plot\n",
    "plt.show()"
   ]
  },
  {
   "cell_type": "markdown",
   "id": "5d9b7fa2",
   "metadata": {},
   "source": [
    "From the plot above, we can see that comparison of and House Republican candidates’ vote share and Trump’s, both in ‘coastal’ states and ‘central’ states, where ‘coastal states’ are those states that are situated by the Atlantic or Pacific, and ‘central states’ are the rest. Trump outperformed House Republican candidates in the majority ‘coastal’ states, but underperformed House Republican candidate in the majority of ‘central’ states. So in general, Trump gained more support in ‘coastal’ states than in ‘central’ states. We do not know the reason behind it. But it is a possibility that people live in East and West coast are more open to Trump’s lifestyle and his attitude towards sex, while people from ‘central’ states where conservative christians take up a large proportion of the population do not perceive Trump is an ideal representative of their values. "
   ]
  },
  {
   "cell_type": "code",
   "execution_count": 50,
   "id": "bcb09a3d",
   "metadata": {
    "scrolled": false
   },
   "outputs": [
    {
     "data": {
      "text/html": [
       "<div>\n",
       "<style scoped>\n",
       "    .dataframe tbody tr th:only-of-type {\n",
       "        vertical-align: middle;\n",
       "    }\n",
       "\n",
       "    .dataframe tbody tr th {\n",
       "        vertical-align: top;\n",
       "    }\n",
       "\n",
       "    .dataframe thead th {\n",
       "        text-align: right;\n",
       "    }\n",
       "</style>\n",
       "<table border=\"1\" class=\"dataframe\">\n",
       "  <thead>\n",
       "    <tr style=\"text-align: right;\">\n",
       "      <th></th>\n",
       "      <th>state</th>\n",
       "      <th>(state, )</th>\n",
       "      <th>(total_votes, DEM)</th>\n",
       "      <th>(total_votes, REP)</th>\n",
       "      <th>(won, DEM)</th>\n",
       "      <th>(won, REP)</th>\n",
       "      <th>usa_state_code_x</th>\n",
       "      <th>percent_republican</th>\n",
       "      <th>usa_state_code_y</th>\n",
       "    </tr>\n",
       "  </thead>\n",
       "  <tbody>\n",
       "    <tr>\n",
       "      <th>0</th>\n",
       "      <td>Alabama</td>\n",
       "      <td>Alabama</td>\n",
       "      <td>849648</td>\n",
       "      <td>1441168</td>\n",
       "      <td>13</td>\n",
       "      <td>54</td>\n",
       "      <td>AL</td>\n",
       "      <td>0.629107</td>\n",
       "      <td>AL</td>\n",
       "    </tr>\n",
       "    <tr>\n",
       "      <th>1</th>\n",
       "      <td>Alaska</td>\n",
       "      <td>Alaska</td>\n",
       "      <td>153405</td>\n",
       "      <td>189892</td>\n",
       "      <td>17</td>\n",
       "      <td>20</td>\n",
       "      <td>AK</td>\n",
       "      <td>0.553142</td>\n",
       "      <td>AK</td>\n",
       "    </tr>\n",
       "    <tr>\n",
       "      <th>2</th>\n",
       "      <td>Arizona</td>\n",
       "      <td>Arizona</td>\n",
       "      <td>1672143</td>\n",
       "      <td>1661686</td>\n",
       "      <td>5</td>\n",
       "      <td>10</td>\n",
       "      <td>AZ</td>\n",
       "      <td>0.498432</td>\n",
       "      <td>AZ</td>\n",
       "    </tr>\n",
       "    <tr>\n",
       "      <th>3</th>\n",
       "      <td>Arkansas</td>\n",
       "      <td>Arkansas</td>\n",
       "      <td>423932</td>\n",
       "      <td>760647</td>\n",
       "      <td>8</td>\n",
       "      <td>67</td>\n",
       "      <td>AR</td>\n",
       "      <td>0.642124</td>\n",
       "      <td>AR</td>\n",
       "    </tr>\n",
       "    <tr>\n",
       "      <th>4</th>\n",
       "      <td>California</td>\n",
       "      <td>California</td>\n",
       "      <td>11109764</td>\n",
       "      <td>6005961</td>\n",
       "      <td>35</td>\n",
       "      <td>23</td>\n",
       "      <td>CA</td>\n",
       "      <td>0.350903</td>\n",
       "      <td>CA</td>\n",
       "    </tr>\n",
       "  </tbody>\n",
       "</table>\n",
       "</div>"
      ],
      "text/plain": [
       "        state   (state, )  (total_votes, DEM)  (total_votes, REP)  (won, DEM)  \\\n",
       "0     Alabama     Alabama              849648             1441168          13   \n",
       "1      Alaska      Alaska              153405              189892          17   \n",
       "2     Arizona     Arizona             1672143             1661686           5   \n",
       "3    Arkansas    Arkansas              423932              760647           8   \n",
       "4  California  California            11109764             6005961          35   \n",
       "\n",
       "   (won, REP) usa_state_code_x  percent_republican usa_state_code_y  \n",
       "0          54               AL            0.629107               AL  \n",
       "1          20               AK            0.553142               AK  \n",
       "2          10               AZ            0.498432               AZ  \n",
       "3          67               AR            0.642124               AR  \n",
       "4          23               CA            0.350903               CA  "
      ]
     },
     "execution_count": 50,
     "metadata": {},
     "output_type": "execute_result"
    }
   ],
   "source": [
    "# Read the CSV file into a DataFrame\n",
    "state_codes = pd.read_csv('/Users/richardhsiao/Documents/ECO225/archive/world_country_and_usa_states_latitude_and_longitude_values.csv')\n",
    "\n",
    "# Select only the 'usa_state' and 'usa_state_code' columns\n",
    "state_codes = state_codes[['usa_state', 'usa_state_code']]\n",
    "\n",
    "# Rename the 'usa_state' column to 'state'\n",
    "state_codes = state_codes.rename(columns={'usa_state': 'state'})\n",
    "\n",
    "# Merge the state_codes DataFrame with df_president_county on the 'state' column\n",
    "df_president_county = df_president_county.merge(state_codes, on='state')\n",
    "\n",
    "# Compute the percentage of Republican votes\n",
    "df_president_county['percent_republican'] = df_president_county[('total_votes', 'REP')]  / (df_president_county[('total_votes', 'REP')] + df_president_county[('total_votes', 'DEM')])\n",
    "\n",
    "# Remove any duplicated columns\n",
    "df_president_county = df_president_county.loc[:, ~df_president_county.columns.duplicated()]\n",
    "\n",
    "# Output the final DataFrame\n",
    "df_president_county.head()"
   ]
  },
  {
   "cell_type": "code",
   "execution_count": 51,
   "id": "d898cccf",
   "metadata": {
    "scrolled": false
   },
   "outputs": [
    {
     "data": {
      "application/vnd.plotly.v1+json": {
       "config": {
        "plotlyServerURL": "https://plot.ly"
       },
       "data": [
        {
         "coloraxis": "coloraxis",
         "geo": "geo",
         "hovertemplate": "<b>%{hovertext}</b><br><br>usa_state_code_x=%{location}<br>percent_republican=%{z}<extra></extra>",
         "hovertext": [
          "Alabama",
          "Alaska",
          "Arizona",
          "Arkansas",
          "California",
          "Colorado",
          "Connecticut",
          "Delaware",
          "District of Columbia",
          "Florida",
          "Georgia",
          "Hawaii",
          "Idaho",
          "Illinois",
          "Indiana",
          "Iowa",
          "Kansas",
          "Kentucky",
          "Louisiana",
          "Maine",
          "Maryland",
          "Massachusetts",
          "Michigan",
          "Minnesota",
          "Mississippi",
          "Missouri",
          "Montana",
          "Nebraska",
          "Nevada",
          "New Hampshire",
          "New Jersey",
          "New Mexico",
          "New York",
          "North Carolina",
          "North Dakota",
          "Ohio",
          "Oklahoma",
          "Oregon",
          "Pennsylvania",
          "Rhode Island",
          "South Carolina",
          "South Dakota",
          "Tennessee",
          "Texas",
          "Utah",
          "Vermont",
          "Virginia",
          "Washington",
          "West Virginia",
          "Wisconsin",
          "Wyoming"
         ],
         "locationmode": "USA-states",
         "locations": [
          "AL",
          "AK",
          "AZ",
          "AR",
          "CA",
          "CO",
          "CT",
          "DE",
          "DC",
          "FL",
          "GA",
          "HI",
          "ID",
          "IL",
          "IN",
          "IA",
          "KS",
          "KY",
          "LA",
          "ME",
          "MD",
          "MA",
          "MI",
          "MN",
          "MS",
          "MO",
          "MT",
          "NE",
          "NV",
          "NH",
          "NJ",
          "NM",
          "NY",
          "NC",
          "ND",
          "OH",
          "OK",
          "OR",
          "PA",
          "RI",
          "SC",
          "SD",
          "TN",
          "TX",
          "UT",
          "VT",
          "VA",
          "WA",
          "WV",
          "WI",
          "WY"
         ],
         "name": "",
         "type": "choropleth",
         "z": [
          0.629106833547522,
          0.5531420315353761,
          0.49843168320870684,
          0.6421243327798315,
          0.350903102264146,
          0.43061680507699845,
          0.3982753619072914,
          0.40373255835015526,
          0.05533046152380555,
          0.5169475466214156,
          0.49880670337091354,
          0.3496733535348512,
          0.6587714292507787,
          0.39902423019440647,
          0.5819818480143806,
          0.5418326308463706,
          0.5757274054902568,
          0.6320010290026297,
          0.5946444045629105,
          0.4553539346029465,
          0.3297095295290766,
          0.3288445045985185,
          0.4858644065559054,
          0.46360486351433333,
          0.5838498582738886,
          0.5783582064440145,
          0.5839718009204811,
          0.5978405224660173,
          0.48776882659956194,
          0.4625165227840496,
          0.4192871641320516,
          0.4448150984828026,
          0.3826394745801741,
          0.5068418253318673,
          0.6721740842289663,
          0.5407669764770272,
          0.6694003949690651,
          0.4169284301455827,
          0.49402911824861157,
          0.39489810235017697,
          0.559266087495821,
          0.634347798616815,
          0.6182962773381881,
          0.5283072123677953,
          0.6069360512185163,
          0.3170081344719344,
          0.4484531300060009,
          0.4007449681520931,
          0.6979853231392202,
          0.49682047731103224,
          0.724804343755851
         ]
        }
       ],
       "layout": {
        "coloraxis": {
         "cmax": 0.8,
         "cmin": 0.4,
         "colorbar": {
          "title": {
           "text": "percent_republican"
          }
         },
         "colorscale": [
          [
           0,
           "white"
          ],
          [
           1,
           "red"
          ]
         ]
        },
        "geo": {
         "center": {},
         "domain": {
          "x": [
           0,
           1
          ],
          "y": [
           0,
           1
          ]
         },
         "scope": "usa"
        },
        "legend": {
         "tracegroupgap": 0
        },
        "template": {
         "data": {
          "bar": [
           {
            "error_x": {
             "color": "#2a3f5f"
            },
            "error_y": {
             "color": "#2a3f5f"
            },
            "marker": {
             "line": {
              "color": "#E5ECF6",
              "width": 0.5
             },
             "pattern": {
              "fillmode": "overlay",
              "size": 10,
              "solidity": 0.2
             }
            },
            "type": "bar"
           }
          ],
          "barpolar": [
           {
            "marker": {
             "line": {
              "color": "#E5ECF6",
              "width": 0.5
             },
             "pattern": {
              "fillmode": "overlay",
              "size": 10,
              "solidity": 0.2
             }
            },
            "type": "barpolar"
           }
          ],
          "carpet": [
           {
            "aaxis": {
             "endlinecolor": "#2a3f5f",
             "gridcolor": "white",
             "linecolor": "white",
             "minorgridcolor": "white",
             "startlinecolor": "#2a3f5f"
            },
            "baxis": {
             "endlinecolor": "#2a3f5f",
             "gridcolor": "white",
             "linecolor": "white",
             "minorgridcolor": "white",
             "startlinecolor": "#2a3f5f"
            },
            "type": "carpet"
           }
          ],
          "choropleth": [
           {
            "colorbar": {
             "outlinewidth": 0,
             "ticks": ""
            },
            "type": "choropleth"
           }
          ],
          "contour": [
           {
            "colorbar": {
             "outlinewidth": 0,
             "ticks": ""
            },
            "colorscale": [
             [
              0,
              "#0d0887"
             ],
             [
              0.1111111111111111,
              "#46039f"
             ],
             [
              0.2222222222222222,
              "#7201a8"
             ],
             [
              0.3333333333333333,
              "#9c179e"
             ],
             [
              0.4444444444444444,
              "#bd3786"
             ],
             [
              0.5555555555555556,
              "#d8576b"
             ],
             [
              0.6666666666666666,
              "#ed7953"
             ],
             [
              0.7777777777777778,
              "#fb9f3a"
             ],
             [
              0.8888888888888888,
              "#fdca26"
             ],
             [
              1,
              "#f0f921"
             ]
            ],
            "type": "contour"
           }
          ],
          "contourcarpet": [
           {
            "colorbar": {
             "outlinewidth": 0,
             "ticks": ""
            },
            "type": "contourcarpet"
           }
          ],
          "heatmap": [
           {
            "colorbar": {
             "outlinewidth": 0,
             "ticks": ""
            },
            "colorscale": [
             [
              0,
              "#0d0887"
             ],
             [
              0.1111111111111111,
              "#46039f"
             ],
             [
              0.2222222222222222,
              "#7201a8"
             ],
             [
              0.3333333333333333,
              "#9c179e"
             ],
             [
              0.4444444444444444,
              "#bd3786"
             ],
             [
              0.5555555555555556,
              "#d8576b"
             ],
             [
              0.6666666666666666,
              "#ed7953"
             ],
             [
              0.7777777777777778,
              "#fb9f3a"
             ],
             [
              0.8888888888888888,
              "#fdca26"
             ],
             [
              1,
              "#f0f921"
             ]
            ],
            "type": "heatmap"
           }
          ],
          "heatmapgl": [
           {
            "colorbar": {
             "outlinewidth": 0,
             "ticks": ""
            },
            "colorscale": [
             [
              0,
              "#0d0887"
             ],
             [
              0.1111111111111111,
              "#46039f"
             ],
             [
              0.2222222222222222,
              "#7201a8"
             ],
             [
              0.3333333333333333,
              "#9c179e"
             ],
             [
              0.4444444444444444,
              "#bd3786"
             ],
             [
              0.5555555555555556,
              "#d8576b"
             ],
             [
              0.6666666666666666,
              "#ed7953"
             ],
             [
              0.7777777777777778,
              "#fb9f3a"
             ],
             [
              0.8888888888888888,
              "#fdca26"
             ],
             [
              1,
              "#f0f921"
             ]
            ],
            "type": "heatmapgl"
           }
          ],
          "histogram": [
           {
            "marker": {
             "pattern": {
              "fillmode": "overlay",
              "size": 10,
              "solidity": 0.2
             }
            },
            "type": "histogram"
           }
          ],
          "histogram2d": [
           {
            "colorbar": {
             "outlinewidth": 0,
             "ticks": ""
            },
            "colorscale": [
             [
              0,
              "#0d0887"
             ],
             [
              0.1111111111111111,
              "#46039f"
             ],
             [
              0.2222222222222222,
              "#7201a8"
             ],
             [
              0.3333333333333333,
              "#9c179e"
             ],
             [
              0.4444444444444444,
              "#bd3786"
             ],
             [
              0.5555555555555556,
              "#d8576b"
             ],
             [
              0.6666666666666666,
              "#ed7953"
             ],
             [
              0.7777777777777778,
              "#fb9f3a"
             ],
             [
              0.8888888888888888,
              "#fdca26"
             ],
             [
              1,
              "#f0f921"
             ]
            ],
            "type": "histogram2d"
           }
          ],
          "histogram2dcontour": [
           {
            "colorbar": {
             "outlinewidth": 0,
             "ticks": ""
            },
            "colorscale": [
             [
              0,
              "#0d0887"
             ],
             [
              0.1111111111111111,
              "#46039f"
             ],
             [
              0.2222222222222222,
              "#7201a8"
             ],
             [
              0.3333333333333333,
              "#9c179e"
             ],
             [
              0.4444444444444444,
              "#bd3786"
             ],
             [
              0.5555555555555556,
              "#d8576b"
             ],
             [
              0.6666666666666666,
              "#ed7953"
             ],
             [
              0.7777777777777778,
              "#fb9f3a"
             ],
             [
              0.8888888888888888,
              "#fdca26"
             ],
             [
              1,
              "#f0f921"
             ]
            ],
            "type": "histogram2dcontour"
           }
          ],
          "mesh3d": [
           {
            "colorbar": {
             "outlinewidth": 0,
             "ticks": ""
            },
            "type": "mesh3d"
           }
          ],
          "parcoords": [
           {
            "line": {
             "colorbar": {
              "outlinewidth": 0,
              "ticks": ""
             }
            },
            "type": "parcoords"
           }
          ],
          "pie": [
           {
            "automargin": true,
            "type": "pie"
           }
          ],
          "scatter": [
           {
            "fillpattern": {
             "fillmode": "overlay",
             "size": 10,
             "solidity": 0.2
            },
            "type": "scatter"
           }
          ],
          "scatter3d": [
           {
            "line": {
             "colorbar": {
              "outlinewidth": 0,
              "ticks": ""
             }
            },
            "marker": {
             "colorbar": {
              "outlinewidth": 0,
              "ticks": ""
             }
            },
            "type": "scatter3d"
           }
          ],
          "scattercarpet": [
           {
            "marker": {
             "colorbar": {
              "outlinewidth": 0,
              "ticks": ""
             }
            },
            "type": "scattercarpet"
           }
          ],
          "scattergeo": [
           {
            "marker": {
             "colorbar": {
              "outlinewidth": 0,
              "ticks": ""
             }
            },
            "type": "scattergeo"
           }
          ],
          "scattergl": [
           {
            "marker": {
             "colorbar": {
              "outlinewidth": 0,
              "ticks": ""
             }
            },
            "type": "scattergl"
           }
          ],
          "scattermapbox": [
           {
            "marker": {
             "colorbar": {
              "outlinewidth": 0,
              "ticks": ""
             }
            },
            "type": "scattermapbox"
           }
          ],
          "scatterpolar": [
           {
            "marker": {
             "colorbar": {
              "outlinewidth": 0,
              "ticks": ""
             }
            },
            "type": "scatterpolar"
           }
          ],
          "scatterpolargl": [
           {
            "marker": {
             "colorbar": {
              "outlinewidth": 0,
              "ticks": ""
             }
            },
            "type": "scatterpolargl"
           }
          ],
          "scatterternary": [
           {
            "marker": {
             "colorbar": {
              "outlinewidth": 0,
              "ticks": ""
             }
            },
            "type": "scatterternary"
           }
          ],
          "surface": [
           {
            "colorbar": {
             "outlinewidth": 0,
             "ticks": ""
            },
            "colorscale": [
             [
              0,
              "#0d0887"
             ],
             [
              0.1111111111111111,
              "#46039f"
             ],
             [
              0.2222222222222222,
              "#7201a8"
             ],
             [
              0.3333333333333333,
              "#9c179e"
             ],
             [
              0.4444444444444444,
              "#bd3786"
             ],
             [
              0.5555555555555556,
              "#d8576b"
             ],
             [
              0.6666666666666666,
              "#ed7953"
             ],
             [
              0.7777777777777778,
              "#fb9f3a"
             ],
             [
              0.8888888888888888,
              "#fdca26"
             ],
             [
              1,
              "#f0f921"
             ]
            ],
            "type": "surface"
           }
          ],
          "table": [
           {
            "cells": {
             "fill": {
              "color": "#EBF0F8"
             },
             "line": {
              "color": "white"
             }
            },
            "header": {
             "fill": {
              "color": "#C8D4E3"
             },
             "line": {
              "color": "white"
             }
            },
            "type": "table"
           }
          ]
         },
         "layout": {
          "annotationdefaults": {
           "arrowcolor": "#2a3f5f",
           "arrowhead": 0,
           "arrowwidth": 1
          },
          "autotypenumbers": "strict",
          "coloraxis": {
           "colorbar": {
            "outlinewidth": 0,
            "ticks": ""
           }
          },
          "colorscale": {
           "diverging": [
            [
             0,
             "#8e0152"
            ],
            [
             0.1,
             "#c51b7d"
            ],
            [
             0.2,
             "#de77ae"
            ],
            [
             0.3,
             "#f1b6da"
            ],
            [
             0.4,
             "#fde0ef"
            ],
            [
             0.5,
             "#f7f7f7"
            ],
            [
             0.6,
             "#e6f5d0"
            ],
            [
             0.7,
             "#b8e186"
            ],
            [
             0.8,
             "#7fbc41"
            ],
            [
             0.9,
             "#4d9221"
            ],
            [
             1,
             "#276419"
            ]
           ],
           "sequential": [
            [
             0,
             "#0d0887"
            ],
            [
             0.1111111111111111,
             "#46039f"
            ],
            [
             0.2222222222222222,
             "#7201a8"
            ],
            [
             0.3333333333333333,
             "#9c179e"
            ],
            [
             0.4444444444444444,
             "#bd3786"
            ],
            [
             0.5555555555555556,
             "#d8576b"
            ],
            [
             0.6666666666666666,
             "#ed7953"
            ],
            [
             0.7777777777777778,
             "#fb9f3a"
            ],
            [
             0.8888888888888888,
             "#fdca26"
            ],
            [
             1,
             "#f0f921"
            ]
           ],
           "sequentialminus": [
            [
             0,
             "#0d0887"
            ],
            [
             0.1111111111111111,
             "#46039f"
            ],
            [
             0.2222222222222222,
             "#7201a8"
            ],
            [
             0.3333333333333333,
             "#9c179e"
            ],
            [
             0.4444444444444444,
             "#bd3786"
            ],
            [
             0.5555555555555556,
             "#d8576b"
            ],
            [
             0.6666666666666666,
             "#ed7953"
            ],
            [
             0.7777777777777778,
             "#fb9f3a"
            ],
            [
             0.8888888888888888,
             "#fdca26"
            ],
            [
             1,
             "#f0f921"
            ]
           ]
          },
          "colorway": [
           "#636efa",
           "#EF553B",
           "#00cc96",
           "#ab63fa",
           "#FFA15A",
           "#19d3f3",
           "#FF6692",
           "#B6E880",
           "#FF97FF",
           "#FECB52"
          ],
          "font": {
           "color": "#2a3f5f"
          },
          "geo": {
           "bgcolor": "white",
           "lakecolor": "white",
           "landcolor": "#E5ECF6",
           "showlakes": true,
           "showland": true,
           "subunitcolor": "white"
          },
          "hoverlabel": {
           "align": "left"
          },
          "hovermode": "closest",
          "mapbox": {
           "style": "light"
          },
          "paper_bgcolor": "white",
          "plot_bgcolor": "#E5ECF6",
          "polar": {
           "angularaxis": {
            "gridcolor": "white",
            "linecolor": "white",
            "ticks": ""
           },
           "bgcolor": "#E5ECF6",
           "radialaxis": {
            "gridcolor": "white",
            "linecolor": "white",
            "ticks": ""
           }
          },
          "scene": {
           "xaxis": {
            "backgroundcolor": "#E5ECF6",
            "gridcolor": "white",
            "gridwidth": 2,
            "linecolor": "white",
            "showbackground": true,
            "ticks": "",
            "zerolinecolor": "white"
           },
           "yaxis": {
            "backgroundcolor": "#E5ECF6",
            "gridcolor": "white",
            "gridwidth": 2,
            "linecolor": "white",
            "showbackground": true,
            "ticks": "",
            "zerolinecolor": "white"
           },
           "zaxis": {
            "backgroundcolor": "#E5ECF6",
            "gridcolor": "white",
            "gridwidth": 2,
            "linecolor": "white",
            "showbackground": true,
            "ticks": "",
            "zerolinecolor": "white"
           }
          },
          "shapedefaults": {
           "line": {
            "color": "#2a3f5f"
           }
          },
          "ternary": {
           "aaxis": {
            "gridcolor": "white",
            "linecolor": "white",
            "ticks": ""
           },
           "baxis": {
            "gridcolor": "white",
            "linecolor": "white",
            "ticks": ""
           },
           "bgcolor": "#E5ECF6",
           "caxis": {
            "gridcolor": "white",
            "linecolor": "white",
            "ticks": ""
           }
          },
          "title": {
           "x": 0.05
          },
          "xaxis": {
           "automargin": true,
           "gridcolor": "white",
           "linecolor": "white",
           "ticks": "",
           "title": {
            "standoff": 15
           },
           "zerolinecolor": "white",
           "zerolinewidth": 2
          },
          "yaxis": {
           "automargin": true,
           "gridcolor": "white",
           "linecolor": "white",
           "ticks": "",
           "title": {
            "standoff": 15
           },
           "zerolinecolor": "white",
           "zerolinewidth": 2
          }
         }
        },
        "title": {
         "text": "2020 USA Election by State"
        }
       }
      },
      "text/html": [
       "<div>                            <div id=\"791c1739-ecc1-4a4e-830d-40eea68cb9c7\" class=\"plotly-graph-div\" style=\"height:525px; width:100%;\"></div>            <script type=\"text/javascript\">                require([\"plotly\"], function(Plotly) {                    window.PLOTLYENV=window.PLOTLYENV || {};                                    if (document.getElementById(\"791c1739-ecc1-4a4e-830d-40eea68cb9c7\")) {                    Plotly.newPlot(                        \"791c1739-ecc1-4a4e-830d-40eea68cb9c7\",                        [{\"coloraxis\":\"coloraxis\",\"geo\":\"geo\",\"hovertemplate\":\"<b>%{hovertext}</b><br><br>usa_state_code_x=%{location}<br>percent_republican=%{z}<extra></extra>\",\"hovertext\":[\"Alabama\",\"Alaska\",\"Arizona\",\"Arkansas\",\"California\",\"Colorado\",\"Connecticut\",\"Delaware\",\"District of Columbia\",\"Florida\",\"Georgia\",\"Hawaii\",\"Idaho\",\"Illinois\",\"Indiana\",\"Iowa\",\"Kansas\",\"Kentucky\",\"Louisiana\",\"Maine\",\"Maryland\",\"Massachusetts\",\"Michigan\",\"Minnesota\",\"Mississippi\",\"Missouri\",\"Montana\",\"Nebraska\",\"Nevada\",\"New Hampshire\",\"New Jersey\",\"New Mexico\",\"New York\",\"North Carolina\",\"North Dakota\",\"Ohio\",\"Oklahoma\",\"Oregon\",\"Pennsylvania\",\"Rhode Island\",\"South Carolina\",\"South Dakota\",\"Tennessee\",\"Texas\",\"Utah\",\"Vermont\",\"Virginia\",\"Washington\",\"West Virginia\",\"Wisconsin\",\"Wyoming\"],\"locationmode\":\"USA-states\",\"locations\":[\"AL\",\"AK\",\"AZ\",\"AR\",\"CA\",\"CO\",\"CT\",\"DE\",\"DC\",\"FL\",\"GA\",\"HI\",\"ID\",\"IL\",\"IN\",\"IA\",\"KS\",\"KY\",\"LA\",\"ME\",\"MD\",\"MA\",\"MI\",\"MN\",\"MS\",\"MO\",\"MT\",\"NE\",\"NV\",\"NH\",\"NJ\",\"NM\",\"NY\",\"NC\",\"ND\",\"OH\",\"OK\",\"OR\",\"PA\",\"RI\",\"SC\",\"SD\",\"TN\",\"TX\",\"UT\",\"VT\",\"VA\",\"WA\",\"WV\",\"WI\",\"WY\"],\"name\":\"\",\"z\":[0.629106833547522,0.5531420315353761,0.49843168320870684,0.6421243327798315,0.350903102264146,0.43061680507699845,0.3982753619072914,0.40373255835015526,0.05533046152380555,0.5169475466214156,0.49880670337091354,0.3496733535348512,0.6587714292507787,0.39902423019440647,0.5819818480143806,0.5418326308463706,0.5757274054902568,0.6320010290026297,0.5946444045629105,0.4553539346029465,0.3297095295290766,0.3288445045985185,0.4858644065559054,0.46360486351433333,0.5838498582738886,0.5783582064440145,0.5839718009204811,0.5978405224660173,0.48776882659956194,0.4625165227840496,0.4192871641320516,0.4448150984828026,0.3826394745801741,0.5068418253318673,0.6721740842289663,0.5407669764770272,0.6694003949690651,0.4169284301455827,0.49402911824861157,0.39489810235017697,0.559266087495821,0.634347798616815,0.6182962773381881,0.5283072123677953,0.6069360512185163,0.3170081344719344,0.4484531300060009,0.4007449681520931,0.6979853231392202,0.49682047731103224,0.724804343755851],\"type\":\"choropleth\"}],                        {\"template\":{\"data\":{\"histogram2dcontour\":[{\"type\":\"histogram2dcontour\",\"colorbar\":{\"outlinewidth\":0,\"ticks\":\"\"},\"colorscale\":[[0.0,\"#0d0887\"],[0.1111111111111111,\"#46039f\"],[0.2222222222222222,\"#7201a8\"],[0.3333333333333333,\"#9c179e\"],[0.4444444444444444,\"#bd3786\"],[0.5555555555555556,\"#d8576b\"],[0.6666666666666666,\"#ed7953\"],[0.7777777777777778,\"#fb9f3a\"],[0.8888888888888888,\"#fdca26\"],[1.0,\"#f0f921\"]]}],\"choropleth\":[{\"type\":\"choropleth\",\"colorbar\":{\"outlinewidth\":0,\"ticks\":\"\"}}],\"histogram2d\":[{\"type\":\"histogram2d\",\"colorbar\":{\"outlinewidth\":0,\"ticks\":\"\"},\"colorscale\":[[0.0,\"#0d0887\"],[0.1111111111111111,\"#46039f\"],[0.2222222222222222,\"#7201a8\"],[0.3333333333333333,\"#9c179e\"],[0.4444444444444444,\"#bd3786\"],[0.5555555555555556,\"#d8576b\"],[0.6666666666666666,\"#ed7953\"],[0.7777777777777778,\"#fb9f3a\"],[0.8888888888888888,\"#fdca26\"],[1.0,\"#f0f921\"]]}],\"heatmap\":[{\"type\":\"heatmap\",\"colorbar\":{\"outlinewidth\":0,\"ticks\":\"\"},\"colorscale\":[[0.0,\"#0d0887\"],[0.1111111111111111,\"#46039f\"],[0.2222222222222222,\"#7201a8\"],[0.3333333333333333,\"#9c179e\"],[0.4444444444444444,\"#bd3786\"],[0.5555555555555556,\"#d8576b\"],[0.6666666666666666,\"#ed7953\"],[0.7777777777777778,\"#fb9f3a\"],[0.8888888888888888,\"#fdca26\"],[1.0,\"#f0f921\"]]}],\"heatmapgl\":[{\"type\":\"heatmapgl\",\"colorbar\":{\"outlinewidth\":0,\"ticks\":\"\"},\"colorscale\":[[0.0,\"#0d0887\"],[0.1111111111111111,\"#46039f\"],[0.2222222222222222,\"#7201a8\"],[0.3333333333333333,\"#9c179e\"],[0.4444444444444444,\"#bd3786\"],[0.5555555555555556,\"#d8576b\"],[0.6666666666666666,\"#ed7953\"],[0.7777777777777778,\"#fb9f3a\"],[0.8888888888888888,\"#fdca26\"],[1.0,\"#f0f921\"]]}],\"contourcarpet\":[{\"type\":\"contourcarpet\",\"colorbar\":{\"outlinewidth\":0,\"ticks\":\"\"}}],\"contour\":[{\"type\":\"contour\",\"colorbar\":{\"outlinewidth\":0,\"ticks\":\"\"},\"colorscale\":[[0.0,\"#0d0887\"],[0.1111111111111111,\"#46039f\"],[0.2222222222222222,\"#7201a8\"],[0.3333333333333333,\"#9c179e\"],[0.4444444444444444,\"#bd3786\"],[0.5555555555555556,\"#d8576b\"],[0.6666666666666666,\"#ed7953\"],[0.7777777777777778,\"#fb9f3a\"],[0.8888888888888888,\"#fdca26\"],[1.0,\"#f0f921\"]]}],\"surface\":[{\"type\":\"surface\",\"colorbar\":{\"outlinewidth\":0,\"ticks\":\"\"},\"colorscale\":[[0.0,\"#0d0887\"],[0.1111111111111111,\"#46039f\"],[0.2222222222222222,\"#7201a8\"],[0.3333333333333333,\"#9c179e\"],[0.4444444444444444,\"#bd3786\"],[0.5555555555555556,\"#d8576b\"],[0.6666666666666666,\"#ed7953\"],[0.7777777777777778,\"#fb9f3a\"],[0.8888888888888888,\"#fdca26\"],[1.0,\"#f0f921\"]]}],\"mesh3d\":[{\"type\":\"mesh3d\",\"colorbar\":{\"outlinewidth\":0,\"ticks\":\"\"}}],\"scatter\":[{\"fillpattern\":{\"fillmode\":\"overlay\",\"size\":10,\"solidity\":0.2},\"type\":\"scatter\"}],\"parcoords\":[{\"type\":\"parcoords\",\"line\":{\"colorbar\":{\"outlinewidth\":0,\"ticks\":\"\"}}}],\"scatterpolargl\":[{\"type\":\"scatterpolargl\",\"marker\":{\"colorbar\":{\"outlinewidth\":0,\"ticks\":\"\"}}}],\"bar\":[{\"error_x\":{\"color\":\"#2a3f5f\"},\"error_y\":{\"color\":\"#2a3f5f\"},\"marker\":{\"line\":{\"color\":\"#E5ECF6\",\"width\":0.5},\"pattern\":{\"fillmode\":\"overlay\",\"size\":10,\"solidity\":0.2}},\"type\":\"bar\"}],\"scattergeo\":[{\"type\":\"scattergeo\",\"marker\":{\"colorbar\":{\"outlinewidth\":0,\"ticks\":\"\"}}}],\"scatterpolar\":[{\"type\":\"scatterpolar\",\"marker\":{\"colorbar\":{\"outlinewidth\":0,\"ticks\":\"\"}}}],\"histogram\":[{\"marker\":{\"pattern\":{\"fillmode\":\"overlay\",\"size\":10,\"solidity\":0.2}},\"type\":\"histogram\"}],\"scattergl\":[{\"type\":\"scattergl\",\"marker\":{\"colorbar\":{\"outlinewidth\":0,\"ticks\":\"\"}}}],\"scatter3d\":[{\"type\":\"scatter3d\",\"line\":{\"colorbar\":{\"outlinewidth\":0,\"ticks\":\"\"}},\"marker\":{\"colorbar\":{\"outlinewidth\":0,\"ticks\":\"\"}}}],\"scattermapbox\":[{\"type\":\"scattermapbox\",\"marker\":{\"colorbar\":{\"outlinewidth\":0,\"ticks\":\"\"}}}],\"scatterternary\":[{\"type\":\"scatterternary\",\"marker\":{\"colorbar\":{\"outlinewidth\":0,\"ticks\":\"\"}}}],\"scattercarpet\":[{\"type\":\"scattercarpet\",\"marker\":{\"colorbar\":{\"outlinewidth\":0,\"ticks\":\"\"}}}],\"carpet\":[{\"aaxis\":{\"endlinecolor\":\"#2a3f5f\",\"gridcolor\":\"white\",\"linecolor\":\"white\",\"minorgridcolor\":\"white\",\"startlinecolor\":\"#2a3f5f\"},\"baxis\":{\"endlinecolor\":\"#2a3f5f\",\"gridcolor\":\"white\",\"linecolor\":\"white\",\"minorgridcolor\":\"white\",\"startlinecolor\":\"#2a3f5f\"},\"type\":\"carpet\"}],\"table\":[{\"cells\":{\"fill\":{\"color\":\"#EBF0F8\"},\"line\":{\"color\":\"white\"}},\"header\":{\"fill\":{\"color\":\"#C8D4E3\"},\"line\":{\"color\":\"white\"}},\"type\":\"table\"}],\"barpolar\":[{\"marker\":{\"line\":{\"color\":\"#E5ECF6\",\"width\":0.5},\"pattern\":{\"fillmode\":\"overlay\",\"size\":10,\"solidity\":0.2}},\"type\":\"barpolar\"}],\"pie\":[{\"automargin\":true,\"type\":\"pie\"}]},\"layout\":{\"autotypenumbers\":\"strict\",\"colorway\":[\"#636efa\",\"#EF553B\",\"#00cc96\",\"#ab63fa\",\"#FFA15A\",\"#19d3f3\",\"#FF6692\",\"#B6E880\",\"#FF97FF\",\"#FECB52\"],\"font\":{\"color\":\"#2a3f5f\"},\"hovermode\":\"closest\",\"hoverlabel\":{\"align\":\"left\"},\"paper_bgcolor\":\"white\",\"plot_bgcolor\":\"#E5ECF6\",\"polar\":{\"bgcolor\":\"#E5ECF6\",\"angularaxis\":{\"gridcolor\":\"white\",\"linecolor\":\"white\",\"ticks\":\"\"},\"radialaxis\":{\"gridcolor\":\"white\",\"linecolor\":\"white\",\"ticks\":\"\"}},\"ternary\":{\"bgcolor\":\"#E5ECF6\",\"aaxis\":{\"gridcolor\":\"white\",\"linecolor\":\"white\",\"ticks\":\"\"},\"baxis\":{\"gridcolor\":\"white\",\"linecolor\":\"white\",\"ticks\":\"\"},\"caxis\":{\"gridcolor\":\"white\",\"linecolor\":\"white\",\"ticks\":\"\"}},\"coloraxis\":{\"colorbar\":{\"outlinewidth\":0,\"ticks\":\"\"}},\"colorscale\":{\"sequential\":[[0.0,\"#0d0887\"],[0.1111111111111111,\"#46039f\"],[0.2222222222222222,\"#7201a8\"],[0.3333333333333333,\"#9c179e\"],[0.4444444444444444,\"#bd3786\"],[0.5555555555555556,\"#d8576b\"],[0.6666666666666666,\"#ed7953\"],[0.7777777777777778,\"#fb9f3a\"],[0.8888888888888888,\"#fdca26\"],[1.0,\"#f0f921\"]],\"sequentialminus\":[[0.0,\"#0d0887\"],[0.1111111111111111,\"#46039f\"],[0.2222222222222222,\"#7201a8\"],[0.3333333333333333,\"#9c179e\"],[0.4444444444444444,\"#bd3786\"],[0.5555555555555556,\"#d8576b\"],[0.6666666666666666,\"#ed7953\"],[0.7777777777777778,\"#fb9f3a\"],[0.8888888888888888,\"#fdca26\"],[1.0,\"#f0f921\"]],\"diverging\":[[0,\"#8e0152\"],[0.1,\"#c51b7d\"],[0.2,\"#de77ae\"],[0.3,\"#f1b6da\"],[0.4,\"#fde0ef\"],[0.5,\"#f7f7f7\"],[0.6,\"#e6f5d0\"],[0.7,\"#b8e186\"],[0.8,\"#7fbc41\"],[0.9,\"#4d9221\"],[1,\"#276419\"]]},\"xaxis\":{\"gridcolor\":\"white\",\"linecolor\":\"white\",\"ticks\":\"\",\"title\":{\"standoff\":15},\"zerolinecolor\":\"white\",\"automargin\":true,\"zerolinewidth\":2},\"yaxis\":{\"gridcolor\":\"white\",\"linecolor\":\"white\",\"ticks\":\"\",\"title\":{\"standoff\":15},\"zerolinecolor\":\"white\",\"automargin\":true,\"zerolinewidth\":2},\"scene\":{\"xaxis\":{\"backgroundcolor\":\"#E5ECF6\",\"gridcolor\":\"white\",\"linecolor\":\"white\",\"showbackground\":true,\"ticks\":\"\",\"zerolinecolor\":\"white\",\"gridwidth\":2},\"yaxis\":{\"backgroundcolor\":\"#E5ECF6\",\"gridcolor\":\"white\",\"linecolor\":\"white\",\"showbackground\":true,\"ticks\":\"\",\"zerolinecolor\":\"white\",\"gridwidth\":2},\"zaxis\":{\"backgroundcolor\":\"#E5ECF6\",\"gridcolor\":\"white\",\"linecolor\":\"white\",\"showbackground\":true,\"ticks\":\"\",\"zerolinecolor\":\"white\",\"gridwidth\":2}},\"shapedefaults\":{\"line\":{\"color\":\"#2a3f5f\"}},\"annotationdefaults\":{\"arrowcolor\":\"#2a3f5f\",\"arrowhead\":0,\"arrowwidth\":1},\"geo\":{\"bgcolor\":\"white\",\"landcolor\":\"#E5ECF6\",\"subunitcolor\":\"white\",\"showland\":true,\"showlakes\":true,\"lakecolor\":\"white\"},\"title\":{\"x\":0.05},\"mapbox\":{\"style\":\"light\"}}},\"geo\":{\"domain\":{\"x\":[0.0,1.0],\"y\":[0.0,1.0]},\"center\":{},\"scope\":\"usa\"},\"coloraxis\":{\"colorbar\":{\"title\":{\"text\":\"percent_republican\"}},\"colorscale\":[[0.0,\"white\"],[1.0,\"red\"]],\"cmin\":0.4,\"cmax\":0.8},\"legend\":{\"tracegroupgap\":0},\"title\":{\"text\":\"2020 USA Election by State\"}},                        {\"responsive\": true}                    ).then(function(){\n",
       "                            \n",
       "var gd = document.getElementById('791c1739-ecc1-4a4e-830d-40eea68cb9c7');\n",
       "var x = new MutationObserver(function (mutations, observer) {{\n",
       "        var display = window.getComputedStyle(gd).display;\n",
       "        if (!display || display === 'none') {{\n",
       "            console.log([gd, 'removed!']);\n",
       "            Plotly.purge(gd);\n",
       "            observer.disconnect();\n",
       "        }}\n",
       "}});\n",
       "\n",
       "// Listen for the removal of the full notebook cells\n",
       "var notebookContainer = gd.closest('#notebook-container');\n",
       "if (notebookContainer) {{\n",
       "    x.observe(notebookContainer, {childList: true});\n",
       "}}\n",
       "\n",
       "// Listen for the clearing of the current output cell\n",
       "var outputEl = gd.closest('.output');\n",
       "if (outputEl) {{\n",
       "    x.observe(outputEl, {childList: true});\n",
       "}}\n",
       "\n",
       "                        })                };                });            </script>        </div>"
      ]
     },
     "metadata": {},
     "output_type": "display_data"
    }
   ],
   "source": [
    "fig = px.choropleth(df_president_county, \n",
    "                    locations= 'usa_state_code_x', \n",
    "                    color = \"percent_republican\",\n",
    "                    locationmode = 'USA-states', \n",
    "                    hover_name=\"state\",\n",
    "                    range_color=[0.4,0.8],\n",
    "                    color_continuous_scale = ['white','red'],\n",
    "                    scope=\"usa\",\n",
    "                    title='2020 USA Election by State')\n",
    "fig.show()"
   ]
  },
  {
   "cell_type": "code",
   "execution_count": 52,
   "id": "263ff04c",
   "metadata": {},
   "outputs": [
    {
     "data": {
      "application/vnd.plotly.v1+json": {
       "config": {
        "plotlyServerURL": "https://plot.ly"
       },
       "data": [
        {
         "coloraxis": "coloraxis",
         "geo": "geo",
         "hovertemplate": "<b>%{hovertext}</b><br><br>usa_state_code=%{location}<br>Republican Votes Share=%{z}<extra></extra>",
         "hovertext": [
          "Alas",
          "Alab",
          "Arka",
          "Ariz",
          "Cali",
          "Colo",
          "Conn",
          "Dela",
          "Flor",
          "Geor",
          "Hawa",
          "Iowa",
          "Idah",
          "Illi",
          "Indi",
          "Kans",
          "Kent",
          "Loui",
          "Mass",
          "Mary",
          "Main",
          "Mich",
          "Minn",
          "Miss",
          "Miss",
          "Miss",
          "Miss",
          "Miss",
          "Miss",
          "Miss",
          "Miss",
          "Miss",
          "Miss",
          "Miss",
          "Miss",
          "Miss",
          "Miss",
          "Miss",
          "Miss",
          "Mont",
          "Nort",
          "Nort",
          "Nort",
          "Nort",
          "Nebr",
          "Neva",
          "Ohio",
          "Okla",
          "Oreg",
          "Penn",
          "Rhod",
          "Sout",
          "Sout",
          "Sout",
          "Sout",
          "Tenn",
          "Texa",
          "Utah",
          "Virg",
          "Verm",
          "Wash",
          "Wisc",
          "West",
          "Wyom"
         ],
         "locationmode": "USA-states",
         "locations": [
          "AK",
          "AL",
          "AR",
          "AZ",
          "CA",
          "CO",
          "CT",
          "DE",
          "FL",
          "GA",
          "HI",
          "IA",
          "ID",
          "IL",
          "IN",
          "KS",
          "KY",
          "LA",
          "MA",
          "MD",
          "ME",
          "MI",
          "MN",
          "MO",
          "MO",
          "MO",
          "MO",
          "MO",
          "MO",
          "MO",
          "MO",
          "MS",
          "MS",
          "MS",
          "MS",
          "MS",
          "MS",
          "MS",
          "MS",
          "MT",
          "NC",
          "NC",
          "ND",
          "ND",
          "NE",
          "NV",
          "OH",
          "OK",
          "OR",
          "PA",
          "RI",
          "SC",
          "SC",
          "SD",
          "SD",
          "TN",
          "TX",
          "UT",
          "VA",
          "VT",
          "WA",
          "WI",
          "WV",
          "WY"
         ],
         "name": "",
         "type": "choropleth",
         "z": [
          0.5440120057197061,
          0.6964419299737509,
          0.702279811021913,
          0.5013436858697119,
          0.3372536983331632,
          0.43547228234253305,
          0.3852148706746968,
          0.4022200831507158,
          0.5226155603663073,
          0.5099181742180912,
          0.29478572174689244,
          0.5249796890748603,
          0.6605522290243216,
          0.4112786223105723,
          0.5802693064231598,
          0.5709527849749034,
          0.6446253181858139,
          0.6154795135142889,
          0.2101210884918137,
          0.34865874137636355,
          0.419701485889065,
          0.4827751353233376,
          0.462426476974465,
          0.6522495167740637,
          0.6522495167740637,
          0.6522495167740637,
          0.6522495167740637,
          0.5801381375823399,
          0.5801381375823399,
          0.5801381375823399,
          0.5801381375823399,
          0.6522495167740637,
          0.6522495167740637,
          0.6522495167740637,
          0.6522495167740637,
          0.5801381375823399,
          0.5801381375823399,
          0.5801381375823399,
          0.5801381375823399,
          0.563863549838822,
          0.5064599697028812,
          0.5064599697028812,
          0.5064599697028812,
          0.5064599697028812,
          0.6217308440047679,
          0.4675595508137683,
          0.5645863779475626,
          0.6730607464436571,
          0.41948125540738607,
          0.5063290971223546,
          0.22598588899148034,
          0.5979358806959586,
          0.5979358806959586,
          0.5979358806959586,
          0.5979358806959586,
          0.5930444476741219,
          0.5344150436263287,
          0.6097803987063548,
          0.4750164600441997,
          0.270066142673156,
          0.39182167990582706,
          0.5133794223535559,
          0.6756158826249632,
          0.6869625361083268
         ]
        }
       ],
       "layout": {
        "coloraxis": {
         "cmax": 0.8,
         "cmid": 0.6,
         "cmin": 0.4,
         "colorbar": {
          "title": {
           "text": "Republican Votes Share"
          }
         },
         "colorscale": [
          [
           0,
           "rgb(255,245,240)"
          ],
          [
           0.125,
           "rgb(254,224,210)"
          ],
          [
           0.25,
           "rgb(252,187,161)"
          ],
          [
           0.375,
           "rgb(252,146,114)"
          ],
          [
           0.5,
           "rgb(251,106,74)"
          ],
          [
           0.625,
           "rgb(239,59,44)"
          ],
          [
           0.75,
           "rgb(203,24,29)"
          ],
          [
           0.875,
           "rgb(165,15,21)"
          ],
          [
           1,
           "rgb(103,0,13)"
          ]
         ]
        },
        "geo": {
         "center": {},
         "domain": {
          "x": [
           0,
           1
          ],
          "y": [
           0,
           1
          ]
         },
         "scope": "usa"
        },
        "legend": {
         "tracegroupgap": 0
        },
        "template": {
         "data": {
          "bar": [
           {
            "error_x": {
             "color": "#2a3f5f"
            },
            "error_y": {
             "color": "#2a3f5f"
            },
            "marker": {
             "line": {
              "color": "#E5ECF6",
              "width": 0.5
             },
             "pattern": {
              "fillmode": "overlay",
              "size": 10,
              "solidity": 0.2
             }
            },
            "type": "bar"
           }
          ],
          "barpolar": [
           {
            "marker": {
             "line": {
              "color": "#E5ECF6",
              "width": 0.5
             },
             "pattern": {
              "fillmode": "overlay",
              "size": 10,
              "solidity": 0.2
             }
            },
            "type": "barpolar"
           }
          ],
          "carpet": [
           {
            "aaxis": {
             "endlinecolor": "#2a3f5f",
             "gridcolor": "white",
             "linecolor": "white",
             "minorgridcolor": "white",
             "startlinecolor": "#2a3f5f"
            },
            "baxis": {
             "endlinecolor": "#2a3f5f",
             "gridcolor": "white",
             "linecolor": "white",
             "minorgridcolor": "white",
             "startlinecolor": "#2a3f5f"
            },
            "type": "carpet"
           }
          ],
          "choropleth": [
           {
            "colorbar": {
             "outlinewidth": 0,
             "ticks": ""
            },
            "type": "choropleth"
           }
          ],
          "contour": [
           {
            "colorbar": {
             "outlinewidth": 0,
             "ticks": ""
            },
            "colorscale": [
             [
              0,
              "#0d0887"
             ],
             [
              0.1111111111111111,
              "#46039f"
             ],
             [
              0.2222222222222222,
              "#7201a8"
             ],
             [
              0.3333333333333333,
              "#9c179e"
             ],
             [
              0.4444444444444444,
              "#bd3786"
             ],
             [
              0.5555555555555556,
              "#d8576b"
             ],
             [
              0.6666666666666666,
              "#ed7953"
             ],
             [
              0.7777777777777778,
              "#fb9f3a"
             ],
             [
              0.8888888888888888,
              "#fdca26"
             ],
             [
              1,
              "#f0f921"
             ]
            ],
            "type": "contour"
           }
          ],
          "contourcarpet": [
           {
            "colorbar": {
             "outlinewidth": 0,
             "ticks": ""
            },
            "type": "contourcarpet"
           }
          ],
          "heatmap": [
           {
            "colorbar": {
             "outlinewidth": 0,
             "ticks": ""
            },
            "colorscale": [
             [
              0,
              "#0d0887"
             ],
             [
              0.1111111111111111,
              "#46039f"
             ],
             [
              0.2222222222222222,
              "#7201a8"
             ],
             [
              0.3333333333333333,
              "#9c179e"
             ],
             [
              0.4444444444444444,
              "#bd3786"
             ],
             [
              0.5555555555555556,
              "#d8576b"
             ],
             [
              0.6666666666666666,
              "#ed7953"
             ],
             [
              0.7777777777777778,
              "#fb9f3a"
             ],
             [
              0.8888888888888888,
              "#fdca26"
             ],
             [
              1,
              "#f0f921"
             ]
            ],
            "type": "heatmap"
           }
          ],
          "heatmapgl": [
           {
            "colorbar": {
             "outlinewidth": 0,
             "ticks": ""
            },
            "colorscale": [
             [
              0,
              "#0d0887"
             ],
             [
              0.1111111111111111,
              "#46039f"
             ],
             [
              0.2222222222222222,
              "#7201a8"
             ],
             [
              0.3333333333333333,
              "#9c179e"
             ],
             [
              0.4444444444444444,
              "#bd3786"
             ],
             [
              0.5555555555555556,
              "#d8576b"
             ],
             [
              0.6666666666666666,
              "#ed7953"
             ],
             [
              0.7777777777777778,
              "#fb9f3a"
             ],
             [
              0.8888888888888888,
              "#fdca26"
             ],
             [
              1,
              "#f0f921"
             ]
            ],
            "type": "heatmapgl"
           }
          ],
          "histogram": [
           {
            "marker": {
             "pattern": {
              "fillmode": "overlay",
              "size": 10,
              "solidity": 0.2
             }
            },
            "type": "histogram"
           }
          ],
          "histogram2d": [
           {
            "colorbar": {
             "outlinewidth": 0,
             "ticks": ""
            },
            "colorscale": [
             [
              0,
              "#0d0887"
             ],
             [
              0.1111111111111111,
              "#46039f"
             ],
             [
              0.2222222222222222,
              "#7201a8"
             ],
             [
              0.3333333333333333,
              "#9c179e"
             ],
             [
              0.4444444444444444,
              "#bd3786"
             ],
             [
              0.5555555555555556,
              "#d8576b"
             ],
             [
              0.6666666666666666,
              "#ed7953"
             ],
             [
              0.7777777777777778,
              "#fb9f3a"
             ],
             [
              0.8888888888888888,
              "#fdca26"
             ],
             [
              1,
              "#f0f921"
             ]
            ],
            "type": "histogram2d"
           }
          ],
          "histogram2dcontour": [
           {
            "colorbar": {
             "outlinewidth": 0,
             "ticks": ""
            },
            "colorscale": [
             [
              0,
              "#0d0887"
             ],
             [
              0.1111111111111111,
              "#46039f"
             ],
             [
              0.2222222222222222,
              "#7201a8"
             ],
             [
              0.3333333333333333,
              "#9c179e"
             ],
             [
              0.4444444444444444,
              "#bd3786"
             ],
             [
              0.5555555555555556,
              "#d8576b"
             ],
             [
              0.6666666666666666,
              "#ed7953"
             ],
             [
              0.7777777777777778,
              "#fb9f3a"
             ],
             [
              0.8888888888888888,
              "#fdca26"
             ],
             [
              1,
              "#f0f921"
             ]
            ],
            "type": "histogram2dcontour"
           }
          ],
          "mesh3d": [
           {
            "colorbar": {
             "outlinewidth": 0,
             "ticks": ""
            },
            "type": "mesh3d"
           }
          ],
          "parcoords": [
           {
            "line": {
             "colorbar": {
              "outlinewidth": 0,
              "ticks": ""
             }
            },
            "type": "parcoords"
           }
          ],
          "pie": [
           {
            "automargin": true,
            "type": "pie"
           }
          ],
          "scatter": [
           {
            "fillpattern": {
             "fillmode": "overlay",
             "size": 10,
             "solidity": 0.2
            },
            "type": "scatter"
           }
          ],
          "scatter3d": [
           {
            "line": {
             "colorbar": {
              "outlinewidth": 0,
              "ticks": ""
             }
            },
            "marker": {
             "colorbar": {
              "outlinewidth": 0,
              "ticks": ""
             }
            },
            "type": "scatter3d"
           }
          ],
          "scattercarpet": [
           {
            "marker": {
             "colorbar": {
              "outlinewidth": 0,
              "ticks": ""
             }
            },
            "type": "scattercarpet"
           }
          ],
          "scattergeo": [
           {
            "marker": {
             "colorbar": {
              "outlinewidth": 0,
              "ticks": ""
             }
            },
            "type": "scattergeo"
           }
          ],
          "scattergl": [
           {
            "marker": {
             "colorbar": {
              "outlinewidth": 0,
              "ticks": ""
             }
            },
            "type": "scattergl"
           }
          ],
          "scattermapbox": [
           {
            "marker": {
             "colorbar": {
              "outlinewidth": 0,
              "ticks": ""
             }
            },
            "type": "scattermapbox"
           }
          ],
          "scatterpolar": [
           {
            "marker": {
             "colorbar": {
              "outlinewidth": 0,
              "ticks": ""
             }
            },
            "type": "scatterpolar"
           }
          ],
          "scatterpolargl": [
           {
            "marker": {
             "colorbar": {
              "outlinewidth": 0,
              "ticks": ""
             }
            },
            "type": "scatterpolargl"
           }
          ],
          "scatterternary": [
           {
            "marker": {
             "colorbar": {
              "outlinewidth": 0,
              "ticks": ""
             }
            },
            "type": "scatterternary"
           }
          ],
          "surface": [
           {
            "colorbar": {
             "outlinewidth": 0,
             "ticks": ""
            },
            "colorscale": [
             [
              0,
              "#0d0887"
             ],
             [
              0.1111111111111111,
              "#46039f"
             ],
             [
              0.2222222222222222,
              "#7201a8"
             ],
             [
              0.3333333333333333,
              "#9c179e"
             ],
             [
              0.4444444444444444,
              "#bd3786"
             ],
             [
              0.5555555555555556,
              "#d8576b"
             ],
             [
              0.6666666666666666,
              "#ed7953"
             ],
             [
              0.7777777777777778,
              "#fb9f3a"
             ],
             [
              0.8888888888888888,
              "#fdca26"
             ],
             [
              1,
              "#f0f921"
             ]
            ],
            "type": "surface"
           }
          ],
          "table": [
           {
            "cells": {
             "fill": {
              "color": "#EBF0F8"
             },
             "line": {
              "color": "white"
             }
            },
            "header": {
             "fill": {
              "color": "#C8D4E3"
             },
             "line": {
              "color": "white"
             }
            },
            "type": "table"
           }
          ]
         },
         "layout": {
          "annotationdefaults": {
           "arrowcolor": "#2a3f5f",
           "arrowhead": 0,
           "arrowwidth": 1
          },
          "autotypenumbers": "strict",
          "coloraxis": {
           "colorbar": {
            "outlinewidth": 0,
            "ticks": ""
           }
          },
          "colorscale": {
           "diverging": [
            [
             0,
             "#8e0152"
            ],
            [
             0.1,
             "#c51b7d"
            ],
            [
             0.2,
             "#de77ae"
            ],
            [
             0.3,
             "#f1b6da"
            ],
            [
             0.4,
             "#fde0ef"
            ],
            [
             0.5,
             "#f7f7f7"
            ],
            [
             0.6,
             "#e6f5d0"
            ],
            [
             0.7,
             "#b8e186"
            ],
            [
             0.8,
             "#7fbc41"
            ],
            [
             0.9,
             "#4d9221"
            ],
            [
             1,
             "#276419"
            ]
           ],
           "sequential": [
            [
             0,
             "#0d0887"
            ],
            [
             0.1111111111111111,
             "#46039f"
            ],
            [
             0.2222222222222222,
             "#7201a8"
            ],
            [
             0.3333333333333333,
             "#9c179e"
            ],
            [
             0.4444444444444444,
             "#bd3786"
            ],
            [
             0.5555555555555556,
             "#d8576b"
            ],
            [
             0.6666666666666666,
             "#ed7953"
            ],
            [
             0.7777777777777778,
             "#fb9f3a"
            ],
            [
             0.8888888888888888,
             "#fdca26"
            ],
            [
             1,
             "#f0f921"
            ]
           ],
           "sequentialminus": [
            [
             0,
             "#0d0887"
            ],
            [
             0.1111111111111111,
             "#46039f"
            ],
            [
             0.2222222222222222,
             "#7201a8"
            ],
            [
             0.3333333333333333,
             "#9c179e"
            ],
            [
             0.4444444444444444,
             "#bd3786"
            ],
            [
             0.5555555555555556,
             "#d8576b"
            ],
            [
             0.6666666666666666,
             "#ed7953"
            ],
            [
             0.7777777777777778,
             "#fb9f3a"
            ],
            [
             0.8888888888888888,
             "#fdca26"
            ],
            [
             1,
             "#f0f921"
            ]
           ]
          },
          "colorway": [
           "#636efa",
           "#EF553B",
           "#00cc96",
           "#ab63fa",
           "#FFA15A",
           "#19d3f3",
           "#FF6692",
           "#B6E880",
           "#FF97FF",
           "#FECB52"
          ],
          "font": {
           "color": "#2a3f5f"
          },
          "geo": {
           "bgcolor": "white",
           "lakecolor": "white",
           "landcolor": "#E5ECF6",
           "showlakes": true,
           "showland": true,
           "subunitcolor": "white"
          },
          "hoverlabel": {
           "align": "left"
          },
          "hovermode": "closest",
          "mapbox": {
           "style": "light"
          },
          "paper_bgcolor": "white",
          "plot_bgcolor": "#E5ECF6",
          "polar": {
           "angularaxis": {
            "gridcolor": "white",
            "linecolor": "white",
            "ticks": ""
           },
           "bgcolor": "#E5ECF6",
           "radialaxis": {
            "gridcolor": "white",
            "linecolor": "white",
            "ticks": ""
           }
          },
          "scene": {
           "xaxis": {
            "backgroundcolor": "#E5ECF6",
            "gridcolor": "white",
            "gridwidth": 2,
            "linecolor": "white",
            "showbackground": true,
            "ticks": "",
            "zerolinecolor": "white"
           },
           "yaxis": {
            "backgroundcolor": "#E5ECF6",
            "gridcolor": "white",
            "gridwidth": 2,
            "linecolor": "white",
            "showbackground": true,
            "ticks": "",
            "zerolinecolor": "white"
           },
           "zaxis": {
            "backgroundcolor": "#E5ECF6",
            "gridcolor": "white",
            "gridwidth": 2,
            "linecolor": "white",
            "showbackground": true,
            "ticks": "",
            "zerolinecolor": "white"
           }
          },
          "shapedefaults": {
           "line": {
            "color": "#2a3f5f"
           }
          },
          "ternary": {
           "aaxis": {
            "gridcolor": "white",
            "linecolor": "white",
            "ticks": ""
           },
           "baxis": {
            "gridcolor": "white",
            "linecolor": "white",
            "ticks": ""
           },
           "bgcolor": "#E5ECF6",
           "caxis": {
            "gridcolor": "white",
            "linecolor": "white",
            "ticks": ""
           }
          },
          "title": {
           "x": 0.05
          },
          "xaxis": {
           "automargin": true,
           "gridcolor": "white",
           "linecolor": "white",
           "ticks": "",
           "title": {
            "standoff": 15
           },
           "zerolinecolor": "white",
           "zerolinewidth": 2
          },
          "yaxis": {
           "automargin": true,
           "gridcolor": "white",
           "linecolor": "white",
           "ticks": "",
           "title": {
            "standoff": 15
           },
           "zerolinecolor": "white",
           "zerolinewidth": 2
          }
         }
        },
        "title": {
         "text": "2020 USA Election: Republican House Votes Share in 2020"
        }
       }
      },
      "text/html": [
       "<div>                            <div id=\"21a8ba1f-9c56-484d-a17c-04771c2ba4d4\" class=\"plotly-graph-div\" style=\"height:525px; width:100%;\"></div>            <script type=\"text/javascript\">                require([\"plotly\"], function(Plotly) {                    window.PLOTLYENV=window.PLOTLYENV || {};                                    if (document.getElementById(\"21a8ba1f-9c56-484d-a17c-04771c2ba4d4\")) {                    Plotly.newPlot(                        \"21a8ba1f-9c56-484d-a17c-04771c2ba4d4\",                        [{\"coloraxis\":\"coloraxis\",\"geo\":\"geo\",\"hovertemplate\":\"<b>%{hovertext}</b><br><br>usa_state_code=%{location}<br>Republican Votes Share=%{z}<extra></extra>\",\"hovertext\":[\"Alas\",\"Alab\",\"Arka\",\"Ariz\",\"Cali\",\"Colo\",\"Conn\",\"Dela\",\"Flor\",\"Geor\",\"Hawa\",\"Iowa\",\"Idah\",\"Illi\",\"Indi\",\"Kans\",\"Kent\",\"Loui\",\"Mass\",\"Mary\",\"Main\",\"Mich\",\"Minn\",\"Miss\",\"Miss\",\"Miss\",\"Miss\",\"Miss\",\"Miss\",\"Miss\",\"Miss\",\"Miss\",\"Miss\",\"Miss\",\"Miss\",\"Miss\",\"Miss\",\"Miss\",\"Miss\",\"Mont\",\"Nort\",\"Nort\",\"Nort\",\"Nort\",\"Nebr\",\"Neva\",\"Ohio\",\"Okla\",\"Oreg\",\"Penn\",\"Rhod\",\"Sout\",\"Sout\",\"Sout\",\"Sout\",\"Tenn\",\"Texa\",\"Utah\",\"Virg\",\"Verm\",\"Wash\",\"Wisc\",\"West\",\"Wyom\"],\"locationmode\":\"USA-states\",\"locations\":[\"AK\",\"AL\",\"AR\",\"AZ\",\"CA\",\"CO\",\"CT\",\"DE\",\"FL\",\"GA\",\"HI\",\"IA\",\"ID\",\"IL\",\"IN\",\"KS\",\"KY\",\"LA\",\"MA\",\"MD\",\"ME\",\"MI\",\"MN\",\"MO\",\"MO\",\"MO\",\"MO\",\"MO\",\"MO\",\"MO\",\"MO\",\"MS\",\"MS\",\"MS\",\"MS\",\"MS\",\"MS\",\"MS\",\"MS\",\"MT\",\"NC\",\"NC\",\"ND\",\"ND\",\"NE\",\"NV\",\"OH\",\"OK\",\"OR\",\"PA\",\"RI\",\"SC\",\"SC\",\"SD\",\"SD\",\"TN\",\"TX\",\"UT\",\"VA\",\"VT\",\"WA\",\"WI\",\"WV\",\"WY\"],\"name\":\"\",\"z\":[0.5440120057197061,0.6964419299737509,0.702279811021913,0.5013436858697119,0.3372536983331632,0.43547228234253305,0.3852148706746968,0.4022200831507158,0.5226155603663073,0.5099181742180912,0.29478572174689244,0.5249796890748603,0.6605522290243216,0.4112786223105723,0.5802693064231598,0.5709527849749034,0.6446253181858139,0.6154795135142889,0.2101210884918137,0.34865874137636355,0.419701485889065,0.4827751353233376,0.462426476974465,0.6522495167740637,0.6522495167740637,0.6522495167740637,0.6522495167740637,0.5801381375823399,0.5801381375823399,0.5801381375823399,0.5801381375823399,0.6522495167740637,0.6522495167740637,0.6522495167740637,0.6522495167740637,0.5801381375823399,0.5801381375823399,0.5801381375823399,0.5801381375823399,0.563863549838822,0.5064599697028812,0.5064599697028812,0.5064599697028812,0.5064599697028812,0.6217308440047679,0.4675595508137683,0.5645863779475626,0.6730607464436571,0.41948125540738607,0.5063290971223546,0.22598588899148034,0.5979358806959586,0.5979358806959586,0.5979358806959586,0.5979358806959586,0.5930444476741219,0.5344150436263287,0.6097803987063548,0.4750164600441997,0.270066142673156,0.39182167990582706,0.5133794223535559,0.6756158826249632,0.6869625361083268],\"type\":\"choropleth\"}],                        {\"template\":{\"data\":{\"histogram2dcontour\":[{\"type\":\"histogram2dcontour\",\"colorbar\":{\"outlinewidth\":0,\"ticks\":\"\"},\"colorscale\":[[0.0,\"#0d0887\"],[0.1111111111111111,\"#46039f\"],[0.2222222222222222,\"#7201a8\"],[0.3333333333333333,\"#9c179e\"],[0.4444444444444444,\"#bd3786\"],[0.5555555555555556,\"#d8576b\"],[0.6666666666666666,\"#ed7953\"],[0.7777777777777778,\"#fb9f3a\"],[0.8888888888888888,\"#fdca26\"],[1.0,\"#f0f921\"]]}],\"choropleth\":[{\"type\":\"choropleth\",\"colorbar\":{\"outlinewidth\":0,\"ticks\":\"\"}}],\"histogram2d\":[{\"type\":\"histogram2d\",\"colorbar\":{\"outlinewidth\":0,\"ticks\":\"\"},\"colorscale\":[[0.0,\"#0d0887\"],[0.1111111111111111,\"#46039f\"],[0.2222222222222222,\"#7201a8\"],[0.3333333333333333,\"#9c179e\"],[0.4444444444444444,\"#bd3786\"],[0.5555555555555556,\"#d8576b\"],[0.6666666666666666,\"#ed7953\"],[0.7777777777777778,\"#fb9f3a\"],[0.8888888888888888,\"#fdca26\"],[1.0,\"#f0f921\"]]}],\"heatmap\":[{\"type\":\"heatmap\",\"colorbar\":{\"outlinewidth\":0,\"ticks\":\"\"},\"colorscale\":[[0.0,\"#0d0887\"],[0.1111111111111111,\"#46039f\"],[0.2222222222222222,\"#7201a8\"],[0.3333333333333333,\"#9c179e\"],[0.4444444444444444,\"#bd3786\"],[0.5555555555555556,\"#d8576b\"],[0.6666666666666666,\"#ed7953\"],[0.7777777777777778,\"#fb9f3a\"],[0.8888888888888888,\"#fdca26\"],[1.0,\"#f0f921\"]]}],\"heatmapgl\":[{\"type\":\"heatmapgl\",\"colorbar\":{\"outlinewidth\":0,\"ticks\":\"\"},\"colorscale\":[[0.0,\"#0d0887\"],[0.1111111111111111,\"#46039f\"],[0.2222222222222222,\"#7201a8\"],[0.3333333333333333,\"#9c179e\"],[0.4444444444444444,\"#bd3786\"],[0.5555555555555556,\"#d8576b\"],[0.6666666666666666,\"#ed7953\"],[0.7777777777777778,\"#fb9f3a\"],[0.8888888888888888,\"#fdca26\"],[1.0,\"#f0f921\"]]}],\"contourcarpet\":[{\"type\":\"contourcarpet\",\"colorbar\":{\"outlinewidth\":0,\"ticks\":\"\"}}],\"contour\":[{\"type\":\"contour\",\"colorbar\":{\"outlinewidth\":0,\"ticks\":\"\"},\"colorscale\":[[0.0,\"#0d0887\"],[0.1111111111111111,\"#46039f\"],[0.2222222222222222,\"#7201a8\"],[0.3333333333333333,\"#9c179e\"],[0.4444444444444444,\"#bd3786\"],[0.5555555555555556,\"#d8576b\"],[0.6666666666666666,\"#ed7953\"],[0.7777777777777778,\"#fb9f3a\"],[0.8888888888888888,\"#fdca26\"],[1.0,\"#f0f921\"]]}],\"surface\":[{\"type\":\"surface\",\"colorbar\":{\"outlinewidth\":0,\"ticks\":\"\"},\"colorscale\":[[0.0,\"#0d0887\"],[0.1111111111111111,\"#46039f\"],[0.2222222222222222,\"#7201a8\"],[0.3333333333333333,\"#9c179e\"],[0.4444444444444444,\"#bd3786\"],[0.5555555555555556,\"#d8576b\"],[0.6666666666666666,\"#ed7953\"],[0.7777777777777778,\"#fb9f3a\"],[0.8888888888888888,\"#fdca26\"],[1.0,\"#f0f921\"]]}],\"mesh3d\":[{\"type\":\"mesh3d\",\"colorbar\":{\"outlinewidth\":0,\"ticks\":\"\"}}],\"scatter\":[{\"fillpattern\":{\"fillmode\":\"overlay\",\"size\":10,\"solidity\":0.2},\"type\":\"scatter\"}],\"parcoords\":[{\"type\":\"parcoords\",\"line\":{\"colorbar\":{\"outlinewidth\":0,\"ticks\":\"\"}}}],\"scatterpolargl\":[{\"type\":\"scatterpolargl\",\"marker\":{\"colorbar\":{\"outlinewidth\":0,\"ticks\":\"\"}}}],\"bar\":[{\"error_x\":{\"color\":\"#2a3f5f\"},\"error_y\":{\"color\":\"#2a3f5f\"},\"marker\":{\"line\":{\"color\":\"#E5ECF6\",\"width\":0.5},\"pattern\":{\"fillmode\":\"overlay\",\"size\":10,\"solidity\":0.2}},\"type\":\"bar\"}],\"scattergeo\":[{\"type\":\"scattergeo\",\"marker\":{\"colorbar\":{\"outlinewidth\":0,\"ticks\":\"\"}}}],\"scatterpolar\":[{\"type\":\"scatterpolar\",\"marker\":{\"colorbar\":{\"outlinewidth\":0,\"ticks\":\"\"}}}],\"histogram\":[{\"marker\":{\"pattern\":{\"fillmode\":\"overlay\",\"size\":10,\"solidity\":0.2}},\"type\":\"histogram\"}],\"scattergl\":[{\"type\":\"scattergl\",\"marker\":{\"colorbar\":{\"outlinewidth\":0,\"ticks\":\"\"}}}],\"scatter3d\":[{\"type\":\"scatter3d\",\"line\":{\"colorbar\":{\"outlinewidth\":0,\"ticks\":\"\"}},\"marker\":{\"colorbar\":{\"outlinewidth\":0,\"ticks\":\"\"}}}],\"scattermapbox\":[{\"type\":\"scattermapbox\",\"marker\":{\"colorbar\":{\"outlinewidth\":0,\"ticks\":\"\"}}}],\"scatterternary\":[{\"type\":\"scatterternary\",\"marker\":{\"colorbar\":{\"outlinewidth\":0,\"ticks\":\"\"}}}],\"scattercarpet\":[{\"type\":\"scattercarpet\",\"marker\":{\"colorbar\":{\"outlinewidth\":0,\"ticks\":\"\"}}}],\"carpet\":[{\"aaxis\":{\"endlinecolor\":\"#2a3f5f\",\"gridcolor\":\"white\",\"linecolor\":\"white\",\"minorgridcolor\":\"white\",\"startlinecolor\":\"#2a3f5f\"},\"baxis\":{\"endlinecolor\":\"#2a3f5f\",\"gridcolor\":\"white\",\"linecolor\":\"white\",\"minorgridcolor\":\"white\",\"startlinecolor\":\"#2a3f5f\"},\"type\":\"carpet\"}],\"table\":[{\"cells\":{\"fill\":{\"color\":\"#EBF0F8\"},\"line\":{\"color\":\"white\"}},\"header\":{\"fill\":{\"color\":\"#C8D4E3\"},\"line\":{\"color\":\"white\"}},\"type\":\"table\"}],\"barpolar\":[{\"marker\":{\"line\":{\"color\":\"#E5ECF6\",\"width\":0.5},\"pattern\":{\"fillmode\":\"overlay\",\"size\":10,\"solidity\":0.2}},\"type\":\"barpolar\"}],\"pie\":[{\"automargin\":true,\"type\":\"pie\"}]},\"layout\":{\"autotypenumbers\":\"strict\",\"colorway\":[\"#636efa\",\"#EF553B\",\"#00cc96\",\"#ab63fa\",\"#FFA15A\",\"#19d3f3\",\"#FF6692\",\"#B6E880\",\"#FF97FF\",\"#FECB52\"],\"font\":{\"color\":\"#2a3f5f\"},\"hovermode\":\"closest\",\"hoverlabel\":{\"align\":\"left\"},\"paper_bgcolor\":\"white\",\"plot_bgcolor\":\"#E5ECF6\",\"polar\":{\"bgcolor\":\"#E5ECF6\",\"angularaxis\":{\"gridcolor\":\"white\",\"linecolor\":\"white\",\"ticks\":\"\"},\"radialaxis\":{\"gridcolor\":\"white\",\"linecolor\":\"white\",\"ticks\":\"\"}},\"ternary\":{\"bgcolor\":\"#E5ECF6\",\"aaxis\":{\"gridcolor\":\"white\",\"linecolor\":\"white\",\"ticks\":\"\"},\"baxis\":{\"gridcolor\":\"white\",\"linecolor\":\"white\",\"ticks\":\"\"},\"caxis\":{\"gridcolor\":\"white\",\"linecolor\":\"white\",\"ticks\":\"\"}},\"coloraxis\":{\"colorbar\":{\"outlinewidth\":0,\"ticks\":\"\"}},\"colorscale\":{\"sequential\":[[0.0,\"#0d0887\"],[0.1111111111111111,\"#46039f\"],[0.2222222222222222,\"#7201a8\"],[0.3333333333333333,\"#9c179e\"],[0.4444444444444444,\"#bd3786\"],[0.5555555555555556,\"#d8576b\"],[0.6666666666666666,\"#ed7953\"],[0.7777777777777778,\"#fb9f3a\"],[0.8888888888888888,\"#fdca26\"],[1.0,\"#f0f921\"]],\"sequentialminus\":[[0.0,\"#0d0887\"],[0.1111111111111111,\"#46039f\"],[0.2222222222222222,\"#7201a8\"],[0.3333333333333333,\"#9c179e\"],[0.4444444444444444,\"#bd3786\"],[0.5555555555555556,\"#d8576b\"],[0.6666666666666666,\"#ed7953\"],[0.7777777777777778,\"#fb9f3a\"],[0.8888888888888888,\"#fdca26\"],[1.0,\"#f0f921\"]],\"diverging\":[[0,\"#8e0152\"],[0.1,\"#c51b7d\"],[0.2,\"#de77ae\"],[0.3,\"#f1b6da\"],[0.4,\"#fde0ef\"],[0.5,\"#f7f7f7\"],[0.6,\"#e6f5d0\"],[0.7,\"#b8e186\"],[0.8,\"#7fbc41\"],[0.9,\"#4d9221\"],[1,\"#276419\"]]},\"xaxis\":{\"gridcolor\":\"white\",\"linecolor\":\"white\",\"ticks\":\"\",\"title\":{\"standoff\":15},\"zerolinecolor\":\"white\",\"automargin\":true,\"zerolinewidth\":2},\"yaxis\":{\"gridcolor\":\"white\",\"linecolor\":\"white\",\"ticks\":\"\",\"title\":{\"standoff\":15},\"zerolinecolor\":\"white\",\"automargin\":true,\"zerolinewidth\":2},\"scene\":{\"xaxis\":{\"backgroundcolor\":\"#E5ECF6\",\"gridcolor\":\"white\",\"linecolor\":\"white\",\"showbackground\":true,\"ticks\":\"\",\"zerolinecolor\":\"white\",\"gridwidth\":2},\"yaxis\":{\"backgroundcolor\":\"#E5ECF6\",\"gridcolor\":\"white\",\"linecolor\":\"white\",\"showbackground\":true,\"ticks\":\"\",\"zerolinecolor\":\"white\",\"gridwidth\":2},\"zaxis\":{\"backgroundcolor\":\"#E5ECF6\",\"gridcolor\":\"white\",\"linecolor\":\"white\",\"showbackground\":true,\"ticks\":\"\",\"zerolinecolor\":\"white\",\"gridwidth\":2}},\"shapedefaults\":{\"line\":{\"color\":\"#2a3f5f\"}},\"annotationdefaults\":{\"arrowcolor\":\"#2a3f5f\",\"arrowhead\":0,\"arrowwidth\":1},\"geo\":{\"bgcolor\":\"white\",\"landcolor\":\"#E5ECF6\",\"subunitcolor\":\"white\",\"showland\":true,\"showlakes\":true,\"lakecolor\":\"white\"},\"title\":{\"x\":0.05},\"mapbox\":{\"style\":\"light\"}}},\"geo\":{\"domain\":{\"x\":[0.0,1.0],\"y\":[0.0,1.0]},\"center\":{},\"scope\":\"usa\"},\"coloraxis\":{\"colorbar\":{\"title\":{\"text\":\"Republican Votes Share\"}},\"colorscale\":[[0.0,\"rgb(255,245,240)\"],[0.125,\"rgb(254,224,210)\"],[0.25,\"rgb(252,187,161)\"],[0.375,\"rgb(252,146,114)\"],[0.5,\"rgb(251,106,74)\"],[0.625,\"rgb(239,59,44)\"],[0.75,\"rgb(203,24,29)\"],[0.875,\"rgb(165,15,21)\"],[1.0,\"rgb(103,0,13)\"]],\"cmid\":0.6,\"cmin\":0.4,\"cmax\":0.8},\"legend\":{\"tracegroupgap\":0},\"title\":{\"text\":\"2020 USA Election: Republican House Votes Share in 2020\"}},                        {\"responsive\": true}                    ).then(function(){\n",
       "                            \n",
       "var gd = document.getElementById('21a8ba1f-9c56-484d-a17c-04771c2ba4d4');\n",
       "var x = new MutationObserver(function (mutations, observer) {{\n",
       "        var display = window.getComputedStyle(gd).display;\n",
       "        if (!display || display === 'none') {{\n",
       "            console.log([gd, 'removed!']);\n",
       "            Plotly.purge(gd);\n",
       "            observer.disconnect();\n",
       "        }}\n",
       "}});\n",
       "\n",
       "// Listen for the removal of the full notebook cells\n",
       "var notebookContainer = gd.closest('#notebook-container');\n",
       "if (notebookContainer) {{\n",
       "    x.observe(notebookContainer, {childList: true});\n",
       "}}\n",
       "\n",
       "// Listen for the clearing of the current output cell\n",
       "var outputEl = gd.closest('.output');\n",
       "if (outputEl) {{\n",
       "    x.observe(outputEl, {childList: true});\n",
       "}}\n",
       "\n",
       "                        })                };                });            </script>        </div>"
      ]
     },
     "metadata": {},
     "output_type": "display_data"
    }
   ],
   "source": [
    "fig = px.choropleth(merged_for_map, \n",
    "                    locations=\"usa_state_code\", \n",
    "                    color=\"Republican_Votes_Share_x\", \n",
    "                    locationmode = 'USA-states', \n",
    "                    hover_name=\"state\",\n",
    "                    range_color=[0.4,0.8],\n",
    "                    scope=\"usa\",\n",
    "                    title='2020 USA Election: Republican House Votes Share in 2020',\n",
    "                    color_continuous_scale=px.colors.sequential.Reds, # Change the color scale here\n",
    "                    color_continuous_midpoint=0.6, # Set midpoint of the color scale\n",
    "                    labels={'Republican_Votes_Share_x': 'Republican Votes Share'}) # Rename the color bar title in the legend\n",
    "\n",
    "fig.show()\n"
   ]
  },
  {
   "cell_type": "markdown",
   "id": "c89c803a",
   "metadata": {},
   "source": [
    "From the two maps above, the vote share of Donald Trump and House Republican candidates in all the U.S. states are presented. Therefore, we can compare their vote share and analyse Trump’s impact more intuitively from a geographical perspective. In the map. We can see that in the two maps we plotted, House Republican candidates performed better than Donald Trump in most of the U.S. states, which means the general popularity of the Republicans is better than that of Trump. This reaffirms our previous conclusion that Republican Party’s ideology and image made the Republicans lose the White House, it is Trump who dragged down the Republican Party. This could attribute to several factors. First, Donald Trump’s overall popularity is not that good due to his bad governance and terrible policies with regard to COVID-19, trade, diplomacy, etc. Second, Trump has done certain things that really pissed off many people in certain states. For example, he has publicly humiliated Arizona’s former U.S. Senator, John Sidney McCain III, who is very well-regarded by the people in Arizona. His unfriendly attitude to people of colour also caused him to lose support in states where people of colour take up a significant proportion of the population, like Florida, Georgia, Colorado, etc. Third, though he is a Republican, his values and lifestyle completed does not meet the expectation of conservative Christians, a group that takes up a huge percentage of Republican voters. \n"
   ]
  },
  {
   "cell_type": "markdown",
   "id": "4c2b1311",
   "metadata": {},
   "source": [
    "# Project 3"
   ]
  },
  {
   "cell_type": "markdown",
   "id": "9852656a",
   "metadata": {},
   "source": [
    "## Potential Data to Scrape"
   ]
  },
  {
   "cell_type": "markdown",
   "id": "ee9b3e39",
   "metadata": {},
   "source": [
    "For the third project, we incorporated statistical data on per capita income for all United States counties, which we obtained from the website https://en.wikipedia.org/wiki/List_of_United_States_counties_by_per_capita_income. I combined this dataset with information on the Republican vote share by county. It is a panel data that describes the per capita income of all U.S. counties during a given period of time. I then classified all US counties into two distinct categories based on their per capita income in relation to the national average: 'rich counties' with per capita income surpassing the national average, and 'poor counties' with per capita income below the national average, and integrated them. This enabled us to examine whether Trump's popularity, relative to that of the Republican Party, was associated with the socioeconomic status of the county. Through a comparison of Donald Trump's performance with that of the Republicans in both rich and poor counties, we analyzed his influence from a socioeconomic perspective, thus enriching our report and find out the causality behind Trump dragging down the Republican Party. Ultimately, we were able to find out whether the Trump’s unpopularity in rich or poor counties dragged down the Republican party in the 2020 presidential election."
   ]
  },
  {
   "cell_type": "markdown",
   "id": "b2411560",
   "metadata": {},
   "source": [
    "## Potential Challenges"
   ]
  },
  {
   "cell_type": "markdown",
   "id": "86f24954",
   "metadata": {},
   "source": [
    "Various obstacles may arise that require attention during the process of scraping data. In the current investigation, the data I scraped contains the statistics for some US overseas territory, like Guam and Nothern Mariana Island. It could be tedius and troublesome to drop all the data that I do not need. As you know, there are so many counties in the United States, it could be difficult for me to locate and eliminate the data that I do not wish to include. However, It is good that I do not need run the program regularly, as all data concerning the 2020 presidential election is constant. Despite the researcher's ability to obtain the requisite data from the source, there exists a necessity to establish a methodology for the seamless integration of the primary data and the web-scraped data."
   ]
  },
  {
   "cell_type": "markdown",
   "id": "8f1286fe",
   "metadata": {},
   "source": [
    "## Scraping Data from a Website"
   ]
  },
  {
   "cell_type": "code",
   "execution_count": 53,
   "id": "92b8a858",
   "metadata": {
    "scrolled": true
   },
   "outputs": [
    {
     "data": {
      "text/html": [
       "<div>\n",
       "<style scoped>\n",
       "    .dataframe tbody tr th:only-of-type {\n",
       "        vertical-align: middle;\n",
       "    }\n",
       "\n",
       "    .dataframe tbody tr th {\n",
       "        vertical-align: top;\n",
       "    }\n",
       "\n",
       "    .dataframe thead th {\n",
       "        text-align: right;\n",
       "    }\n",
       "</style>\n",
       "<table border=\"1\" class=\"dataframe\">\n",
       "  <thead>\n",
       "    <tr style=\"text-align: right;\">\n",
       "      <th></th>\n",
       "      <th>Rank</th>\n",
       "      <th>county</th>\n",
       "      <th>State, federal district or territory</th>\n",
       "      <th>Per capitaincome</th>\n",
       "      <th>Medianhouseholdincome</th>\n",
       "      <th>Medianfamilyincome</th>\n",
       "      <th>Population</th>\n",
       "      <th>Number ofhouseholds</th>\n",
       "    </tr>\n",
       "  </thead>\n",
       "  <tbody>\n",
       "    <tr>\n",
       "      <th>0</th>\n",
       "      <td>1</td>\n",
       "      <td>New York County</td>\n",
       "      <td>New York</td>\n",
       "      <td>$76,592</td>\n",
       "      <td>$69,659</td>\n",
       "      <td>$86,553</td>\n",
       "      <td>1628706.0</td>\n",
       "      <td>759460.0</td>\n",
       "    </tr>\n",
       "    <tr>\n",
       "      <th>1</th>\n",
       "      <td>2</td>\n",
       "      <td>Arlington</td>\n",
       "      <td>Virginia</td>\n",
       "      <td>$62,018</td>\n",
       "      <td>$103,208</td>\n",
       "      <td>$139,244</td>\n",
       "      <td>214861.0</td>\n",
       "      <td>94454.0</td>\n",
       "    </tr>\n",
       "    <tr>\n",
       "      <th>2</th>\n",
       "      <td>3</td>\n",
       "      <td>Falls Church City</td>\n",
       "      <td>Virginia</td>\n",
       "      <td>$59,088</td>\n",
       "      <td>$120,000</td>\n",
       "      <td>$152,857</td>\n",
       "      <td>12731.0</td>\n",
       "      <td>5020.0</td>\n",
       "    </tr>\n",
       "    <tr>\n",
       "      <th>3</th>\n",
       "      <td>4</td>\n",
       "      <td>Marin</td>\n",
       "      <td>California</td>\n",
       "      <td>$56,791</td>\n",
       "      <td>$90,839</td>\n",
       "      <td>$117,357</td>\n",
       "      <td>254643.0</td>\n",
       "      <td>102912.0</td>\n",
       "    </tr>\n",
       "    <tr>\n",
       "      <th>4</th>\n",
       "      <td>5</td>\n",
       "      <td>Santa Clara</td>\n",
       "      <td>California</td>\n",
       "      <td>$56,248</td>\n",
       "      <td>$124,055</td>\n",
       "      <td>$124,055</td>\n",
       "      <td>1927852.0</td>\n",
       "      <td>640215.0</td>\n",
       "    </tr>\n",
       "  </tbody>\n",
       "</table>\n",
       "</div>"
      ],
      "text/plain": [
       "  Rank             county State, federal district or territory  \\\n",
       "0    1    New York County                             New York   \n",
       "1    2          Arlington                             Virginia   \n",
       "2    3  Falls Church City                             Virginia   \n",
       "3    4              Marin                           California   \n",
       "4    5        Santa Clara                           California   \n",
       "\n",
       "  Per capitaincome Medianhouseholdincome Medianfamilyincome  Population  \\\n",
       "0          $76,592               $69,659            $86,553   1628706.0   \n",
       "1          $62,018              $103,208           $139,244    214861.0   \n",
       "2          $59,088              $120,000           $152,857     12731.0   \n",
       "3          $56,791               $90,839           $117,357    254643.0   \n",
       "4          $56,248              $124,055           $124,055   1927852.0   \n",
       "\n",
       "   Number ofhouseholds  \n",
       "0             759460.0  \n",
       "1              94454.0  \n",
       "2               5020.0  \n",
       "3             102912.0  \n",
       "4             640215.0  "
      ]
     },
     "execution_count": 53,
     "metadata": {},
     "output_type": "execute_result"
    }
   ],
   "source": [
    "## Web scraping the data of income per capita of all US counties from Wikipedia\n",
    "\n",
    "url = \"https://en.wikipedia.org/wiki/List_of_United_States_counties_by_per_capita_income\"\n",
    "\n",
    "html = requests.get(url).content\n",
    "soup = BeautifulSoup(html)\n",
    "\n",
    "table = soup.find_all(\"table\")[2] # select the third table on the page\n",
    "Income_per_capita = pd.read_html(str(table))[0] # convert the table to a pandas dataframe\n",
    "Income_per_capita = Income_per_capita.rename(columns={'County or county-equivalent': 'county'})\n",
    "Income_per_capita.head()"
   ]
  },
  {
   "cell_type": "markdown",
   "id": "1e492f6c",
   "metadata": {},
   "source": [
    "This is the data of the per capita income of U.S. counties and territories scrapped from Wikipedia, as we mentioned before. "
   ]
  },
  {
   "cell_type": "markdown",
   "id": "f8395791",
   "metadata": {},
   "source": [
    "## Merging the Scraped Dataset"
   ]
  },
  {
   "cell_type": "code",
   "execution_count": 54,
   "id": "e1bb9343",
   "metadata": {},
   "outputs": [
    {
     "data": {
      "text/html": [
       "<div>\n",
       "<style scoped>\n",
       "    .dataframe tbody tr th:only-of-type {\n",
       "        vertical-align: middle;\n",
       "    }\n",
       "\n",
       "    .dataframe tbody tr th {\n",
       "        vertical-align: top;\n",
       "    }\n",
       "\n",
       "    .dataframe thead th {\n",
       "        text-align: right;\n",
       "    }\n",
       "</style>\n",
       "<table border=\"1\" class=\"dataframe\">\n",
       "  <thead>\n",
       "    <tr style=\"text-align: right;\">\n",
       "      <th></th>\n",
       "      <th>county</th>\n",
       "      <th>GOP_vote_ratio</th>\n",
       "    </tr>\n",
       "  </thead>\n",
       "  <tbody>\n",
       "    <tr>\n",
       "      <th>0</th>\n",
       "      <td>Abington</td>\n",
       "      <td>0.982816</td>\n",
       "    </tr>\n",
       "    <tr>\n",
       "      <th>1</th>\n",
       "      <td>Acadia Parish</td>\n",
       "      <td>0.097628</td>\n",
       "    </tr>\n",
       "    <tr>\n",
       "      <th>2</th>\n",
       "      <td>Acton</td>\n",
       "      <td>0.808411</td>\n",
       "    </tr>\n",
       "    <tr>\n",
       "      <th>3</th>\n",
       "      <td>Acworth</td>\n",
       "      <td>0.953782</td>\n",
       "    </tr>\n",
       "    <tr>\n",
       "      <th>4</th>\n",
       "      <td>Adams</td>\n",
       "      <td>0.959717</td>\n",
       "    </tr>\n",
       "    <tr>\n",
       "      <th>...</th>\n",
       "      <td>...</td>\n",
       "      <td>...</td>\n",
       "    </tr>\n",
       "    <tr>\n",
       "      <th>987</th>\n",
       "      <td>Yazoo County</td>\n",
       "      <td>0.982089</td>\n",
       "    </tr>\n",
       "    <tr>\n",
       "      <th>988</th>\n",
       "      <td>York</td>\n",
       "      <td>0.914235</td>\n",
       "    </tr>\n",
       "    <tr>\n",
       "      <th>989</th>\n",
       "      <td>Zapata County</td>\n",
       "      <td>0.934447</td>\n",
       "    </tr>\n",
       "    <tr>\n",
       "      <th>990</th>\n",
       "      <td>Zavala County</td>\n",
       "      <td>0.905217</td>\n",
       "    </tr>\n",
       "    <tr>\n",
       "      <th>991</th>\n",
       "      <td>Ziebach County</td>\n",
       "      <td>1.000000</td>\n",
       "    </tr>\n",
       "  </tbody>\n",
       "</table>\n",
       "<p>992 rows × 2 columns</p>\n",
       "</div>"
      ],
      "text/plain": [
       "             county  GOP_vote_ratio\n",
       "0          Abington        0.982816\n",
       "1     Acadia Parish        0.097628\n",
       "2             Acton        0.808411\n",
       "3           Acworth        0.953782\n",
       "4             Adams        0.959717\n",
       "..              ...             ...\n",
       "987    Yazoo County        0.982089\n",
       "988            York        0.914235\n",
       "989   Zapata County        0.934447\n",
       "990   Zavala County        0.905217\n",
       "991  Ziebach County        1.000000\n",
       "\n",
       "[992 rows x 2 columns]"
      ]
     },
     "execution_count": 54,
     "metadata": {},
     "output_type": "execute_result"
    }
   ],
   "source": [
    "senate_GOP_vote_ratio.reset_index()"
   ]
  },
  {
   "cell_type": "code",
   "execution_count": 55,
   "id": "124905f7",
   "metadata": {},
   "outputs": [
    {
     "data": {
      "text/html": [
       "<div>\n",
       "<style scoped>\n",
       "    .dataframe tbody tr th:only-of-type {\n",
       "        vertical-align: middle;\n",
       "    }\n",
       "\n",
       "    .dataframe tbody tr th {\n",
       "        vertical-align: top;\n",
       "    }\n",
       "\n",
       "    .dataframe thead th {\n",
       "        text-align: right;\n",
       "    }\n",
       "</style>\n",
       "<table border=\"1\" class=\"dataframe\">\n",
       "  <thead>\n",
       "    <tr style=\"text-align: right;\">\n",
       "      <th></th>\n",
       "      <th>county</th>\n",
       "      <th>GOP_vote_ratio</th>\n",
       "      <th>Rank</th>\n",
       "      <th>State, federal district or territory</th>\n",
       "      <th>Per capitaincome</th>\n",
       "      <th>Medianhouseholdincome</th>\n",
       "      <th>Medianfamilyincome</th>\n",
       "      <th>Population</th>\n",
       "      <th>Number ofhouseholds</th>\n",
       "    </tr>\n",
       "  </thead>\n",
       "  <tbody>\n",
       "    <tr>\n",
       "      <th>0</th>\n",
       "      <td>Adams</td>\n",
       "      <td>0.959717</td>\n",
       "      <td>248</td>\n",
       "      <td>North Dakota</td>\n",
       "      <td>$31,502</td>\n",
       "      <td>$47,798</td>\n",
       "      <td>$65,859</td>\n",
       "      <td>2328.0</td>\n",
       "      <td>1101.0</td>\n",
       "    </tr>\n",
       "    <tr>\n",
       "      <th>1</th>\n",
       "      <td>Adams</td>\n",
       "      <td>0.959717</td>\n",
       "      <td>600</td>\n",
       "      <td>Pennsylvania</td>\n",
       "      <td>$27,284</td>\n",
       "      <td>$59,492</td>\n",
       "      <td>$69,551</td>\n",
       "      <td>101496.0</td>\n",
       "      <td>38141.0</td>\n",
       "    </tr>\n",
       "    <tr>\n",
       "      <th>2</th>\n",
       "      <td>Adams</td>\n",
       "      <td>0.959717</td>\n",
       "      <td>929</td>\n",
       "      <td>Nebraska</td>\n",
       "      <td>$25,571</td>\n",
       "      <td>$49,440</td>\n",
       "      <td>$65,286</td>\n",
       "      <td>31367.0</td>\n",
       "      <td>12578.0</td>\n",
       "    </tr>\n",
       "    <tr>\n",
       "      <th>3</th>\n",
       "      <td>Adams</td>\n",
       "      <td>0.959717</td>\n",
       "      <td>1229</td>\n",
       "      <td>Illinois</td>\n",
       "      <td>$24,217</td>\n",
       "      <td>$45,073</td>\n",
       "      <td>$58,992</td>\n",
       "      <td>67152.0</td>\n",
       "      <td>26912.0</td>\n",
       "    </tr>\n",
       "    <tr>\n",
       "      <th>4</th>\n",
       "      <td>Adams</td>\n",
       "      <td>0.959717</td>\n",
       "      <td>1233</td>\n",
       "      <td>Colorado</td>\n",
       "      <td>$24,195</td>\n",
       "      <td>$56,270</td>\n",
       "      <td>$64,611</td>\n",
       "      <td>452030.0</td>\n",
       "      <td>152803.0</td>\n",
       "    </tr>\n",
       "    <tr>\n",
       "      <th>...</th>\n",
       "      <td>...</td>\n",
       "      <td>...</td>\n",
       "      <td>...</td>\n",
       "      <td>...</td>\n",
       "      <td>...</td>\n",
       "      <td>...</td>\n",
       "      <td>...</td>\n",
       "      <td>...</td>\n",
       "      <td>...</td>\n",
       "    </tr>\n",
       "    <tr>\n",
       "      <th>402</th>\n",
       "      <td>York</td>\n",
       "      <td>0.914235</td>\n",
       "      <td>95</td>\n",
       "      <td>Virginia</td>\n",
       "      <td>$36,373</td>\n",
       "      <td>$82,073</td>\n",
       "      <td>$95,392</td>\n",
       "      <td>65762.0</td>\n",
       "      <td>24071.0</td>\n",
       "    </tr>\n",
       "    <tr>\n",
       "      <th>403</th>\n",
       "      <td>York</td>\n",
       "      <td>0.914235</td>\n",
       "      <td>390</td>\n",
       "      <td>Maine</td>\n",
       "      <td>$29,125</td>\n",
       "      <td>$57,348</td>\n",
       "      <td>$70,642</td>\n",
       "      <td>198220.0</td>\n",
       "      <td>81293.0</td>\n",
       "    </tr>\n",
       "    <tr>\n",
       "      <th>404</th>\n",
       "      <td>York</td>\n",
       "      <td>0.914235</td>\n",
       "      <td>470</td>\n",
       "      <td>Nebraska</td>\n",
       "      <td>$28,207</td>\n",
       "      <td>$49,633</td>\n",
       "      <td>$63,940</td>\n",
       "      <td>13762.0</td>\n",
       "      <td>5501.0</td>\n",
       "    </tr>\n",
       "    <tr>\n",
       "      <th>405</th>\n",
       "      <td>York</td>\n",
       "      <td>0.914235</td>\n",
       "      <td>480</td>\n",
       "      <td>Pennsylvania</td>\n",
       "      <td>$28,132</td>\n",
       "      <td>$58,745</td>\n",
       "      <td>$70,001</td>\n",
       "      <td>436339.0</td>\n",
       "      <td>167592.0</td>\n",
       "    </tr>\n",
       "    <tr>\n",
       "      <th>406</th>\n",
       "      <td>York</td>\n",
       "      <td>0.914235</td>\n",
       "      <td>733</td>\n",
       "      <td>South Carolina</td>\n",
       "      <td>$26,553</td>\n",
       "      <td>$53,740</td>\n",
       "      <td>$66,256</td>\n",
       "      <td>230934.0</td>\n",
       "      <td>86483.0</td>\n",
       "    </tr>\n",
       "  </tbody>\n",
       "</table>\n",
       "<p>407 rows × 9 columns</p>\n",
       "</div>"
      ],
      "text/plain": [
       "    county  GOP_vote_ratio  Rank State, federal district or territory  \\\n",
       "0    Adams        0.959717   248                         North Dakota   \n",
       "1    Adams        0.959717   600                         Pennsylvania   \n",
       "2    Adams        0.959717   929                             Nebraska   \n",
       "3    Adams        0.959717  1229                             Illinois   \n",
       "4    Adams        0.959717  1233                             Colorado   \n",
       "..     ...             ...   ...                                  ...   \n",
       "402   York        0.914235    95                             Virginia   \n",
       "403   York        0.914235   390                                Maine   \n",
       "404   York        0.914235   470                             Nebraska   \n",
       "405   York        0.914235   480                         Pennsylvania   \n",
       "406   York        0.914235   733                       South Carolina   \n",
       "\n",
       "    Per capitaincome Medianhouseholdincome Medianfamilyincome  Population  \\\n",
       "0            $31,502               $47,798            $65,859      2328.0   \n",
       "1            $27,284               $59,492            $69,551    101496.0   \n",
       "2            $25,571               $49,440            $65,286     31367.0   \n",
       "3            $24,217               $45,073            $58,992     67152.0   \n",
       "4            $24,195               $56,270            $64,611    452030.0   \n",
       "..               ...                   ...                ...         ...   \n",
       "402          $36,373               $82,073            $95,392     65762.0   \n",
       "403          $29,125               $57,348            $70,642    198220.0   \n",
       "404          $28,207               $49,633            $63,940     13762.0   \n",
       "405          $28,132               $58,745            $70,001    436339.0   \n",
       "406          $26,553               $53,740            $66,256    230934.0   \n",
       "\n",
       "     Number ofhouseholds  \n",
       "0                 1101.0  \n",
       "1                38141.0  \n",
       "2                12578.0  \n",
       "3                26912.0  \n",
       "4               152803.0  \n",
       "..                   ...  \n",
       "402              24071.0  \n",
       "403              81293.0  \n",
       "404               5501.0  \n",
       "405             167592.0  \n",
       "406              86483.0  \n",
       "\n",
       "[407 rows x 9 columns]"
      ]
     },
     "execution_count": 55,
     "metadata": {},
     "output_type": "execute_result"
    }
   ],
   "source": [
    "#Merge with senate_county_candidate on county.\n",
    "new_merge_1 = pd.merge(senate_GOP_vote_ratio, Income_per_capita, on='county', how='inner')\n",
    "new_merge_1"
   ]
  },
  {
   "cell_type": "code",
   "execution_count": 56,
   "id": "1f00adea",
   "metadata": {},
   "outputs": [
    {
     "data": {
      "text/html": [
       "<div>\n",
       "<style scoped>\n",
       "    .dataframe tbody tr th:only-of-type {\n",
       "        vertical-align: middle;\n",
       "    }\n",
       "\n",
       "    .dataframe tbody tr th {\n",
       "        vertical-align: top;\n",
       "    }\n",
       "\n",
       "    .dataframe thead th {\n",
       "        text-align: right;\n",
       "    }\n",
       "</style>\n",
       "<table border=\"1\" class=\"dataframe\">\n",
       "  <thead>\n",
       "    <tr style=\"text-align: right;\">\n",
       "      <th></th>\n",
       "      <th>county</th>\n",
       "      <th>president_GOP_vote_share</th>\n",
       "      <th>GOP_vote_ratio</th>\n",
       "      <th>Rank</th>\n",
       "      <th>State, federal district or territory</th>\n",
       "      <th>Per capitaincome</th>\n",
       "      <th>Medianhouseholdincome</th>\n",
       "      <th>Medianfamilyincome</th>\n",
       "      <th>Population</th>\n",
       "      <th>Number ofhouseholds</th>\n",
       "    </tr>\n",
       "  </thead>\n",
       "  <tbody>\n",
       "    <tr>\n",
       "      <th>0</th>\n",
       "      <td>Adams</td>\n",
       "      <td>0.321549</td>\n",
       "      <td>0.959717</td>\n",
       "      <td>248</td>\n",
       "      <td>North Dakota</td>\n",
       "      <td>$31,502</td>\n",
       "      <td>$47,798</td>\n",
       "      <td>$65,859</td>\n",
       "      <td>2328.0</td>\n",
       "      <td>1101.0</td>\n",
       "    </tr>\n",
       "    <tr>\n",
       "      <th>1</th>\n",
       "      <td>Adams</td>\n",
       "      <td>0.321549</td>\n",
       "      <td>0.959717</td>\n",
       "      <td>600</td>\n",
       "      <td>Pennsylvania</td>\n",
       "      <td>$27,284</td>\n",
       "      <td>$59,492</td>\n",
       "      <td>$69,551</td>\n",
       "      <td>101496.0</td>\n",
       "      <td>38141.0</td>\n",
       "    </tr>\n",
       "    <tr>\n",
       "      <th>2</th>\n",
       "      <td>Adams</td>\n",
       "      <td>0.321549</td>\n",
       "      <td>0.959717</td>\n",
       "      <td>929</td>\n",
       "      <td>Nebraska</td>\n",
       "      <td>$25,571</td>\n",
       "      <td>$49,440</td>\n",
       "      <td>$65,286</td>\n",
       "      <td>31367.0</td>\n",
       "      <td>12578.0</td>\n",
       "    </tr>\n",
       "    <tr>\n",
       "      <th>3</th>\n",
       "      <td>Adams</td>\n",
       "      <td>0.321549</td>\n",
       "      <td>0.959717</td>\n",
       "      <td>1229</td>\n",
       "      <td>Illinois</td>\n",
       "      <td>$24,217</td>\n",
       "      <td>$45,073</td>\n",
       "      <td>$58,992</td>\n",
       "      <td>67152.0</td>\n",
       "      <td>26912.0</td>\n",
       "    </tr>\n",
       "    <tr>\n",
       "      <th>4</th>\n",
       "      <td>Adams</td>\n",
       "      <td>0.321549</td>\n",
       "      <td>0.959717</td>\n",
       "      <td>1233</td>\n",
       "      <td>Colorado</td>\n",
       "      <td>$24,195</td>\n",
       "      <td>$56,270</td>\n",
       "      <td>$64,611</td>\n",
       "      <td>452030.0</td>\n",
       "      <td>152803.0</td>\n",
       "    </tr>\n",
       "    <tr>\n",
       "      <th>...</th>\n",
       "      <td>...</td>\n",
       "      <td>...</td>\n",
       "      <td>...</td>\n",
       "      <td>...</td>\n",
       "      <td>...</td>\n",
       "      <td>...</td>\n",
       "      <td>...</td>\n",
       "      <td>...</td>\n",
       "      <td>...</td>\n",
       "      <td>...</td>\n",
       "    </tr>\n",
       "    <tr>\n",
       "      <th>402</th>\n",
       "      <td>York</td>\n",
       "      <td>0.347070</td>\n",
       "      <td>0.914235</td>\n",
       "      <td>95</td>\n",
       "      <td>Virginia</td>\n",
       "      <td>$36,373</td>\n",
       "      <td>$82,073</td>\n",
       "      <td>$95,392</td>\n",
       "      <td>65762.0</td>\n",
       "      <td>24071.0</td>\n",
       "    </tr>\n",
       "    <tr>\n",
       "      <th>403</th>\n",
       "      <td>York</td>\n",
       "      <td>0.347070</td>\n",
       "      <td>0.914235</td>\n",
       "      <td>390</td>\n",
       "      <td>Maine</td>\n",
       "      <td>$29,125</td>\n",
       "      <td>$57,348</td>\n",
       "      <td>$70,642</td>\n",
       "      <td>198220.0</td>\n",
       "      <td>81293.0</td>\n",
       "    </tr>\n",
       "    <tr>\n",
       "      <th>404</th>\n",
       "      <td>York</td>\n",
       "      <td>0.347070</td>\n",
       "      <td>0.914235</td>\n",
       "      <td>470</td>\n",
       "      <td>Nebraska</td>\n",
       "      <td>$28,207</td>\n",
       "      <td>$49,633</td>\n",
       "      <td>$63,940</td>\n",
       "      <td>13762.0</td>\n",
       "      <td>5501.0</td>\n",
       "    </tr>\n",
       "    <tr>\n",
       "      <th>405</th>\n",
       "      <td>York</td>\n",
       "      <td>0.347070</td>\n",
       "      <td>0.914235</td>\n",
       "      <td>480</td>\n",
       "      <td>Pennsylvania</td>\n",
       "      <td>$28,132</td>\n",
       "      <td>$58,745</td>\n",
       "      <td>$70,001</td>\n",
       "      <td>436339.0</td>\n",
       "      <td>167592.0</td>\n",
       "    </tr>\n",
       "    <tr>\n",
       "      <th>406</th>\n",
       "      <td>York</td>\n",
       "      <td>0.347070</td>\n",
       "      <td>0.914235</td>\n",
       "      <td>733</td>\n",
       "      <td>South Carolina</td>\n",
       "      <td>$26,553</td>\n",
       "      <td>$53,740</td>\n",
       "      <td>$66,256</td>\n",
       "      <td>230934.0</td>\n",
       "      <td>86483.0</td>\n",
       "    </tr>\n",
       "  </tbody>\n",
       "</table>\n",
       "<p>407 rows × 10 columns</p>\n",
       "</div>"
      ],
      "text/plain": [
       "    county  president_GOP_vote_share  GOP_vote_ratio  Rank  \\\n",
       "0    Adams                  0.321549        0.959717   248   \n",
       "1    Adams                  0.321549        0.959717   600   \n",
       "2    Adams                  0.321549        0.959717   929   \n",
       "3    Adams                  0.321549        0.959717  1229   \n",
       "4    Adams                  0.321549        0.959717  1233   \n",
       "..     ...                       ...             ...   ...   \n",
       "402   York                  0.347070        0.914235    95   \n",
       "403   York                  0.347070        0.914235   390   \n",
       "404   York                  0.347070        0.914235   470   \n",
       "405   York                  0.347070        0.914235   480   \n",
       "406   York                  0.347070        0.914235   733   \n",
       "\n",
       "    State, federal district or territory Per capitaincome  \\\n",
       "0                           North Dakota          $31,502   \n",
       "1                           Pennsylvania          $27,284   \n",
       "2                               Nebraska          $25,571   \n",
       "3                               Illinois          $24,217   \n",
       "4                               Colorado          $24,195   \n",
       "..                                   ...              ...   \n",
       "402                             Virginia          $36,373   \n",
       "403                                Maine          $29,125   \n",
       "404                             Nebraska          $28,207   \n",
       "405                         Pennsylvania          $28,132   \n",
       "406                       South Carolina          $26,553   \n",
       "\n",
       "    Medianhouseholdincome Medianfamilyincome  Population  Number ofhouseholds  \n",
       "0                 $47,798            $65,859      2328.0               1101.0  \n",
       "1                 $59,492            $69,551    101496.0              38141.0  \n",
       "2                 $49,440            $65,286     31367.0              12578.0  \n",
       "3                 $45,073            $58,992     67152.0              26912.0  \n",
       "4                 $56,270            $64,611    452030.0             152803.0  \n",
       "..                    ...                ...         ...                  ...  \n",
       "402               $82,073            $95,392     65762.0              24071.0  \n",
       "403               $57,348            $70,642    198220.0              81293.0  \n",
       "404               $49,633            $63,940     13762.0               5501.0  \n",
       "405               $58,745            $70,001    436339.0             167592.0  \n",
       "406               $53,740            $66,256    230934.0              86483.0  \n",
       "\n",
       "[407 rows x 10 columns]"
      ]
     },
     "execution_count": 56,
     "metadata": {},
     "output_type": "execute_result"
    }
   ],
   "source": [
    "#Merge with presidential vote share on county.\n",
    "new_merge_2 = pd.merge(president_GOP_votes_county_ratio, new_merge_1, on='county')\n",
    "new_merge_2"
   ]
  },
  {
   "cell_type": "code",
   "execution_count": 57,
   "id": "de77f6f5",
   "metadata": {},
   "outputs": [
    {
     "data": {
      "text/plain": [
       "0      31502.0\n",
       "1      27284.0\n",
       "2      25571.0\n",
       "3      24217.0\n",
       "4      24195.0\n",
       "        ...   \n",
       "402    36373.0\n",
       "403    29125.0\n",
       "404    28207.0\n",
       "405    28132.0\n",
       "406    26553.0\n",
       "Name: Per capitaincome, Length: 407, dtype: float64"
      ]
     },
     "execution_count": 57,
     "metadata": {},
     "output_type": "execute_result"
    }
   ],
   "source": [
    "new_merge_2['Per capitaincome'] = new_merge_2['Per capitaincome'].astype(str).str.replace(',', '').str.replace('$', '', regex=False).astype(float)\n",
    "new_merge_2['Per capitaincome']"
   ]
  },
  {
   "cell_type": "code",
   "execution_count": 139,
   "id": "c6e02ab9",
   "metadata": {
    "scrolled": true
   },
   "outputs": [
    {
     "data": {
      "text/html": [
       "<div>\n",
       "<style scoped>\n",
       "    .dataframe tbody tr th:only-of-type {\n",
       "        vertical-align: middle;\n",
       "    }\n",
       "\n",
       "    .dataframe tbody tr th {\n",
       "        vertical-align: top;\n",
       "    }\n",
       "\n",
       "    .dataframe thead th {\n",
       "        text-align: right;\n",
       "    }\n",
       "</style>\n",
       "<table border=\"1\" class=\"dataframe\">\n",
       "  <thead>\n",
       "    <tr style=\"text-align: right;\">\n",
       "      <th></th>\n",
       "      <th>county</th>\n",
       "      <th>president_GOP_vote_share</th>\n",
       "      <th>GOP_vote_ratio</th>\n",
       "      <th>Rank</th>\n",
       "      <th>State, federal district or territory</th>\n",
       "      <th>Per capitaincome</th>\n",
       "      <th>Medianhouseholdincome</th>\n",
       "      <th>Medianfamilyincome</th>\n",
       "      <th>Population</th>\n",
       "      <th>Number ofhouseholds</th>\n",
       "    </tr>\n",
       "  </thead>\n",
       "  <tbody>\n",
       "    <tr>\n",
       "      <th>0</th>\n",
       "      <td>Adams</td>\n",
       "      <td>0.321549</td>\n",
       "      <td>0.959717</td>\n",
       "      <td>248</td>\n",
       "      <td>North Dakota</td>\n",
       "      <td>31502.0</td>\n",
       "      <td>$47,798</td>\n",
       "      <td>$65,859</td>\n",
       "      <td>2328.0</td>\n",
       "      <td>1101.0</td>\n",
       "    </tr>\n",
       "    <tr>\n",
       "      <th>12</th>\n",
       "      <td>Albany</td>\n",
       "      <td>0.429727</td>\n",
       "      <td>0.942197</td>\n",
       "      <td>210</td>\n",
       "      <td>New York</td>\n",
       "      <td>32328.0</td>\n",
       "      <td>$59,394</td>\n",
       "      <td>$81,846</td>\n",
       "      <td>305279.0</td>\n",
       "      <td>122700.0</td>\n",
       "    </tr>\n",
       "    <tr>\n",
       "      <th>16</th>\n",
       "      <td>Arlington</td>\n",
       "      <td>0.162871</td>\n",
       "      <td>0.973079</td>\n",
       "      <td>2</td>\n",
       "      <td>Virginia</td>\n",
       "      <td>62018.0</td>\n",
       "      <td>$103,208</td>\n",
       "      <td>$139,244</td>\n",
       "      <td>214861.0</td>\n",
       "      <td>94454.0</td>\n",
       "    </tr>\n",
       "    <tr>\n",
       "      <th>19</th>\n",
       "      <td>Barnstable</td>\n",
       "      <td>0.402294</td>\n",
       "      <td>0.986998</td>\n",
       "      <td>102</td>\n",
       "      <td>Massachusetts</td>\n",
       "      <td>36142.0</td>\n",
       "      <td>$60,526</td>\n",
       "      <td>$76,311</td>\n",
       "      <td>215449.0</td>\n",
       "      <td>95398.0</td>\n",
       "    </tr>\n",
       "    <tr>\n",
       "      <th>29</th>\n",
       "      <td>Bristol</td>\n",
       "      <td>0.438653</td>\n",
       "      <td>0.798210</td>\n",
       "      <td>52</td>\n",
       "      <td>Rhode Island</td>\n",
       "      <td>38893.0</td>\n",
       "      <td>$71,238</td>\n",
       "      <td>$93,131</td>\n",
       "      <td>49426.0</td>\n",
       "      <td>19174.0</td>\n",
       "    </tr>\n",
       "  </tbody>\n",
       "</table>\n",
       "</div>"
      ],
      "text/plain": [
       "        county  president_GOP_vote_share  GOP_vote_ratio Rank  \\\n",
       "0        Adams                  0.321549        0.959717  248   \n",
       "12      Albany                  0.429727        0.942197  210   \n",
       "16   Arlington                  0.162871        0.973079    2   \n",
       "19  Barnstable                  0.402294        0.986998  102   \n",
       "29     Bristol                  0.438653        0.798210   52   \n",
       "\n",
       "   State, federal district or territory  Per capitaincome  \\\n",
       "0                          North Dakota           31502.0   \n",
       "12                             New York           32328.0   \n",
       "16                             Virginia           62018.0   \n",
       "19                        Massachusetts           36142.0   \n",
       "29                         Rhode Island           38893.0   \n",
       "\n",
       "   Medianhouseholdincome Medianfamilyincome  Population  Number ofhouseholds  \n",
       "0                $47,798            $65,859      2328.0               1101.0  \n",
       "12               $59,394            $81,846    305279.0             122700.0  \n",
       "16              $103,208           $139,244    214861.0              94454.0  \n",
       "19               $60,526            $76,311    215449.0              95398.0  \n",
       "29               $71,238            $93,131     49426.0              19174.0  "
      ]
     },
     "execution_count": 139,
     "metadata": {},
     "output_type": "execute_result"
    }
   ],
   "source": [
    "#Merging the per capita income, presidential vote share and senate vote share of rich counties into one table.\n",
    "rich_counties = new_merge_2.loc[new_merge_2['Per capitaincome'] > 31000]\n",
    "rich_counties.head()"
   ]
  },
  {
   "cell_type": "code",
   "execution_count": 140,
   "id": "65a297ee",
   "metadata": {
    "scrolled": true
   },
   "outputs": [
    {
     "data": {
      "text/html": [
       "<div>\n",
       "<style scoped>\n",
       "    .dataframe tbody tr th:only-of-type {\n",
       "        vertical-align: middle;\n",
       "    }\n",
       "\n",
       "    .dataframe tbody tr th {\n",
       "        vertical-align: top;\n",
       "    }\n",
       "\n",
       "    .dataframe thead th {\n",
       "        text-align: right;\n",
       "    }\n",
       "</style>\n",
       "<table border=\"1\" class=\"dataframe\">\n",
       "  <thead>\n",
       "    <tr style=\"text-align: right;\">\n",
       "      <th></th>\n",
       "      <th>county</th>\n",
       "      <th>president_GOP_vote_share</th>\n",
       "      <th>GOP_vote_ratio</th>\n",
       "      <th>Rank</th>\n",
       "      <th>State, federal district or territory</th>\n",
       "      <th>Per capitaincome</th>\n",
       "      <th>Medianhouseholdincome</th>\n",
       "      <th>Medianfamilyincome</th>\n",
       "      <th>Population</th>\n",
       "      <th>Number ofhouseholds</th>\n",
       "    </tr>\n",
       "  </thead>\n",
       "  <tbody>\n",
       "    <tr>\n",
       "      <th>1</th>\n",
       "      <td>Adams</td>\n",
       "      <td>0.321549</td>\n",
       "      <td>0.959717</td>\n",
       "      <td>600</td>\n",
       "      <td>Pennsylvania</td>\n",
       "      <td>27284.0</td>\n",
       "      <td>$59,492</td>\n",
       "      <td>$69,551</td>\n",
       "      <td>101496.0</td>\n",
       "      <td>38141.0</td>\n",
       "    </tr>\n",
       "    <tr>\n",
       "      <th>2</th>\n",
       "      <td>Adams</td>\n",
       "      <td>0.321549</td>\n",
       "      <td>0.959717</td>\n",
       "      <td>929</td>\n",
       "      <td>Nebraska</td>\n",
       "      <td>25571.0</td>\n",
       "      <td>$49,440</td>\n",
       "      <td>$65,286</td>\n",
       "      <td>31367.0</td>\n",
       "      <td>12578.0</td>\n",
       "    </tr>\n",
       "    <tr>\n",
       "      <th>3</th>\n",
       "      <td>Adams</td>\n",
       "      <td>0.321549</td>\n",
       "      <td>0.959717</td>\n",
       "      <td>1229</td>\n",
       "      <td>Illinois</td>\n",
       "      <td>24217.0</td>\n",
       "      <td>$45,073</td>\n",
       "      <td>$58,992</td>\n",
       "      <td>67152.0</td>\n",
       "      <td>26912.0</td>\n",
       "    </tr>\n",
       "    <tr>\n",
       "      <th>4</th>\n",
       "      <td>Adams</td>\n",
       "      <td>0.321549</td>\n",
       "      <td>0.959717</td>\n",
       "      <td>1233</td>\n",
       "      <td>Colorado</td>\n",
       "      <td>24195.0</td>\n",
       "      <td>$56,270</td>\n",
       "      <td>$64,611</td>\n",
       "      <td>452030.0</td>\n",
       "      <td>152803.0</td>\n",
       "    </tr>\n",
       "    <tr>\n",
       "      <th>5</th>\n",
       "      <td>Adams</td>\n",
       "      <td>0.321549</td>\n",
       "      <td>0.959717</td>\n",
       "      <td>1359</td>\n",
       "      <td>Iowa</td>\n",
       "      <td>23707.0</td>\n",
       "      <td>$45,871</td>\n",
       "      <td>$56,552</td>\n",
       "      <td>3973.0</td>\n",
       "      <td>1745.0</td>\n",
       "    </tr>\n",
       "  </tbody>\n",
       "</table>\n",
       "</div>"
      ],
      "text/plain": [
       "  county  president_GOP_vote_share  GOP_vote_ratio  Rank  \\\n",
       "1  Adams                  0.321549        0.959717   600   \n",
       "2  Adams                  0.321549        0.959717   929   \n",
       "3  Adams                  0.321549        0.959717  1229   \n",
       "4  Adams                  0.321549        0.959717  1233   \n",
       "5  Adams                  0.321549        0.959717  1359   \n",
       "\n",
       "  State, federal district or territory  Per capitaincome  \\\n",
       "1                         Pennsylvania           27284.0   \n",
       "2                             Nebraska           25571.0   \n",
       "3                             Illinois           24217.0   \n",
       "4                             Colorado           24195.0   \n",
       "5                                 Iowa           23707.0   \n",
       "\n",
       "  Medianhouseholdincome Medianfamilyincome  Population  Number ofhouseholds  \n",
       "1               $59,492            $69,551    101496.0              38141.0  \n",
       "2               $49,440            $65,286     31367.0              12578.0  \n",
       "3               $45,073            $58,992     67152.0              26912.0  \n",
       "4               $56,270            $64,611    452030.0             152803.0  \n",
       "5               $45,871            $56,552      3973.0               1745.0  "
      ]
     },
     "execution_count": 140,
     "metadata": {},
     "output_type": "execute_result"
    }
   ],
   "source": [
    "#Merging the per capita income, presidential vote share and senate vote share of poor counties into one table.\n",
    "\n",
    "poor_counties = new_merge_2.loc[new_merge_2['Per capitaincome'] <= 31000]\n",
    "poor_counties.head()"
   ]
  },
  {
   "cell_type": "markdown",
   "id": "0284e472",
   "metadata": {},
   "source": [
    "## Visualizing the Scraped Dataset"
   ]
  },
  {
   "cell_type": "code",
   "execution_count": 141,
   "id": "86f97407",
   "metadata": {},
   "outputs": [
    {
     "data": {
      "image/png": "[encoded data removed]",
      "text/plain": [
       "<Figure size 640x480 with 1 Axes>"
      ]
     },
     "metadata": {},
     "output_type": "display_data"
    }
   ],
   "source": [
    "#Draw the scatter plot of democrats support and democratic president support over poor counties\n",
    "rich_counties = rich_counties[['GOP_vote_ratio', 'president_GOP_vote_share']].copy()\n",
    "rich_counties['color'] = np.where(rich_counties['GOP_vote_ratio'] >= rich_counties['president_GOP_vote_share'], \\\n",
    "                                'red', 'pink')\n",
    "\n",
    "ax = rich_counties.plot(x='GOP_vote_ratio', y='president_GOP_vote_share', kind='scatter', c = rich_counties['color'])\n",
    "ax.set_xlabel('Senaet GOP vote share')\n",
    "ax.set_ylabel('President GOP vote share')\n",
    "plt.title('Trump and Senate Repiblicans vote share in rich counties')\n",
    "\n",
    "# Add the line y = x to help us infer the result illustrated in the following.\n",
    "x = np.linspace(*ax.get_xlim(), num=100)\n",
    "ax.plot(x, x, color='red', linestyle='--', label='y=x')\n",
    "\n",
    "plt.legend()\n",
    "plt.show()"
   ]
  },
  {
   "cell_type": "code",
   "execution_count": 142,
   "id": "c22cf6f5",
   "metadata": {},
   "outputs": [
    {
     "data": {
      "image/png": "[encoded data removed]",
      "text/plain": [
       "<Figure size 640x480 with 1 Axes>"
      ]
     },
     "metadata": {},
     "output_type": "display_data"
    }
   ],
   "source": [
    "#Draw the scatter plot of democrats support and democratic president support over poor counties\n",
    "poor_counties = poor_counties[['GOP_vote_ratio', 'president_GOP_vote_share']].copy()\n",
    "poor_counties['color'] = np.where(poor_counties['GOP_vote_ratio'] >= poor_counties['president_GOP_vote_share'], \\\n",
    "                                'red', 'pink')\n",
    "\n",
    "ax = poor_counties.plot(x='GOP_vote_ratio', y='president_GOP_vote_share', kind='scatter', c = poor_counties['color'])\n",
    "ax.set_xlabel('Senaet_GOP_vote_share')\n",
    "ax.set_ylabel('president_GOP_vote_share')\n",
    "plt.title('Trump and Senate Repiblicans vote share in poor counties')\n",
    "\n",
    "# Add the line y = x to help us infer the result illustrated in the following.\n",
    "x = np.linspace(*ax.get_xlim(), num=100)\n",
    "ax.plot(x, x, color='red', linestyle='--', label='y=x')\n",
    "\n",
    "plt.legend()\n",
    "plt.show()"
   ]
  },
  {
   "cell_type": "markdown",
   "id": "e799c221",
   "metadata": {},
   "source": [
    "The first scatter plot exhibits all counties with above-average per capita income, where points located above the y=x line indicate counties in which Trump received a higher percentage of votes than Senate Republicans, and vice versa. The outcomes reveal that, in rich counties,Trump's performance was worse than that of other Republican Senate candidates. Moreover, the subsequent scatter plot includes all counties with below-average per capita income, where points positioned above the y=x line represent counties in which Trump's vote share exceeded that of Senate Republicans. The findings suggest that Trump's performance was less favourable than Senate Republicans in poor counties. So Trump dragged down the Republicans both in rich and poor counties, but he imposed more negative impact among low-income voters for the Republicans.\n",
    "\n",
    "One possible economic explanation for this phenomenon is that Trump's campaign focused more on issues that resonated with low-income voters, such as protectionist trade policies and anti-immigration measures. These issues may have been particularly salient in areas that have experienced significant economic dislocation, such as areas that have seen job losses due to outsourcing or automation.\n",
    "\n",
    "In contrast, in wealthier counties, voters may have been more focused on other issues, such as tax policy and national security. Trump's unconventional campaign style, controversial statements, and unpredictable behavior may have alienated some of these voters, leading them to vote for other Republican candidates instead.\n",
    "\n",
    "Overall, these findings suggest that Trump's candidacy had a mixed impact on the Republican Party. While he was able to mobilize support among some low-income voters, his divisive rhetoric and unconventional campaign style may have cost the party support among more affluent voters."
   ]
  },
  {
   "cell_type": "markdown",
   "id": "e95406e4",
   "metadata": {},
   "source": [
    "## Adding a New Dataset"
   ]
  },
  {
   "cell_type": "markdown",
   "id": "ccafefd9",
   "metadata": {},
   "source": [
    "This part aims to analyze whether the hypothesis that Donald Trump dragged down the Republicans because he is less popular among christian voters is true. So we introduced the data of weekly church attendence of US states from Wikipedia to find out. The states are divided into two groups - more Christian and less Christian - based on their weekly church attendance rates. The purpose of this is to compare the popularity of Senate Republicans and Donald Trump and determine if Trump had a negative impact on the Republican Party's performance among Christian voters in the 2020 presidential election."
   ]
  },
  {
   "cell_type": "code",
   "execution_count": 143,
   "id": "f77bbed3",
   "metadata": {},
   "outputs": [
    {
     "data": {
      "text/html": [
       "<div>\n",
       "<style scoped>\n",
       "    .dataframe tbody tr th:only-of-type {\n",
       "        vertical-align: middle;\n",
       "    }\n",
       "\n",
       "    .dataframe tbody tr th {\n",
       "        vertical-align: top;\n",
       "    }\n",
       "\n",
       "    .dataframe thead th {\n",
       "        text-align: right;\n",
       "    }\n",
       "</style>\n",
       "<table border=\"1\" class=\"dataframe\">\n",
       "  <thead>\n",
       "    <tr style=\"text-align: right;\">\n",
       "      <th></th>\n",
       "      <th>Rank</th>\n",
       "      <th>state</th>\n",
       "      <th>Percent</th>\n",
       "    </tr>\n",
       "  </thead>\n",
       "  <tbody>\n",
       "    <tr>\n",
       "      <th>0</th>\n",
       "      <td>1</td>\n",
       "      <td>Utah</td>\n",
       "      <td>51%</td>\n",
       "    </tr>\n",
       "    <tr>\n",
       "      <th>1</th>\n",
       "      <td>2</td>\n",
       "      <td>Mississippi</td>\n",
       "      <td>47%</td>\n",
       "    </tr>\n",
       "    <tr>\n",
       "      <th>2</th>\n",
       "      <td>3</td>\n",
       "      <td>Alabama</td>\n",
       "      <td>46%</td>\n",
       "    </tr>\n",
       "    <tr>\n",
       "      <th>3</th>\n",
       "      <td>4</td>\n",
       "      <td>Louisiana</td>\n",
       "      <td>46%</td>\n",
       "    </tr>\n",
       "    <tr>\n",
       "      <th>4</th>\n",
       "      <td>5</td>\n",
       "      <td>Arkansas</td>\n",
       "      <td>45%</td>\n",
       "    </tr>\n",
       "  </tbody>\n",
       "</table>\n",
       "</div>"
      ],
      "text/plain": [
       "   Rank        state Percent\n",
       "0     1         Utah     51%\n",
       "1     2  Mississippi     47%\n",
       "2     3      Alabama     46%\n",
       "3     4    Louisiana     46%\n",
       "4     5     Arkansas     45%"
      ]
     },
     "execution_count": 143,
     "metadata": {},
     "output_type": "execute_result"
    }
   ],
   "source": [
    "#Web scraping the data of US church attendence from wiki\n",
    "\n",
    "url = \"https://en.wikipedia.org/wiki/List_of_U.S._states_and_territories_by_religiosity#U.S._states_and_Washington,_D.C\"\n",
    "\n",
    "html = requests.get(url).content\n",
    "soup = BeautifulSoup(html)\n",
    "\n",
    "table = soup.find_all(\"table\")[4] \n",
    "church_attendence_before = pd.read_html(str(table))[0] # convert the table to a pandas dataframe\n",
    "church_attendence_before = church_attendence_before.rename(columns={'State':'state'})\n",
    "church_attendence_before.head()"
   ]
  },
  {
   "cell_type": "code",
   "execution_count": 144,
   "id": "7001a2d3",
   "metadata": {},
   "outputs": [
    {
     "data": {
      "text/html": [
       "<div>\n",
       "<style scoped>\n",
       "    .dataframe tbody tr th:only-of-type {\n",
       "        vertical-align: middle;\n",
       "    }\n",
       "\n",
       "    .dataframe tbody tr th {\n",
       "        vertical-align: top;\n",
       "    }\n",
       "\n",
       "    .dataframe thead th {\n",
       "        text-align: right;\n",
       "    }\n",
       "</style>\n",
       "<table border=\"1\" class=\"dataframe\">\n",
       "  <thead>\n",
       "    <tr style=\"text-align: right;\">\n",
       "      <th></th>\n",
       "      <th>Rank</th>\n",
       "      <th>state</th>\n",
       "      <th>Percent</th>\n",
       "    </tr>\n",
       "  </thead>\n",
       "  <tbody>\n",
       "    <tr>\n",
       "      <th>0</th>\n",
       "      <td>1</td>\n",
       "      <td>Utah</td>\n",
       "      <td>51%</td>\n",
       "    </tr>\n",
       "    <tr>\n",
       "      <th>1</th>\n",
       "      <td>2</td>\n",
       "      <td>Miss</td>\n",
       "      <td>47%</td>\n",
       "    </tr>\n",
       "    <tr>\n",
       "      <th>2</th>\n",
       "      <td>3</td>\n",
       "      <td>Alab</td>\n",
       "      <td>46%</td>\n",
       "    </tr>\n",
       "    <tr>\n",
       "      <th>3</th>\n",
       "      <td>4</td>\n",
       "      <td>Loui</td>\n",
       "      <td>46%</td>\n",
       "    </tr>\n",
       "    <tr>\n",
       "      <th>4</th>\n",
       "      <td>5</td>\n",
       "      <td>Arka</td>\n",
       "      <td>45%</td>\n",
       "    </tr>\n",
       "  </tbody>\n",
       "</table>\n",
       "</div>"
      ],
      "text/plain": [
       "   Rank state Percent\n",
       "0     1  Utah     51%\n",
       "1     2  Miss     47%\n",
       "2     3  Alab     46%\n",
       "3     4  Loui     46%\n",
       "4     5  Arka     45%"
      ]
     },
     "execution_count": 144,
     "metadata": {},
     "output_type": "execute_result"
    }
   ],
   "source": [
    "#Slice two table so that they can be merged by common column state\n",
    "house_GOP_state_ratio_slice= house_GOP_state_ratio\n",
    "house_GOP_state_ratio_slice = house_GOP_state_ratio_slice.reset_index()\n",
    "house_GOP_state_ratio_slice['state'] = house_GOP_state_ratio_slice['state'].str.slice(stop=4)\n",
    "house_GOP_state_ratio_slice.head()\n",
    "\n",
    "church_attendence_slice = church_attendence_before\n",
    "church_attendence_slice['state'] = church_attendence_slice['state'].str.slice(stop=4)\n",
    "church_attendence_slice.head()"
   ]
  },
  {
   "cell_type": "code",
   "execution_count": 145,
   "id": "400b00d3",
   "metadata": {
    "scrolled": true
   },
   "outputs": [
    {
     "data": {
      "text/html": [
       "<div>\n",
       "<style scoped>\n",
       "    .dataframe tbody tr th:only-of-type {\n",
       "        vertical-align: middle;\n",
       "    }\n",
       "\n",
       "    .dataframe tbody tr th {\n",
       "        vertical-align: top;\n",
       "    }\n",
       "\n",
       "    .dataframe thead th {\n",
       "        text-align: right;\n",
       "    }\n",
       "</style>\n",
       "<table border=\"1\" class=\"dataframe\">\n",
       "  <thead>\n",
       "    <tr style=\"text-align: right;\">\n",
       "      <th></th>\n",
       "      <th>state</th>\n",
       "      <th>Republican_Votes_Share</th>\n",
       "      <th>GOP_vote_ratio</th>\n",
       "      <th>Rank</th>\n",
       "      <th>Percent</th>\n",
       "    </tr>\n",
       "  </thead>\n",
       "  <tbody>\n",
       "    <tr>\n",
       "      <th>0</th>\n",
       "      <td>Alab</td>\n",
       "      <td>0.696442</td>\n",
       "      <td>0.620310</td>\n",
       "      <td>3</td>\n",
       "      <td>46%</td>\n",
       "    </tr>\n",
       "    <tr>\n",
       "      <th>1</th>\n",
       "      <td>Alas</td>\n",
       "      <td>0.544012</td>\n",
       "      <td>0.485228</td>\n",
       "      <td>41</td>\n",
       "      <td>26%</td>\n",
       "    </tr>\n",
       "    <tr>\n",
       "      <th>2</th>\n",
       "      <td>Ariz</td>\n",
       "      <td>0.501344</td>\n",
       "      <td>0.490560</td>\n",
       "      <td>21</td>\n",
       "      <td>33%</td>\n",
       "    </tr>\n",
       "    <tr>\n",
       "      <th>3</th>\n",
       "      <td>Arka</td>\n",
       "      <td>0.702280</td>\n",
       "      <td>0.623957</td>\n",
       "      <td>5</td>\n",
       "      <td>45%</td>\n",
       "    </tr>\n",
       "    <tr>\n",
       "      <th>4</th>\n",
       "      <td>Cali</td>\n",
       "      <td>0.337254</td>\n",
       "      <td>0.343278</td>\n",
       "      <td>37</td>\n",
       "      <td>28%</td>\n",
       "    </tr>\n",
       "  </tbody>\n",
       "</table>\n",
       "</div>"
      ],
      "text/plain": [
       "  state  Republican_Votes_Share  GOP_vote_ratio  Rank Percent\n",
       "0  Alab                0.696442        0.620310     3     46%\n",
       "1  Alas                0.544012        0.485228    41     26%\n",
       "2  Ariz                0.501344        0.490560    21     33%\n",
       "3  Arka                0.702280        0.623957     5     45%\n",
       "4  Cali                0.337254        0.343278    37     28%"
      ]
     },
     "execution_count": 145,
     "metadata": {},
     "output_type": "execute_result"
    }
   ],
   "source": [
    "christian_merge = pd.merge(merged_president_house, church_attendence_slice, on='state')\n",
    "christian_merge.head()"
   ]
  },
  {
   "cell_type": "code",
   "execution_count": 146,
   "id": "dd37cd05",
   "metadata": {},
   "outputs": [
    {
     "name": "stdout",
     "output_type": "stream",
     "text": [
      "object\n"
     ]
    },
    {
     "data": {
      "text/html": [
       "<div>\n",
       "<style scoped>\n",
       "    .dataframe tbody tr th:only-of-type {\n",
       "        vertical-align: middle;\n",
       "    }\n",
       "\n",
       "    .dataframe tbody tr th {\n",
       "        vertical-align: top;\n",
       "    }\n",
       "\n",
       "    .dataframe thead th {\n",
       "        text-align: right;\n",
       "    }\n",
       "</style>\n",
       "<table border=\"1\" class=\"dataframe\">\n",
       "  <thead>\n",
       "    <tr style=\"text-align: right;\">\n",
       "      <th></th>\n",
       "      <th>Rank</th>\n",
       "      <th>state</th>\n",
       "      <th>Percent</th>\n",
       "    </tr>\n",
       "  </thead>\n",
       "  <tbody>\n",
       "    <tr>\n",
       "      <th>0</th>\n",
       "      <td>1</td>\n",
       "      <td>Utah</td>\n",
       "      <td>51.0</td>\n",
       "    </tr>\n",
       "    <tr>\n",
       "      <th>1</th>\n",
       "      <td>2</td>\n",
       "      <td>Miss</td>\n",
       "      <td>47.0</td>\n",
       "    </tr>\n",
       "    <tr>\n",
       "      <th>2</th>\n",
       "      <td>3</td>\n",
       "      <td>Alab</td>\n",
       "      <td>46.0</td>\n",
       "    </tr>\n",
       "    <tr>\n",
       "      <th>3</th>\n",
       "      <td>4</td>\n",
       "      <td>Loui</td>\n",
       "      <td>46.0</td>\n",
       "    </tr>\n",
       "    <tr>\n",
       "      <th>4</th>\n",
       "      <td>5</td>\n",
       "      <td>Arka</td>\n",
       "      <td>45.0</td>\n",
       "    </tr>\n",
       "  </tbody>\n",
       "</table>\n",
       "</div>"
      ],
      "text/plain": [
       "   Rank state  Percent\n",
       "0     1  Utah     51.0\n",
       "1     2  Miss     47.0\n",
       "2     3  Alab     46.0\n",
       "3     4  Loui     46.0\n",
       "4     5  Arka     45.0"
      ]
     },
     "execution_count": 146,
     "metadata": {},
     "output_type": "execute_result"
    }
   ],
   "source": [
    "#We need to convert string percent into numeric so that we can filter \n",
    "# Check data type of 'Percent' column\n",
    "print(church_attendence_before['Percent'].dtype)\n",
    "\n",
    "# Convert non-string values to string and remove '%' symbol\n",
    "church_attendence = church_attendence_before.copy() # make a copy to avoid modifying the original dataframe\n",
    "church_attendence['Percent'] = church_attendence['Percent'].astype(str).str.replace('%', '').astype(float)\n",
    "church_attendence.head()"
   ]
  },
  {
   "cell_type": "code",
   "execution_count": 66,
   "id": "bf9dec2f",
   "metadata": {},
   "outputs": [
    {
     "data": {
      "text/html": [
       "<div>\n",
       "<style scoped>\n",
       "    .dataframe tbody tr th:only-of-type {\n",
       "        vertical-align: middle;\n",
       "    }\n",
       "\n",
       "    .dataframe tbody tr th {\n",
       "        vertical-align: top;\n",
       "    }\n",
       "\n",
       "    .dataframe thead th {\n",
       "        text-align: right;\n",
       "    }\n",
       "</style>\n",
       "<table border=\"1\" class=\"dataframe\">\n",
       "  <thead>\n",
       "    <tr style=\"text-align: right;\">\n",
       "      <th></th>\n",
       "      <th>Rank</th>\n",
       "      <th>state</th>\n",
       "      <th>Percent</th>\n",
       "    </tr>\n",
       "  </thead>\n",
       "  <tbody>\n",
       "    <tr>\n",
       "      <th>0</th>\n",
       "      <td>1</td>\n",
       "      <td>Utah</td>\n",
       "      <td>51.0</td>\n",
       "    </tr>\n",
       "    <tr>\n",
       "      <th>1</th>\n",
       "      <td>2</td>\n",
       "      <td>Miss</td>\n",
       "      <td>47.0</td>\n",
       "    </tr>\n",
       "    <tr>\n",
       "      <th>2</th>\n",
       "      <td>3</td>\n",
       "      <td>Alab</td>\n",
       "      <td>46.0</td>\n",
       "    </tr>\n",
       "    <tr>\n",
       "      <th>3</th>\n",
       "      <td>4</td>\n",
       "      <td>Loui</td>\n",
       "      <td>46.0</td>\n",
       "    </tr>\n",
       "    <tr>\n",
       "      <th>4</th>\n",
       "      <td>5</td>\n",
       "      <td>Arka</td>\n",
       "      <td>45.0</td>\n",
       "    </tr>\n",
       "  </tbody>\n",
       "</table>\n",
       "</div>"
      ],
      "text/plain": [
       "   Rank state  Percent\n",
       "0     1  Utah     51.0\n",
       "1     2  Miss     47.0\n",
       "2     3  Alab     46.0\n",
       "3     4  Loui     46.0\n",
       "4     5  Arka     45.0"
      ]
     },
     "execution_count": 66,
     "metadata": {},
     "output_type": "execute_result"
    }
   ],
   "source": [
    "#Slice two table so that they can be merged by common column state\n",
    "house_GOP_state_ratio_slice= house_GOP_state_ratio\n",
    "house_GOP_state_ratio_slice = house_GOP_state_ratio_slice.reset_index()\n",
    "house_GOP_state_ratio_slice['state'] = house_GOP_state_ratio_slice['state'].str.slice(stop=4)\n",
    "house_GOP_state_ratio_slice\n",
    "\n",
    "church_attendence_slice = church_attendence\n",
    "church_attendence_slice['state'] = church_attendence_slice['state'].str.slice(stop=4)\n",
    "church_attendence_slice.head()"
   ]
  },
  {
   "cell_type": "code",
   "execution_count": 67,
   "id": "7f9d8e5b",
   "metadata": {},
   "outputs": [
    {
     "data": {
      "text/html": [
       "<div>\n",
       "<style scoped>\n",
       "    .dataframe tbody tr th:only-of-type {\n",
       "        vertical-align: middle;\n",
       "    }\n",
       "\n",
       "    .dataframe tbody tr th {\n",
       "        vertical-align: top;\n",
       "    }\n",
       "\n",
       "    .dataframe thead th {\n",
       "        text-align: right;\n",
       "    }\n",
       "</style>\n",
       "<table border=\"1\" class=\"dataframe\">\n",
       "  <thead>\n",
       "    <tr style=\"text-align: right;\">\n",
       "      <th></th>\n",
       "      <th>state</th>\n",
       "      <th>Republican_Votes_Share</th>\n",
       "      <th>GOP_vote_ratio</th>\n",
       "      <th>Rank</th>\n",
       "      <th>Percent</th>\n",
       "    </tr>\n",
       "  </thead>\n",
       "  <tbody>\n",
       "    <tr>\n",
       "      <th>0</th>\n",
       "      <td>Alab</td>\n",
       "      <td>0.696442</td>\n",
       "      <td>0.620310</td>\n",
       "      <td>3</td>\n",
       "      <td>46.0</td>\n",
       "    </tr>\n",
       "    <tr>\n",
       "      <th>1</th>\n",
       "      <td>Alas</td>\n",
       "      <td>0.544012</td>\n",
       "      <td>0.485228</td>\n",
       "      <td>41</td>\n",
       "      <td>26.0</td>\n",
       "    </tr>\n",
       "    <tr>\n",
       "      <th>2</th>\n",
       "      <td>Ariz</td>\n",
       "      <td>0.501344</td>\n",
       "      <td>0.490560</td>\n",
       "      <td>21</td>\n",
       "      <td>33.0</td>\n",
       "    </tr>\n",
       "    <tr>\n",
       "      <th>3</th>\n",
       "      <td>Arka</td>\n",
       "      <td>0.702280</td>\n",
       "      <td>0.623957</td>\n",
       "      <td>5</td>\n",
       "      <td>45.0</td>\n",
       "    </tr>\n",
       "    <tr>\n",
       "      <th>4</th>\n",
       "      <td>Cali</td>\n",
       "      <td>0.337254</td>\n",
       "      <td>0.343278</td>\n",
       "      <td>37</td>\n",
       "      <td>28.0</td>\n",
       "    </tr>\n",
       "  </tbody>\n",
       "</table>\n",
       "</div>"
      ],
      "text/plain": [
       "  state  Republican_Votes_Share  GOP_vote_ratio  Rank  Percent\n",
       "0  Alab                0.696442        0.620310     3     46.0\n",
       "1  Alas                0.544012        0.485228    41     26.0\n",
       "2  Ariz                0.501344        0.490560    21     33.0\n",
       "3  Arka                0.702280        0.623957     5     45.0\n",
       "4  Cali                0.337254        0.343278    37     28.0"
      ]
     },
     "execution_count": 67,
     "metadata": {},
     "output_type": "execute_result"
    }
   ],
   "source": [
    "christian_merge = pd.merge(merged_president_house, church_attendence_slice, on='state')\n",
    "christian_merge.head()"
   ]
  },
  {
   "cell_type": "code",
   "execution_count": 68,
   "id": "d4d7f7da",
   "metadata": {},
   "outputs": [
    {
     "data": {
      "text/plain": [
       "32.0"
      ]
     },
     "execution_count": 68,
     "metadata": {},
     "output_type": "execute_result"
    }
   ],
   "source": [
    "church_attendence['Percent'].median()"
   ]
  },
  {
   "cell_type": "code",
   "execution_count": 69,
   "id": "693bdafe",
   "metadata": {},
   "outputs": [
    {
     "data": {
      "text/html": [
       "<div>\n",
       "<style scoped>\n",
       "    .dataframe tbody tr th:only-of-type {\n",
       "        vertical-align: middle;\n",
       "    }\n",
       "\n",
       "    .dataframe tbody tr th {\n",
       "        vertical-align: top;\n",
       "    }\n",
       "\n",
       "    .dataframe thead th {\n",
       "        text-align: right;\n",
       "    }\n",
       "</style>\n",
       "<table border=\"1\" class=\"dataframe\">\n",
       "  <thead>\n",
       "    <tr style=\"text-align: right;\">\n",
       "      <th></th>\n",
       "      <th>state</th>\n",
       "      <th>Republican_Votes_Share</th>\n",
       "      <th>GOP_vote_ratio</th>\n",
       "      <th>Rank</th>\n",
       "      <th>Percent</th>\n",
       "    </tr>\n",
       "  </thead>\n",
       "  <tbody>\n",
       "    <tr>\n",
       "      <th>0</th>\n",
       "      <td>Alab</td>\n",
       "      <td>0.696442</td>\n",
       "      <td>0.620310</td>\n",
       "      <td>3</td>\n",
       "      <td>46.0</td>\n",
       "    </tr>\n",
       "    <tr>\n",
       "      <th>3</th>\n",
       "      <td>Arka</td>\n",
       "      <td>0.702280</td>\n",
       "      <td>0.623957</td>\n",
       "      <td>5</td>\n",
       "      <td>45.0</td>\n",
       "    </tr>\n",
       "    <tr>\n",
       "      <th>7</th>\n",
       "      <td>Dela</td>\n",
       "      <td>0.402220</td>\n",
       "      <td>0.398014</td>\n",
       "      <td>17</td>\n",
       "      <td>35.0</td>\n",
       "    </tr>\n",
       "    <tr>\n",
       "      <th>9</th>\n",
       "      <td>Geor</td>\n",
       "      <td>0.509918</td>\n",
       "      <td>0.492596</td>\n",
       "      <td>10</td>\n",
       "      <td>39.0</td>\n",
       "    </tr>\n",
       "    <tr>\n",
       "      <th>13</th>\n",
       "      <td>Indi</td>\n",
       "      <td>0.580269</td>\n",
       "      <td>0.570306</td>\n",
       "      <td>15</td>\n",
       "      <td>35.0</td>\n",
       "    </tr>\n",
       "  </tbody>\n",
       "</table>\n",
       "</div>"
      ],
      "text/plain": [
       "   state  Republican_Votes_Share  GOP_vote_ratio  Rank  Percent\n",
       "0   Alab                0.696442        0.620310     3     46.0\n",
       "3   Arka                0.702280        0.623957     5     45.0\n",
       "7   Dela                0.402220        0.398014    17     35.0\n",
       "9   Geor                0.509918        0.492596    10     39.0\n",
       "13  Indi                0.580269        0.570306    15     35.0"
      ]
     },
     "execution_count": 69,
     "metadata": {},
     "output_type": "execute_result"
    }
   ],
   "source": [
    "more_christian_states = christian_merge.loc[christian_merge['Percent'] >= 35]\n",
    "more_christian_states.head()"
   ]
  },
  {
   "cell_type": "code",
   "execution_count": 70,
   "id": "a5b931fb",
   "metadata": {
    "scrolled": true
   },
   "outputs": [
    {
     "data": {
      "text/html": [
       "<div>\n",
       "<style scoped>\n",
       "    .dataframe tbody tr th:only-of-type {\n",
       "        vertical-align: middle;\n",
       "    }\n",
       "\n",
       "    .dataframe tbody tr th {\n",
       "        vertical-align: top;\n",
       "    }\n",
       "\n",
       "    .dataframe thead th {\n",
       "        text-align: right;\n",
       "    }\n",
       "</style>\n",
       "<table border=\"1\" class=\"dataframe\">\n",
       "  <thead>\n",
       "    <tr style=\"text-align: right;\">\n",
       "      <th></th>\n",
       "      <th>state</th>\n",
       "      <th>Republican_Votes_Share</th>\n",
       "      <th>GOP_vote_ratio</th>\n",
       "      <th>Rank</th>\n",
       "      <th>Percent</th>\n",
       "    </tr>\n",
       "  </thead>\n",
       "  <tbody>\n",
       "    <tr>\n",
       "      <th>1</th>\n",
       "      <td>Alas</td>\n",
       "      <td>0.544012</td>\n",
       "      <td>0.485228</td>\n",
       "      <td>41</td>\n",
       "      <td>26.0</td>\n",
       "    </tr>\n",
       "    <tr>\n",
       "      <th>2</th>\n",
       "      <td>Ariz</td>\n",
       "      <td>0.501344</td>\n",
       "      <td>0.490560</td>\n",
       "      <td>21</td>\n",
       "      <td>33.0</td>\n",
       "    </tr>\n",
       "    <tr>\n",
       "      <th>4</th>\n",
       "      <td>Cali</td>\n",
       "      <td>0.337254</td>\n",
       "      <td>0.343278</td>\n",
       "      <td>37</td>\n",
       "      <td>28.0</td>\n",
       "    </tr>\n",
       "    <tr>\n",
       "      <th>5</th>\n",
       "      <td>Colo</td>\n",
       "      <td>0.435472</td>\n",
       "      <td>0.418983</td>\n",
       "      <td>43</td>\n",
       "      <td>25.0</td>\n",
       "    </tr>\n",
       "    <tr>\n",
       "      <th>6</th>\n",
       "      <td>Conn</td>\n",
       "      <td>0.385215</td>\n",
       "      <td>0.392095</td>\n",
       "      <td>42</td>\n",
       "      <td>25.0</td>\n",
       "    </tr>\n",
       "  </tbody>\n",
       "</table>\n",
       "</div>"
      ],
      "text/plain": [
       "  state  Republican_Votes_Share  GOP_vote_ratio  Rank  Percent\n",
       "1  Alas                0.544012        0.485228    41     26.0\n",
       "2  Ariz                0.501344        0.490560    21     33.0\n",
       "4  Cali                0.337254        0.343278    37     28.0\n",
       "5  Colo                0.435472        0.418983    43     25.0\n",
       "6  Conn                0.385215        0.392095    42     25.0"
      ]
     },
     "execution_count": 70,
     "metadata": {},
     "output_type": "execute_result"
    }
   ],
   "source": [
    "less_christian_states = christian_merge.loc[christian_merge['Percent'] < 35]\n",
    "less_christian_states.head()"
   ]
  },
  {
   "cell_type": "code",
   "execution_count": 71,
   "id": "f2ea9037",
   "metadata": {},
   "outputs": [
    {
     "data": {
      "image/png": "[encoded data removed]",
      "text/plain": [
       "<Figure size 640x480 with 1 Axes>"
      ]
     },
     "metadata": {},
     "output_type": "display_data"
    }
   ],
   "source": [
    "#Draw the first scatter plot for more_christian states\n",
    "more_christian_states = more_christian_states[['Republican_Votes_Share', 'GOP_vote_ratio']].copy()\n",
    "more_christian_states['color'] = np.where(more_christian_states['Republican_Votes_Share'] >= more_christian_states['GOP_vote_ratio'], \\\n",
    "                                'red', 'pink')\n",
    "\n",
    "ax = more_christian_states.plot(x='Republican_Votes_Share', y='GOP_vote_ratio', kind='scatter', c = more_christian_states['color'])\n",
    "ax.set_xlabel('House_GOP_vote_share')\n",
    "ax.set_ylabel('President_GOP_vote_share')\n",
    "plt.title('Trump and House Republicans vote share in US states')\n",
    "\n",
    "# Add the line y = x to help us infer the result illustrated in the following.\n",
    "x = np.linspace(*ax.get_xlim(), num=100)\n",
    "ax.plot(x, x, color='red', linestyle='--', label='y=x')\n",
    "\n",
    "plt.legend()\n",
    "plt.show()"
   ]
  },
  {
   "cell_type": "code",
   "execution_count": 72,
   "id": "4d84a42c",
   "metadata": {},
   "outputs": [
    {
     "data": {
      "image/png": "[encoded data removed]",
      "text/plain": [
       "<Figure size 640x480 with 1 Axes>"
      ]
     },
     "metadata": {},
     "output_type": "display_data"
    }
   ],
   "source": [
    "#Draw the first scatter plot for less_christian states\n",
    "less_christian_states = less_christian_states[['Republican_Votes_Share', 'GOP_vote_ratio']].copy()\n",
    "less_christian_states['color'] = np.where(less_christian_states['Republican_Votes_Share'] >= less_christian_states['GOP_vote_ratio'], \\\n",
    "                                'red', 'pink')\n",
    "\n",
    "ab = less_christian_states.plot(x='Republican_Votes_Share', y='GOP_vote_ratio', kind='scatter', c = less_christian_states['color'])\n",
    "ab.set_xlabel('House Republicans vote share')\n",
    "ab.set_ylabel('Trump vote share')\n",
    "plt.title('Trump and House Republicans vote share')\n",
    "\n",
    "# Add the line y = x to help us infer the result illustrated in the following.\n",
    "x = np.linspace(*ab.get_xlim(), num=100)\n",
    "ab.plot(x, x, color='red', linestyle='--', label='y=x')\n",
    "\n",
    "plt.legend()\n",
    "plt.show()"
   ]
  },
  {
   "cell_type": "markdown",
   "id": "960639c3",
   "metadata": {},
   "source": [
    "The states with higher weekly church attendance than the median are classified as \"more christian\" while those with lower attendance are classified as “less christian”. Two scatter plots are used to show the relationship between Trump's vote share and Senate Republicans' vote share in both types of states. The first plot represents more Christian states, with data points above the y=x line indicating that Trump outperformed Senate Republicans, and those below indicating the opposite. The second plot shows less Christian states, with data points above the y=x line indicating that Trump outperformed Senate Republicans, and those below indicating the opposite.\n",
    "\n",
    "The results indicate that Senate Republicans were more popular than Trump in most more Christian states, suggesting that Trump was less favorable than the Republican Party in these states. Moreover, in most less Christian states,Trump is also less popular then average Republicans. So Christianity did not make any significant difference for the Republicans in the 2020 presidential election.\n",
    "\n",
    "There is one possible economic explanation. It is conservative Christians voting with Republicans regardless of the candidate that Trump's vote share does not appear to be related to weekly church attendence."
   ]
  },
  {
   "cell_type": "markdown",
   "id": "58d4a667",
   "metadata": {},
   "source": [
    "## Final Project"
   ]
  },
  {
   "cell_type": "markdown",
   "id": "02a3ff58",
   "metadata": {},
   "source": [
    "### OLS Regression"
   ]
  },
  {
   "cell_type": "markdown",
   "id": "598bb4f6",
   "metadata": {},
   "source": [
    "#### First Regression:\n",
    "**`Republican President Vote Share  = (-0.342) * Republican Senate Vote Share + 0.697`**"
   ]
  },
  {
   "cell_type": "markdown",
   "id": "e6d06f89",
   "metadata": {},
   "source": [
    "The regression model Republican Presidential Vote Share = 0.697 - 0.342 *(Republican Senate Vote Share) shows that there is a negative relationship between Republican presidential vote share and Republican Senate vote share. In other words, counties that voted more Republican for Senate also tended to vote less Republican for president. This is likely because there is a certain amount of overlap between the two groups of voters, and those who are more likely to vote Republican for Senate are also more likely to vote Republican for president. However, it is also possible that there are other factors at play, such as the quality of the candidates or the issues that were at stake in the election.\n",
    "\n",
    "The coefficient of -0.342 indicates that for every 1% increase in Republican Senate vote share, there is a 0.342% decrease in Republican presidential vote share. This means that a county with a Republican Senate vote share of 50% would be expected to have a Republican presidential vote share of 69.7%, while a county with a Republican Senate vote share of 100% would be expected to have a Republican presidential vote share of 35.5%.\n",
    "\n",
    "It is quite counterintuitive. But it is important to note that this is just a correlation, and it does not necessarily mean that one variable causes the other. It is possible that there is a third variable that is causing both Republican Senate vote share and Republican presidential vote share to increase or decrease. For example, it is possible that counties with a higher proportion of white voters tend to vote more Republican for both Senate and president.\n",
    "\n",
    "One possible  economic explanation for the negative relationship between Republican presidential vote share and Republican Senate vote share is that voters are more likely to support candidates who they believe will support their economic interests. During Trump administration, Donald Trump has been associated with policies that are more favorable to businesses and wealthy individuals, while the Democratic Party and Joe Biden has been associated with policies that are more favorable to workers and low-income individuals. As a result, voters who are concerned about their economic well-being may be more likely to vote for Democratic candidates for president, even if they vote for Republican candidates for Senate.\n"
   ]
  },
  {
   "cell_type": "code",
   "execution_count": 147,
   "id": "63a8dde1",
   "metadata": {},
   "outputs": [
    {
     "data": {
      "text/html": [
       "<div>\n",
       "<style scoped>\n",
       "    .dataframe tbody tr th:only-of-type {\n",
       "        vertical-align: middle;\n",
       "    }\n",
       "\n",
       "    .dataframe tbody tr th {\n",
       "        vertical-align: top;\n",
       "    }\n",
       "\n",
       "    .dataframe thead th {\n",
       "        text-align: right;\n",
       "    }\n",
       "</style>\n",
       "<table border=\"1\" class=\"dataframe\">\n",
       "  <thead>\n",
       "    <tr style=\"text-align: right;\">\n",
       "      <th></th>\n",
       "      <th>president_GOP_vote_share</th>\n",
       "      <th>GOP_vote_ratio</th>\n",
       "    </tr>\n",
       "    <tr>\n",
       "      <th>county</th>\n",
       "      <th></th>\n",
       "      <th></th>\n",
       "    </tr>\n",
       "  </thead>\n",
       "  <tbody>\n",
       "    <tr>\n",
       "      <th>Abington</th>\n",
       "      <td>0.438509</td>\n",
       "      <td>0.982816</td>\n",
       "    </tr>\n",
       "    <tr>\n",
       "      <th>Acadia Parish</th>\n",
       "      <td>0.794934</td>\n",
       "      <td>0.097628</td>\n",
       "    </tr>\n",
       "    <tr>\n",
       "      <th>Acton</th>\n",
       "      <td>0.218531</td>\n",
       "      <td>0.808411</td>\n",
       "    </tr>\n",
       "    <tr>\n",
       "      <th>Acworth</th>\n",
       "      <td>0.472759</td>\n",
       "      <td>0.953782</td>\n",
       "    </tr>\n",
       "    <tr>\n",
       "      <th>Adams</th>\n",
       "      <td>0.321549</td>\n",
       "      <td>0.959717</td>\n",
       "    </tr>\n",
       "  </tbody>\n",
       "</table>\n",
       "</div>"
      ],
      "text/plain": [
       "               president_GOP_vote_share  GOP_vote_ratio\n",
       "county                                                 \n",
       "Abington                       0.438509        0.982816\n",
       "Acadia Parish                  0.794934        0.097628\n",
       "Acton                          0.218531        0.808411\n",
       "Acworth                        0.472759        0.953782\n",
       "Adams                          0.321549        0.959717"
      ]
     },
     "execution_count": 147,
     "metadata": {},
     "output_type": "execute_result"
    }
   ],
   "source": [
    "regression = merged_president_senate\n",
    "regression.head()"
   ]
  },
  {
   "cell_type": "code",
   "execution_count": 148,
   "id": "f67dd403",
   "metadata": {},
   "outputs": [],
   "source": [
    "regression = regression.copy()  # create a copy of the DataFrame\n",
    "regression.loc[:, 'intercept'] = [1] * len(regression)  # use .loc to modify the copy"
   ]
  },
  {
   "cell_type": "code",
   "execution_count": 149,
   "id": "ac182c8b",
   "metadata": {
    "scrolled": false
   },
   "outputs": [
    {
     "data": {
      "text/html": [
       "<table style=\"text-align:center\"><tr><td colspan=\"2\" style=\"border-bottom: 1px solid black\"></td></tr><tr><td style=\"text-align:left\"></td><td colspan=\"1\"><em>Dependent variable:president_GOP_vote_share</em></td></tr><tr><td style=\"text-align:left\"></td><tr><td style=\"text-align:left\"></td><td>(1)</td></tr><tr><td colspan=\"2\" style=\"border-bottom: 1px solid black\"></td></tr><tr><td style=\"text-align:left\">GOP_vote_ratio</td><td>-0.342<sup>***</sup></td></tr><tr><td style=\"text-align:left\"></td><td>(0.012)</td></tr><tr><td style=\"text-align:left\">intercept</td><td>0.697<sup>***</sup></td></tr><tr><td style=\"text-align:left\"></td><td>(0.010)</td></tr><td colspan=\"2\" style=\"border-bottom: 1px solid black\"></td></tr><tr><td style=\"text-align: left\">Observations</td><td>992</td></tr><tr><td style=\"text-align: left\">R<sup>2</sup></td><td>0.447</td></tr><tr><td style=\"text-align: left\">Adjusted R<sup>2</sup></td><td>0.446</td></tr><tr><td style=\"text-align: left\">Residual Std. Error</td><td>0.119 (df=990)</td></tr><tr><td style=\"text-align: left\">F Statistic</td><td>799.333<sup>***</sup> (df=1; 990)</td></tr><tr><td colspan=\"2\" style=\"border-bottom: 1px solid black\"></td></tr><tr><td style=\"text-align: left\">Note:</td>\n",
       " <td colspan=\"1\" style=\"text-align: right\">\n",
       "  <sup>*</sup>p&lt;0.1;\n",
       "  <sup>**</sup>p&lt;0.05;\n",
       "  <sup>***</sup>p&lt;0.01\n",
       " </td></tr></table>"
      ],
      "text/plain": [
       "<IPython.core.display.HTML object>"
      ]
     },
     "execution_count": 149,
     "metadata": {},
     "output_type": "execute_result"
    }
   ],
   "source": [
    "import statsmodels.api as sm\n",
    "from stargazer.stargazer import Stargazer  # import the Stargazer module\n",
    "from IPython.core.display import HTML\n",
    "\n",
    "reg1 = sm.OLS(endog=regression['president_GOP_vote_share'], exog=regression[['GOP_vote_ratio', 'intercept']],\n",
    "             missing = 'drop')\n",
    "res1 = reg1.fit()\n",
    "\n",
    "\n",
    "stargazer = Stargazer([res1])\n",
    "HTML(stargazer.render_html())"
   ]
  },
  {
   "cell_type": "markdown",
   "id": "1f3a37ad",
   "metadata": {},
   "source": [
    "#### Second Regression:\n",
    "**`Republican President Vote Share = (0.710) + (-0.355) * Republican Senate Vote Share + (0.231) *(Republican Senate Vote Share* poor_counties)+(-0.226) * poor_counties`**"
   ]
  },
  {
   "cell_type": "markdown",
   "id": "dcab12d4",
   "metadata": {},
   "source": [
    "The regression model shows that there is a positive relationship between Republican presidential vote share and Republican Senate vote share, and that this relationship is stronger in counties with a higher proportion of poor residents. In other words, counties that voted more Republican for Senate also tended to vote more Republican for president, and this tendency was even stronger in counties with a higher proportion of poor residents.\n",
    "\n",
    "A very likely economic explantion is that poor residents are more likely to be affected by economic issues, and they may be more likely to support candidates who they believe will support their economic interests. During the Trump administration, Donald Trump has been associated with policies that are more favorable to businesses and wealthy individuals, while the Democratic Party has been associated with policies that are more favorable to workers and low-income individuals. As a result, poor residents who are concerned about their economic well-being may be more likely to vote for Democratic candidates for president, even if they vote for Republican candidates for Senate.\n",
    "\n",
    "The coefficient of 0.442 indicates that for every 1% increase in Republican Senate vote share, there is a 0.442% increase in Republican presidential vote share. This means that a county with a Republican Senate vote share of 50% would be expected to have a Republican presidential vote share of 71.0%, while a county with a Republican Senate vote share of 100% would be expected to have a Republican presidential vote share of 94.2%.\n",
    "\n",
    "The coefficient of 0.231 indicates that for every 1% increase in the proportion of poor residents, there is a 0.231% increase in the relationship between Republican presidential vote share and Republican Senate vote share. This means that a county with a 10% proportion of poor residents would be expected to have a relationship between Republican presidential vote share and Republican Senate vote share that is 2.31% stronger than a county with a 0% proportion of poor residents.\n",
    "\n",
    "The coefficient of -0.226 indicates that for every 1% increase in the proportion of poor residents, there is a 0.226% decrease in Republican presidential vote share. This means that a county with a 10% proportion of poor residents would be expected to have a Republican presidential vote share that is 2.26% lower than a county with a 0% proportion of poor residents.\n",
    "\n"
   ]
  },
  {
   "cell_type": "code",
   "execution_count": 76,
   "id": "f2b623e8",
   "metadata": {},
   "outputs": [],
   "source": [
    "regression = regression.reset_index()"
   ]
  },
  {
   "cell_type": "code",
   "execution_count": 84,
   "id": "b01be10c",
   "metadata": {
    "scrolled": true
   },
   "outputs": [
    {
     "data": {
      "text/html": [
       "<div>\n",
       "<style scoped>\n",
       "    .dataframe tbody tr th:only-of-type {\n",
       "        vertical-align: middle;\n",
       "    }\n",
       "\n",
       "    .dataframe tbody tr th {\n",
       "        vertical-align: top;\n",
       "    }\n",
       "\n",
       "    .dataframe thead th {\n",
       "        text-align: right;\n",
       "    }\n",
       "</style>\n",
       "<table border=\"1\" class=\"dataframe\">\n",
       "  <thead>\n",
       "    <tr style=\"text-align: right;\">\n",
       "      <th></th>\n",
       "      <th>county</th>\n",
       "      <th>president_GOP_vote_share</th>\n",
       "      <th>GOP_vote_ratio</th>\n",
       "      <th>Rank</th>\n",
       "      <th>State, federal district or territory</th>\n",
       "      <th>Per capitaincome</th>\n",
       "      <th>Medianhouseholdincome</th>\n",
       "      <th>Medianfamilyincome</th>\n",
       "      <th>Population</th>\n",
       "      <th>Number ofhouseholds</th>\n",
       "    </tr>\n",
       "  </thead>\n",
       "  <tbody>\n",
       "    <tr>\n",
       "      <th>1</th>\n",
       "      <td>Adams</td>\n",
       "      <td>0.321549</td>\n",
       "      <td>0.959717</td>\n",
       "      <td>600</td>\n",
       "      <td>Pennsylvania</td>\n",
       "      <td>27284.0</td>\n",
       "      <td>$59,492</td>\n",
       "      <td>$69,551</td>\n",
       "      <td>101496.0</td>\n",
       "      <td>38141.0</td>\n",
       "    </tr>\n",
       "    <tr>\n",
       "      <th>2</th>\n",
       "      <td>Adams</td>\n",
       "      <td>0.321549</td>\n",
       "      <td>0.959717</td>\n",
       "      <td>929</td>\n",
       "      <td>Nebraska</td>\n",
       "      <td>25571.0</td>\n",
       "      <td>$49,440</td>\n",
       "      <td>$65,286</td>\n",
       "      <td>31367.0</td>\n",
       "      <td>12578.0</td>\n",
       "    </tr>\n",
       "    <tr>\n",
       "      <th>3</th>\n",
       "      <td>Adams</td>\n",
       "      <td>0.321549</td>\n",
       "      <td>0.959717</td>\n",
       "      <td>1229</td>\n",
       "      <td>Illinois</td>\n",
       "      <td>24217.0</td>\n",
       "      <td>$45,073</td>\n",
       "      <td>$58,992</td>\n",
       "      <td>67152.0</td>\n",
       "      <td>26912.0</td>\n",
       "    </tr>\n",
       "    <tr>\n",
       "      <th>4</th>\n",
       "      <td>Adams</td>\n",
       "      <td>0.321549</td>\n",
       "      <td>0.959717</td>\n",
       "      <td>1233</td>\n",
       "      <td>Colorado</td>\n",
       "      <td>24195.0</td>\n",
       "      <td>$56,270</td>\n",
       "      <td>$64,611</td>\n",
       "      <td>452030.0</td>\n",
       "      <td>152803.0</td>\n",
       "    </tr>\n",
       "    <tr>\n",
       "      <th>5</th>\n",
       "      <td>Adams</td>\n",
       "      <td>0.321549</td>\n",
       "      <td>0.959717</td>\n",
       "      <td>1359</td>\n",
       "      <td>Iowa</td>\n",
       "      <td>23707.0</td>\n",
       "      <td>$45,871</td>\n",
       "      <td>$56,552</td>\n",
       "      <td>3973.0</td>\n",
       "      <td>1745.0</td>\n",
       "    </tr>\n",
       "  </tbody>\n",
       "</table>\n",
       "</div>"
      ],
      "text/plain": [
       "  county  president_GOP_vote_share  GOP_vote_ratio  Rank  \\\n",
       "1  Adams                  0.321549        0.959717   600   \n",
       "2  Adams                  0.321549        0.959717   929   \n",
       "3  Adams                  0.321549        0.959717  1229   \n",
       "4  Adams                  0.321549        0.959717  1233   \n",
       "5  Adams                  0.321549        0.959717  1359   \n",
       "\n",
       "  State, federal district or territory  Per capitaincome  \\\n",
       "1                         Pennsylvania           27284.0   \n",
       "2                             Nebraska           25571.0   \n",
       "3                             Illinois           24217.0   \n",
       "4                             Colorado           24195.0   \n",
       "5                                 Iowa           23707.0   \n",
       "\n",
       "  Medianhouseholdincome Medianfamilyincome  Population  Number ofhouseholds  \n",
       "1               $59,492            $69,551    101496.0              38141.0  \n",
       "2               $49,440            $65,286     31367.0              12578.0  \n",
       "3               $45,073            $58,992     67152.0              26912.0  \n",
       "4               $56,270            $64,611    452030.0             152803.0  \n",
       "5               $45,871            $56,552      3973.0               1745.0  "
      ]
     },
     "execution_count": 84,
     "metadata": {},
     "output_type": "execute_result"
    }
   ],
   "source": [
    "poor_counties.head()"
   ]
  },
  {
   "cell_type": "code",
   "execution_count": 85,
   "id": "8ab69de5",
   "metadata": {
    "scrolled": false
   },
   "outputs": [
    {
     "data": {
      "text/html": [
       "<table style=\"text-align:center\"><tr><td colspan=\"2\" style=\"border-bottom: 1px solid black\"></td></tr><tr><td style=\"text-align:left\"></td><td colspan=\"1\"><em>Dependent variable:president_GOP_vote_share</em></td></tr><tr><td style=\"text-align:left\"></td><tr><td style=\"text-align:left\"></td><td>(1)</td></tr><tr><td colspan=\"2\" style=\"border-bottom: 1px solid black\"></td></tr><tr><td style=\"text-align:left\">GOP_vote_ratio</td><td>-0.355<sup>***</sup></td></tr><tr><td style=\"text-align:left\"></td><td>(0.012)</td></tr><tr><td style=\"text-align:left\">const</td><td>0.710<sup>***</sup></td></tr><tr><td style=\"text-align:left\"></td><td>(0.010)</td></tr><tr><td style=\"text-align:left\">interaction</td><td>0.231<sup>***</sup></td></tr><tr><td style=\"text-align:left\"></td><td>(0.050)</td></tr><tr><td style=\"text-align:left\">poor_counties</td><td>-0.226<sup>***</sup></td></tr><tr><td style=\"text-align:left\"></td><td>(0.042)</td></tr><td colspan=\"2\" style=\"border-bottom: 1px solid black\"></td></tr><tr><td style=\"text-align: left\">Observations</td><td>992</td></tr><tr><td style=\"text-align: left\">R<sup>2</sup></td><td>0.463</td></tr><tr><td style=\"text-align: left\">Adjusted R<sup>2</sup></td><td>0.462</td></tr><tr><td style=\"text-align: left\">Residual Std. Error</td><td>0.117 (df=988)</td></tr><tr><td style=\"text-align: left\">F Statistic</td><td>284.398<sup>***</sup> (df=3; 988)</td></tr><tr><td colspan=\"2\" style=\"border-bottom: 1px solid black\"></td></tr><tr><td style=\"text-align: left\">Note:</td>\n",
       " <td colspan=\"1\" style=\"text-align: right\">\n",
       "  <sup>*</sup>p&lt;0.1;\n",
       "  <sup>**</sup>p&lt;0.05;\n",
       "  <sup>***</sup>p&lt;0.01\n",
       " </td></tr></table>"
      ],
      "text/plain": [
       "<IPython.core.display.HTML object>"
      ]
     },
     "execution_count": 85,
     "metadata": {},
     "output_type": "execute_result"
    }
   ],
   "source": [
    "import statsmodels.api as sm\n",
    "\n",
    "regression=regression.copy()\n",
    "regression['poor_counties'] = regression['county'].isin(poor_counties['county']).astype(int)\n",
    "regression['interaction'] = regression['poor_counties'] * regression['GOP_vote_ratio']\n",
    "\n",
    "# add a constant to the exogenous variables\n",
    "exog = sm.add_constant(regression[['poor_counties', 'GOP_vote_ratio', 'interaction']])\n",
    "\n",
    "# run the regression with the dummy variable included\n",
    "reg1 = sm.OLS(endog=regression['president_GOP_vote_share'], exog=exog, missing='drop')\n",
    "res1 = reg1.fit()\n",
    "\n",
    "stargazer = Stargazer([res1])\n",
    "HTML(stargazer.render_html())\n",
    "\n"
   ]
  },
  {
   "cell_type": "markdown",
   "id": "cac8bf7b",
   "metadata": {},
   "source": [
    "#### Third Regression:\n",
    "**`Republican President Vote Share = (0.719) + (-0.376)* Republican Senate Vote Share + (0.045) *(Republican Senate Vote Share * well_educated)+(-0.027) * well_educated`**"
   ]
  },
  {
   "cell_type": "markdown",
   "id": "dd6ef4eb",
   "metadata": {},
   "source": [
    "The regression model indicates that there is a negative relationship between Republican presidential vote share and Republican Senate vote share, and that this relationship is weaker in counties with a higher proportion of well-educated residents. In other words, counties that voted more Republican for Senate also tended to vote less Republican for president, and this tendency was even weaker in counties with a higher proportion of well-educated residents.\n",
    "\n",
    "This is likely because well-educated residents are more likely to be exposed to different viewpoints and to have a better understanding of the issues. They may also be more likely to support candidates who they believe will support their economic interests. In recent years, the Republican Party has been associated with policies that are more favorable to businesses and wealthy individuals, while the Democratic Party has been associated with policies that are more favorable to workers and low-income individuals. As a result, well-educated residents who are concerned about their economic well-being may be more likely to vote for Democratic candidates for president, even if they vote for Republican candidates for Senate.\n",
    "\n",
    "The coefficient of -0.376 indicates that for every 1% increase in Republican Senate vote share, there is a 0.376% decrease in Republican presidential vote share. This means that a county with a Republican Senate vote share of 50% would be expected to have a Republican presidential vote share of 62.4%, while a county with a Republican Senate vote share of 100% would be expected to have a Republican presidential vote share of 37.6%.\n",
    "\n",
    "The coefficient of -0.045 indicates that for every 1% increase in the proportion of well-educated residents, there is a 0.045% decrease in the relationship between Republican presidential vote share and Republican Senate vote share. This means that a county with a 10% proportion of well-educated residents would be expected to have a relationship between Republican presidential vote share and Republican Senate vote share that is 0.45% weaker than a county with a 0% proportion of well-educated residents.\n",
    "\n",
    "The coefficient of -0.027 indicates that for every 1% increase in the proportion of well-educated residents, there is a 0.027% decrease in Republican presidential vote share. This means that a county with a 10% proportion of well-educated residents would be expected to have a Republican presidential vote share that is 2.7% lower than a county with a 0% proportion of well-educated residents.\n"
   ]
  },
  {
   "cell_type": "code",
   "execution_count": 86,
   "id": "0c62fcdc",
   "metadata": {},
   "outputs": [
    {
     "data": {
      "text/html": [
       "<div>\n",
       "<style scoped>\n",
       "    .dataframe tbody tr th:only-of-type {\n",
       "        vertical-align: middle;\n",
       "    }\n",
       "\n",
       "    .dataframe tbody tr th {\n",
       "        vertical-align: top;\n",
       "    }\n",
       "\n",
       "    .dataframe thead th {\n",
       "        text-align: right;\n",
       "    }\n",
       "</style>\n",
       "<table border=\"1\" class=\"dataframe\">\n",
       "  <thead>\n",
       "    <tr style=\"text-align: right;\">\n",
       "      <th></th>\n",
       "      <th>Area name</th>\n",
       "      <th>Percent of adults with a bachelor's degree or higher, 2017-21</th>\n",
       "    </tr>\n",
       "  </thead>\n",
       "  <tbody>\n",
       "    <tr>\n",
       "      <th>0</th>\n",
       "      <td>Alabama</td>\n",
       "      <td>26.7</td>\n",
       "    </tr>\n",
       "    <tr>\n",
       "      <th>1</th>\n",
       "      <td>Autauga County</td>\n",
       "      <td>28.1</td>\n",
       "    </tr>\n",
       "    <tr>\n",
       "      <th>2</th>\n",
       "      <td>Baldwin County</td>\n",
       "      <td>32.5</td>\n",
       "    </tr>\n",
       "    <tr>\n",
       "      <th>3</th>\n",
       "      <td>Barbour County</td>\n",
       "      <td>11.2</td>\n",
       "    </tr>\n",
       "    <tr>\n",
       "      <th>4</th>\n",
       "      <td>Bibb County</td>\n",
       "      <td>11.9</td>\n",
       "    </tr>\n",
       "  </tbody>\n",
       "</table>\n",
       "</div>"
      ],
      "text/plain": [
       "        Area name  \\\n",
       "0         Alabama   \n",
       "1  Autauga County   \n",
       "2  Baldwin County   \n",
       "3  Barbour County   \n",
       "4     Bibb County   \n",
       "\n",
       "   Percent of adults with a bachelor's degree or higher, 2017-21  \n",
       "0                                               26.7              \n",
       "1                                               28.1              \n",
       "2                                               32.5              \n",
       "3                                               11.2              \n",
       "4                                               11.9              "
      ]
     },
     "execution_count": 86,
     "metadata": {},
     "output_type": "execute_result"
    }
   ],
   "source": [
    "education = pd.read_csv('/Users/richardhsiao/Desktop/Education.csv').dropna()\n",
    "education.head()"
   ]
  },
  {
   "cell_type": "code",
   "execution_count": 87,
   "id": "8ac559c8",
   "metadata": {},
   "outputs": [
    {
     "data": {
      "text/plain": [
       "20.9"
      ]
     },
     "execution_count": 87,
     "metadata": {},
     "output_type": "execute_result"
    }
   ],
   "source": [
    "education[\"Percent of adults with a bachelor's degree or higher, 2017-21\"].median()"
   ]
  },
  {
   "cell_type": "code",
   "execution_count": 88,
   "id": "ed3ba154",
   "metadata": {},
   "outputs": [
    {
     "data": {
      "text/html": [
       "<div>\n",
       "<style scoped>\n",
       "    .dataframe tbody tr th:only-of-type {\n",
       "        vertical-align: middle;\n",
       "    }\n",
       "\n",
       "    .dataframe tbody tr th {\n",
       "        vertical-align: top;\n",
       "    }\n",
       "\n",
       "    .dataframe thead th {\n",
       "        text-align: right;\n",
       "    }\n",
       "</style>\n",
       "<table border=\"1\" class=\"dataframe\">\n",
       "  <thead>\n",
       "    <tr style=\"text-align: right;\">\n",
       "      <th></th>\n",
       "      <th>Area name</th>\n",
       "      <th>Percent of adults with a bachelor's degree or higher, 2017-21</th>\n",
       "    </tr>\n",
       "  </thead>\n",
       "  <tbody>\n",
       "    <tr>\n",
       "      <th>0</th>\n",
       "      <td>Alabama</td>\n",
       "      <td>26.7</td>\n",
       "    </tr>\n",
       "    <tr>\n",
       "      <th>1</th>\n",
       "      <td>Autauga County</td>\n",
       "      <td>28.1</td>\n",
       "    </tr>\n",
       "    <tr>\n",
       "      <th>2</th>\n",
       "      <td>Baldwin County</td>\n",
       "      <td>32.5</td>\n",
       "    </tr>\n",
       "    <tr>\n",
       "      <th>16</th>\n",
       "      <td>Coffee County</td>\n",
       "      <td>22.7</td>\n",
       "    </tr>\n",
       "    <tr>\n",
       "      <th>26</th>\n",
       "      <td>Elmore County</td>\n",
       "      <td>24.6</td>\n",
       "    </tr>\n",
       "    <tr>\n",
       "      <th>...</th>\n",
       "      <td>...</td>\n",
       "      <td>...</td>\n",
       "    </tr>\n",
       "    <tr>\n",
       "      <th>3277</th>\n",
       "      <td>Utuado Municipio</td>\n",
       "      <td>21.1</td>\n",
       "    </tr>\n",
       "    <tr>\n",
       "      <th>3278</th>\n",
       "      <td>Vega Alta Municipio</td>\n",
       "      <td>22.0</td>\n",
       "    </tr>\n",
       "    <tr>\n",
       "      <th>3279</th>\n",
       "      <td>Vega Baja Municipio</td>\n",
       "      <td>22.7</td>\n",
       "    </tr>\n",
       "    <tr>\n",
       "      <th>3281</th>\n",
       "      <td>Villalba Municipio</td>\n",
       "      <td>21.5</td>\n",
       "    </tr>\n",
       "    <tr>\n",
       "      <th>3283</th>\n",
       "      <td>Yauco Municipio</td>\n",
       "      <td>25.9</td>\n",
       "    </tr>\n",
       "  </tbody>\n",
       "</table>\n",
       "<p>1638 rows × 2 columns</p>\n",
       "</div>"
      ],
      "text/plain": [
       "                Area name  \\\n",
       "0                 Alabama   \n",
       "1          Autauga County   \n",
       "2          Baldwin County   \n",
       "16          Coffee County   \n",
       "26          Elmore County   \n",
       "...                   ...   \n",
       "3277     Utuado Municipio   \n",
       "3278  Vega Alta Municipio   \n",
       "3279  Vega Baja Municipio   \n",
       "3281   Villalba Municipio   \n",
       "3283      Yauco Municipio   \n",
       "\n",
       "      Percent of adults with a bachelor's degree or higher, 2017-21  \n",
       "0                                                  26.7              \n",
       "1                                                  28.1              \n",
       "2                                                  32.5              \n",
       "16                                                 22.7              \n",
       "26                                                 24.6              \n",
       "...                                                 ...              \n",
       "3277                                               21.1              \n",
       "3278                                               22.0              \n",
       "3279                                               22.7              \n",
       "3281                                               21.5              \n",
       "3283                                               25.9              \n",
       "\n",
       "[1638 rows x 2 columns]"
      ]
     },
     "execution_count": 88,
     "metadata": {},
     "output_type": "execute_result"
    }
   ],
   "source": [
    "well_educated = education.loc[education[\"Percent of adults with a bachelor's degree or higher, 2017-21\"] >=20.9]\n",
    "well_educated"
   ]
  },
  {
   "cell_type": "code",
   "execution_count": 89,
   "id": "274e29aa",
   "metadata": {
    "scrolled": false
   },
   "outputs": [
    {
     "data": {
      "text/html": [
       "<table style=\"text-align:center\"><tr><td colspan=\"2\" style=\"border-bottom: 1px solid black\"></td></tr><tr><td style=\"text-align:left\"></td><td colspan=\"1\"><em>Dependent variable:president_GOP_vote_share</em></td></tr><tr><td style=\"text-align:left\"></td><tr><td style=\"text-align:left\"></td><td>(1)</td></tr><tr><td colspan=\"2\" style=\"border-bottom: 1px solid black\"></td></tr><tr><td style=\"text-align:left\">GOP_vote_ratio</td><td>-0.376<sup>***</sup></td></tr><tr><td style=\"text-align:left\"></td><td>(0.027)</td></tr><tr><td style=\"text-align:left\">const</td><td>0.719<sup>***</sup></td></tr><tr><td style=\"text-align:left\"></td><td>(0.023)</td></tr><tr><td style=\"text-align:left\">interaction</td><td>0.045<sup></sup></td></tr><tr><td style=\"text-align:left\"></td><td>(0.031)</td></tr><tr><td style=\"text-align:left\">well_educated</td><td>-0.027<sup></sup></td></tr><tr><td style=\"text-align:left\"></td><td>(0.026)</td></tr><td colspan=\"2\" style=\"border-bottom: 1px solid black\"></td></tr><tr><td style=\"text-align: left\">Observations</td><td>984</td></tr><tr><td style=\"text-align: left\">R<sup>2</sup></td><td>0.448</td></tr><tr><td style=\"text-align: left\">Adjusted R<sup>2</sup></td><td>0.447</td></tr><tr><td style=\"text-align: left\">Residual Std. Error</td><td>0.119 (df=980)</td></tr><tr><td style=\"text-align: left\">F Statistic</td><td>265.372<sup>***</sup> (df=3; 980)</td></tr><tr><td colspan=\"2\" style=\"border-bottom: 1px solid black\"></td></tr><tr><td style=\"text-align: left\">Note:</td>\n",
       " <td colspan=\"1\" style=\"text-align: right\">\n",
       "  <sup>*</sup>p&lt;0.1;\n",
       "  <sup>**</sup>p&lt;0.05;\n",
       "  <sup>***</sup>p&lt;0.01\n",
       " </td></tr></table>"
      ],
      "text/plain": [
       "<IPython.core.display.HTML object>"
      ]
     },
     "execution_count": 89,
     "metadata": {},
     "output_type": "execute_result"
    }
   ],
   "source": [
    "import statsmodels.api as sm\n",
    "\n",
    "regression['well_educated'] = (education['Area name'].isin(well_educated['Area name']).astype(int))\n",
    "regression['interaction'] = regression['well_educated'] * regression['GOP_vote_ratio']\n",
    "exog = sm.add_constant(regression[['well_educated', 'GOP_vote_ratio', 'interaction']])\n",
    "reg1 = sm.OLS(endog=regression['president_GOP_vote_share'], exog=exog, missing='drop')\n",
    "reg1 = reg1.fit()\n",
    "stargazer = Stargazer([reg1])\n",
    "HTML(stargazer.render_html())"
   ]
  },
  {
   "cell_type": "markdown",
   "id": "6a81d686",
   "metadata": {},
   "source": [
    "\n",
    "\n",
    "\n",
    "\n",
    "\n",
    "\n",
    "\n",
    "\n"
   ]
  },
  {
   "cell_type": "markdown",
   "id": "de7fe3a4",
   "metadata": {},
   "source": [
    "#### Fourth Regression:\n",
    "**`Republican President Vote Share  = (0.699) + (-0.343) * Republican Senate Vote Share + (0.002) *(Republican Senate Vote Share * high_employed)+(-0.006) * high_employed`**"
   ]
  },
  {
   "cell_type": "markdown",
   "id": "a0c148c5",
   "metadata": {},
   "source": [
    "The regression model indicates that there is a negative relationship between Republican presidential vote share and Republican Senate vote share, and that this relationship is weaker in counties with a higher proportion of high-employed residents. In other words, counties that voted more Republican for Senate also tended to vote less Republican for president, and this tendency was even weaker in counties with a higher proportion of high-employed residents.\n",
    "\n",
    "One possible economic explanation is that high-employed residents, no matter Republicans or Democratics, are generally attracted to Donald Trump. Though Trump 's tax and economic policies are more in favour of wealthier individuals, but many high-skilled and richer Republican voters think that the establishment Republican could better represent them, even a moderate Democrat like Joe Biden is cloer to their expectation than Trump.\n",
    "\n",
    "The coefficient of -0.343 indicates that for every 1% increase in Republican Senate vote share, there is a 0.343% decrease in Republican presidential vote share. This means that a county with a Republican Senate vote share of 50% would be expected to have a Republican presidential vote share of 65.7%, while a county with a Republican Senate vote share of 100% would be expected to have a Republican presidential vote share of 35.7%.\n",
    "\n",
    "The coefficient of -0.002 indicates that for every 1% increase in the proportion of high-employed residents, there is a 0.002% decrease in the relationship between Republican presidential vote share and Republican Senate vote share. This means that a county with a 10% proportion of high-employed residents would be expected to have a relationship between Republican presidential vote share and Republican Senate vote share that is 0.2% weaker than a county with a 0% proportion of high-employed residents.\n",
    "\n",
    "The coefficient of -0.006 indicates that for every 1% increase in the proportion of high-employed residents, there is a 0.006% decrease in Republican presidential vote share. This means that a county with a 10% proportion of high-employed residents would be expected to have a Republican presidential vote share that is 0.6% lower than a county with a 0% proportion of high-employed residents.\n"
   ]
  },
  {
   "cell_type": "code",
   "execution_count": 90,
   "id": "6a934320",
   "metadata": {},
   "outputs": [
    {
     "data": {
      "text/html": [
       "<div>\n",
       "<style scoped>\n",
       "    .dataframe tbody tr th:only-of-type {\n",
       "        vertical-align: middle;\n",
       "    }\n",
       "\n",
       "    .dataframe tbody tr th {\n",
       "        vertical-align: top;\n",
       "    }\n",
       "\n",
       "    .dataframe thead th {\n",
       "        text-align: right;\n",
       "    }\n",
       "</style>\n",
       "<table border=\"1\" class=\"dataframe\">\n",
       "  <thead>\n",
       "    <tr style=\"text-align: right;\">\n",
       "      <th></th>\n",
       "      <th>Area_name</th>\n",
       "      <th>Unemployment_rate_2020</th>\n",
       "    </tr>\n",
       "  </thead>\n",
       "  <tbody>\n",
       "    <tr>\n",
       "      <th>0</th>\n",
       "      <td>Alabama</td>\n",
       "      <td>6.5</td>\n",
       "    </tr>\n",
       "    <tr>\n",
       "      <th>1</th>\n",
       "      <td>Autauga County, AL</td>\n",
       "      <td>5.4</td>\n",
       "    </tr>\n",
       "    <tr>\n",
       "      <th>2</th>\n",
       "      <td>Baldwin County, AL</td>\n",
       "      <td>6.2</td>\n",
       "    </tr>\n",
       "    <tr>\n",
       "      <th>3</th>\n",
       "      <td>Barbour County, AL</td>\n",
       "      <td>7.8</td>\n",
       "    </tr>\n",
       "    <tr>\n",
       "      <th>4</th>\n",
       "      <td>Bibb County, AL</td>\n",
       "      <td>7.3</td>\n",
       "    </tr>\n",
       "    <tr>\n",
       "      <th>...</th>\n",
       "      <td>...</td>\n",
       "      <td>...</td>\n",
       "    </tr>\n",
       "    <tr>\n",
       "      <th>3192</th>\n",
       "      <td>Sweetwater County, WY</td>\n",
       "      <td>7.3</td>\n",
       "    </tr>\n",
       "    <tr>\n",
       "      <th>3193</th>\n",
       "      <td>Teton County, WY</td>\n",
       "      <td>5.9</td>\n",
       "    </tr>\n",
       "    <tr>\n",
       "      <th>3194</th>\n",
       "      <td>Uinta County, WY</td>\n",
       "      <td>6.3</td>\n",
       "    </tr>\n",
       "    <tr>\n",
       "      <th>3195</th>\n",
       "      <td>Washakie County, WY</td>\n",
       "      <td>5.2</td>\n",
       "    </tr>\n",
       "    <tr>\n",
       "      <th>3196</th>\n",
       "      <td>Weston County, WY</td>\n",
       "      <td>3.8</td>\n",
       "    </tr>\n",
       "  </tbody>\n",
       "</table>\n",
       "<p>3193 rows × 2 columns</p>\n",
       "</div>"
      ],
      "text/plain": [
       "                  Area_name  Unemployment_rate_2020\n",
       "0                   Alabama                     6.5\n",
       "1        Autauga County, AL                     5.4\n",
       "2        Baldwin County, AL                     6.2\n",
       "3        Barbour County, AL                     7.8\n",
       "4           Bibb County, AL                     7.3\n",
       "...                     ...                     ...\n",
       "3192  Sweetwater County, WY                     7.3\n",
       "3193       Teton County, WY                     5.9\n",
       "3194       Uinta County, WY                     6.3\n",
       "3195    Washakie County, WY                     5.2\n",
       "3196      Weston County, WY                     3.8\n",
       "\n",
       "[3193 rows x 2 columns]"
      ]
     },
     "execution_count": 90,
     "metadata": {},
     "output_type": "execute_result"
    }
   ],
   "source": [
    "unemployment = pd.read_csv(\"/Users/richardhsiao/Desktop/Unemployment.csv\").dropna()\n",
    "unemployment"
   ]
  },
  {
   "cell_type": "code",
   "execution_count": 91,
   "id": "d74323c8",
   "metadata": {},
   "outputs": [
    {
     "data": {
      "text/plain": [
       "6.6"
      ]
     },
     "execution_count": 91,
     "metadata": {},
     "output_type": "execute_result"
    }
   ],
   "source": [
    "unemployment['Unemployment_rate_2020'].median()"
   ]
  },
  {
   "cell_type": "code",
   "execution_count": 163,
   "id": "a770fd64",
   "metadata": {},
   "outputs": [],
   "source": [
    "regression = regression.copy()  # create a copy of the DataFrame\n",
    "regression.loc[:, 'intercept'] = [1] * len(regression)  # use .loc to modify the copy"
   ]
  },
  {
   "cell_type": "code",
   "execution_count": 173,
   "id": "54ea2959",
   "metadata": {},
   "outputs": [
    {
     "data": {
      "text/html": [
       "<div>\n",
       "<style scoped>\n",
       "    .dataframe tbody tr th:only-of-type {\n",
       "        vertical-align: middle;\n",
       "    }\n",
       "\n",
       "    .dataframe tbody tr th {\n",
       "        vertical-align: top;\n",
       "    }\n",
       "\n",
       "    .dataframe thead th {\n",
       "        text-align: right;\n",
       "    }\n",
       "</style>\n",
       "<table border=\"1\" class=\"dataframe\">\n",
       "  <thead>\n",
       "    <tr style=\"text-align: right;\">\n",
       "      <th></th>\n",
       "      <th>Area_name</th>\n",
       "      <th>Unemployment_rate_2020</th>\n",
       "    </tr>\n",
       "  </thead>\n",
       "  <tbody>\n",
       "    <tr>\n",
       "      <th>3</th>\n",
       "      <td>Barbour County, AL</td>\n",
       "      <td>7.8</td>\n",
       "    </tr>\n",
       "    <tr>\n",
       "      <th>4</th>\n",
       "      <td>Bibb County, AL</td>\n",
       "      <td>7.3</td>\n",
       "    </tr>\n",
       "    <tr>\n",
       "      <th>7</th>\n",
       "      <td>Butler County, AL</td>\n",
       "      <td>9.6</td>\n",
       "    </tr>\n",
       "    <tr>\n",
       "      <th>8</th>\n",
       "      <td>Calhoun County, AL</td>\n",
       "      <td>7.8</td>\n",
       "    </tr>\n",
       "    <tr>\n",
       "      <th>9</th>\n",
       "      <td>Chambers County, AL</td>\n",
       "      <td>7.5</td>\n",
       "    </tr>\n",
       "    <tr>\n",
       "      <th>...</th>\n",
       "      <td>...</td>\n",
       "      <td>...</td>\n",
       "    </tr>\n",
       "    <tr>\n",
       "      <th>3172</th>\n",
       "      <td>Wood County, WI</td>\n",
       "      <td>6.7</td>\n",
       "    </tr>\n",
       "    <tr>\n",
       "      <th>3176</th>\n",
       "      <td>Campbell County, WY</td>\n",
       "      <td>6.8</td>\n",
       "    </tr>\n",
       "    <tr>\n",
       "      <th>3186</th>\n",
       "      <td>Natrona County, WY</td>\n",
       "      <td>7.7</td>\n",
       "    </tr>\n",
       "    <tr>\n",
       "      <th>3191</th>\n",
       "      <td>Sublette County, WY</td>\n",
       "      <td>7.2</td>\n",
       "    </tr>\n",
       "    <tr>\n",
       "      <th>3192</th>\n",
       "      <td>Sweetwater County, WY</td>\n",
       "      <td>7.3</td>\n",
       "    </tr>\n",
       "  </tbody>\n",
       "</table>\n",
       "<p>1599 rows × 2 columns</p>\n",
       "</div>"
      ],
      "text/plain": [
       "                  Area_name  Unemployment_rate_2020\n",
       "3        Barbour County, AL                     7.8\n",
       "4           Bibb County, AL                     7.3\n",
       "7         Butler County, AL                     9.6\n",
       "8        Calhoun County, AL                     7.8\n",
       "9       Chambers County, AL                     7.5\n",
       "...                     ...                     ...\n",
       "3172        Wood County, WI                     6.7\n",
       "3176    Campbell County, WY                     6.8\n",
       "3186     Natrona County, WY                     7.7\n",
       "3191    Sublette County, WY                     7.2\n",
       "3192  Sweetwater County, WY                     7.3\n",
       "\n",
       "[1599 rows x 2 columns]"
      ]
     },
     "execution_count": 173,
     "metadata": {},
     "output_type": "execute_result"
    }
   ],
   "source": [
    "high_employed = unemployment.loc[unemployment['Unemployment_rate_2020'] >= 6.6].dropna()\n",
    "high_employed"
   ]
  },
  {
   "cell_type": "code",
   "execution_count": 210,
   "id": "86f2f3aa",
   "metadata": {
    "scrolled": false
   },
   "outputs": [
    {
     "ename": "ValueError",
     "evalue": "zero-size array to reduction operation maximum which has no identity",
     "output_type": "error",
     "traceback": [
      "\u001b[0;31m---------------------------------------------------------------------------\u001b[0m",
      "\u001b[0;31mValueError\u001b[0m                                Traceback (most recent call last)",
      "\u001b[0;32m/var/folders/ss/t6yqpmk53d5_cyq8f1hlnr1r0000gn/T/ipykernel_58370/3450084613.py\u001b[0m in \u001b[0;36m<module>\u001b[0;34m\u001b[0m\n\u001b[1;32m     33\u001b[0m     \u001b[0mexog\u001b[0m \u001b[0;34m=\u001b[0m \u001b[0mregression\u001b[0m\u001b[0;34m[\u001b[0m\u001b[0mexog_vars\u001b[0m\u001b[0;34m]\u001b[0m\u001b[0;34m\u001b[0m\u001b[0;34m\u001b[0m\u001b[0m\n\u001b[1;32m     34\u001b[0m     \u001b[0mexog\u001b[0m \u001b[0;34m=\u001b[0m \u001b[0msm\u001b[0m\u001b[0;34m.\u001b[0m\u001b[0madd_constant\u001b[0m\u001b[0;34m(\u001b[0m\u001b[0mexog\u001b[0m\u001b[0;34m)\u001b[0m\u001b[0;34m\u001b[0m\u001b[0;34m\u001b[0m\u001b[0m\n\u001b[0;32m---> 35\u001b[0;31m     \u001b[0mreg1\u001b[0m \u001b[0;34m=\u001b[0m \u001b[0msm\u001b[0m\u001b[0;34m.\u001b[0m\u001b[0mOLS\u001b[0m\u001b[0;34m(\u001b[0m\u001b[0mendog\u001b[0m\u001b[0;34m=\u001b[0m\u001b[0mregression\u001b[0m\u001b[0;34m[\u001b[0m\u001b[0mendog_var\u001b[0m\u001b[0;34m]\u001b[0m\u001b[0;34m,\u001b[0m \u001b[0mexog\u001b[0m\u001b[0;34m=\u001b[0m\u001b[0mexog\u001b[0m\u001b[0;34m,\u001b[0m \u001b[0mmissing\u001b[0m\u001b[0;34m=\u001b[0m\u001b[0;34m'drop'\u001b[0m\u001b[0;34m)\u001b[0m\u001b[0;34m\u001b[0m\u001b[0;34m\u001b[0m\u001b[0m\n\u001b[0m\u001b[1;32m     36\u001b[0m     \u001b[0mreg1\u001b[0m \u001b[0;34m=\u001b[0m \u001b[0mreg1\u001b[0m\u001b[0;34m.\u001b[0m\u001b[0mfit\u001b[0m\u001b[0;34m(\u001b[0m\u001b[0;34m)\u001b[0m\u001b[0;34m\u001b[0m\u001b[0;34m\u001b[0m\u001b[0m\n\u001b[1;32m     37\u001b[0m \u001b[0;32melse\u001b[0m\u001b[0;34m:\u001b[0m\u001b[0;34m\u001b[0m\u001b[0;34m\u001b[0m\u001b[0m\n",
      "\u001b[0;32m~/opt/anaconda3/lib/python3.9/site-packages/statsmodels/regression/linear_model.py\u001b[0m in \u001b[0;36m__init__\u001b[0;34m(self, endog, exog, missing, hasconst, **kwargs)\u001b[0m\n\u001b[1;32m    888\u001b[0m                    \"An exception will be raised in the next version.\")\n\u001b[1;32m    889\u001b[0m             \u001b[0mwarnings\u001b[0m\u001b[0;34m.\u001b[0m\u001b[0mwarn\u001b[0m\u001b[0;34m(\u001b[0m\u001b[0mmsg\u001b[0m\u001b[0;34m,\u001b[0m \u001b[0mValueWarning\u001b[0m\u001b[0;34m)\u001b[0m\u001b[0;34m\u001b[0m\u001b[0;34m\u001b[0m\u001b[0m\n\u001b[0;32m--> 890\u001b[0;31m         super(OLS, self).__init__(endog, exog, missing=missing,\n\u001b[0m\u001b[1;32m    891\u001b[0m                                   hasconst=hasconst, **kwargs)\n\u001b[1;32m    892\u001b[0m         \u001b[0;32mif\u001b[0m \u001b[0;34m\"weights\"\u001b[0m \u001b[0;32min\u001b[0m \u001b[0mself\u001b[0m\u001b[0;34m.\u001b[0m\u001b[0m_init_keys\u001b[0m\u001b[0;34m:\u001b[0m\u001b[0;34m\u001b[0m\u001b[0;34m\u001b[0m\u001b[0m\n",
      "\u001b[0;32m~/opt/anaconda3/lib/python3.9/site-packages/statsmodels/regression/linear_model.py\u001b[0m in \u001b[0;36m__init__\u001b[0;34m(self, endog, exog, weights, missing, hasconst, **kwargs)\u001b[0m\n\u001b[1;32m    715\u001b[0m         \u001b[0;32melse\u001b[0m\u001b[0;34m:\u001b[0m\u001b[0;34m\u001b[0m\u001b[0;34m\u001b[0m\u001b[0m\n\u001b[1;32m    716\u001b[0m             \u001b[0mweights\u001b[0m \u001b[0;34m=\u001b[0m \u001b[0mweights\u001b[0m\u001b[0;34m.\u001b[0m\u001b[0msqueeze\u001b[0m\u001b[0;34m(\u001b[0m\u001b[0;34m)\u001b[0m\u001b[0;34m\u001b[0m\u001b[0;34m\u001b[0m\u001b[0m\n\u001b[0;32m--> 717\u001b[0;31m         super(WLS, self).__init__(endog, exog, missing=missing,\n\u001b[0m\u001b[1;32m    718\u001b[0m                                   weights=weights, hasconst=hasconst, **kwargs)\n\u001b[1;32m    719\u001b[0m         \u001b[0mnobs\u001b[0m \u001b[0;34m=\u001b[0m \u001b[0mself\u001b[0m\u001b[0;34m.\u001b[0m\u001b[0mexog\u001b[0m\u001b[0;34m.\u001b[0m\u001b[0mshape\u001b[0m\u001b[0;34m[\u001b[0m\u001b[0;36m0\u001b[0m\u001b[0;34m]\u001b[0m\u001b[0;34m\u001b[0m\u001b[0;34m\u001b[0m\u001b[0m\n",
      "\u001b[0;32m~/opt/anaconda3/lib/python3.9/site-packages/statsmodels/regression/linear_model.py\u001b[0m in \u001b[0;36m__init__\u001b[0;34m(self, endog, exog, **kwargs)\u001b[0m\n\u001b[1;32m    189\u001b[0m     \"\"\"\n\u001b[1;32m    190\u001b[0m     \u001b[0;32mdef\u001b[0m \u001b[0m__init__\u001b[0m\u001b[0;34m(\u001b[0m\u001b[0mself\u001b[0m\u001b[0;34m,\u001b[0m \u001b[0mendog\u001b[0m\u001b[0;34m,\u001b[0m \u001b[0mexog\u001b[0m\u001b[0;34m,\u001b[0m \u001b[0;34m**\u001b[0m\u001b[0mkwargs\u001b[0m\u001b[0;34m)\u001b[0m\u001b[0;34m:\u001b[0m\u001b[0;34m\u001b[0m\u001b[0;34m\u001b[0m\u001b[0m\n\u001b[0;32m--> 191\u001b[0;31m         \u001b[0msuper\u001b[0m\u001b[0;34m(\u001b[0m\u001b[0mRegressionModel\u001b[0m\u001b[0;34m,\u001b[0m \u001b[0mself\u001b[0m\u001b[0;34m)\u001b[0m\u001b[0;34m.\u001b[0m\u001b[0m__init__\u001b[0m\u001b[0;34m(\u001b[0m\u001b[0mendog\u001b[0m\u001b[0;34m,\u001b[0m \u001b[0mexog\u001b[0m\u001b[0;34m,\u001b[0m \u001b[0;34m**\u001b[0m\u001b[0mkwargs\u001b[0m\u001b[0;34m)\u001b[0m\u001b[0;34m\u001b[0m\u001b[0;34m\u001b[0m\u001b[0m\n\u001b[0m\u001b[1;32m    192\u001b[0m         \u001b[0mself\u001b[0m\u001b[0;34m.\u001b[0m\u001b[0m_data_attr\u001b[0m\u001b[0;34m.\u001b[0m\u001b[0mextend\u001b[0m\u001b[0;34m(\u001b[0m\u001b[0;34m[\u001b[0m\u001b[0;34m'pinv_wexog'\u001b[0m\u001b[0;34m,\u001b[0m \u001b[0;34m'wendog'\u001b[0m\u001b[0;34m,\u001b[0m \u001b[0;34m'wexog'\u001b[0m\u001b[0;34m,\u001b[0m \u001b[0;34m'weights'\u001b[0m\u001b[0;34m]\u001b[0m\u001b[0;34m)\u001b[0m\u001b[0;34m\u001b[0m\u001b[0;34m\u001b[0m\u001b[0m\n\u001b[1;32m    193\u001b[0m \u001b[0;34m\u001b[0m\u001b[0m\n",
      "\u001b[0;32m~/opt/anaconda3/lib/python3.9/site-packages/statsmodels/base/model.py\u001b[0m in \u001b[0;36m__init__\u001b[0;34m(self, endog, exog, **kwargs)\u001b[0m\n\u001b[1;32m    265\u001b[0m \u001b[0;34m\u001b[0m\u001b[0m\n\u001b[1;32m    266\u001b[0m     \u001b[0;32mdef\u001b[0m \u001b[0m__init__\u001b[0m\u001b[0;34m(\u001b[0m\u001b[0mself\u001b[0m\u001b[0;34m,\u001b[0m \u001b[0mendog\u001b[0m\u001b[0;34m,\u001b[0m \u001b[0mexog\u001b[0m\u001b[0;34m=\u001b[0m\u001b[0;32mNone\u001b[0m\u001b[0;34m,\u001b[0m \u001b[0;34m**\u001b[0m\u001b[0mkwargs\u001b[0m\u001b[0;34m)\u001b[0m\u001b[0;34m:\u001b[0m\u001b[0;34m\u001b[0m\u001b[0;34m\u001b[0m\u001b[0m\n\u001b[0;32m--> 267\u001b[0;31m         \u001b[0msuper\u001b[0m\u001b[0;34m(\u001b[0m\u001b[0;34m)\u001b[0m\u001b[0;34m.\u001b[0m\u001b[0m__init__\u001b[0m\u001b[0;34m(\u001b[0m\u001b[0mendog\u001b[0m\u001b[0;34m,\u001b[0m \u001b[0mexog\u001b[0m\u001b[0;34m,\u001b[0m \u001b[0;34m**\u001b[0m\u001b[0mkwargs\u001b[0m\u001b[0;34m)\u001b[0m\u001b[0;34m\u001b[0m\u001b[0;34m\u001b[0m\u001b[0m\n\u001b[0m\u001b[1;32m    268\u001b[0m         \u001b[0mself\u001b[0m\u001b[0;34m.\u001b[0m\u001b[0minitialize\u001b[0m\u001b[0;34m(\u001b[0m\u001b[0;34m)\u001b[0m\u001b[0;34m\u001b[0m\u001b[0;34m\u001b[0m\u001b[0m\n\u001b[1;32m    269\u001b[0m \u001b[0;34m\u001b[0m\u001b[0m\n",
      "\u001b[0;32m~/opt/anaconda3/lib/python3.9/site-packages/statsmodels/base/model.py\u001b[0m in \u001b[0;36m__init__\u001b[0;34m(self, endog, exog, **kwargs)\u001b[0m\n\u001b[1;32m     90\u001b[0m         \u001b[0mmissing\u001b[0m \u001b[0;34m=\u001b[0m \u001b[0mkwargs\u001b[0m\u001b[0;34m.\u001b[0m\u001b[0mpop\u001b[0m\u001b[0;34m(\u001b[0m\u001b[0;34m'missing'\u001b[0m\u001b[0;34m,\u001b[0m \u001b[0;34m'none'\u001b[0m\u001b[0;34m)\u001b[0m\u001b[0;34m\u001b[0m\u001b[0;34m\u001b[0m\u001b[0m\n\u001b[1;32m     91\u001b[0m         \u001b[0mhasconst\u001b[0m \u001b[0;34m=\u001b[0m \u001b[0mkwargs\u001b[0m\u001b[0;34m.\u001b[0m\u001b[0mpop\u001b[0m\u001b[0;34m(\u001b[0m\u001b[0;34m'hasconst'\u001b[0m\u001b[0;34m,\u001b[0m \u001b[0;32mNone\u001b[0m\u001b[0;34m)\u001b[0m\u001b[0;34m\u001b[0m\u001b[0;34m\u001b[0m\u001b[0m\n\u001b[0;32m---> 92\u001b[0;31m         self.data = self._handle_data(endog, exog, missing, hasconst,\n\u001b[0m\u001b[1;32m     93\u001b[0m                                       **kwargs)\n\u001b[1;32m     94\u001b[0m         \u001b[0mself\u001b[0m\u001b[0;34m.\u001b[0m\u001b[0mk_constant\u001b[0m \u001b[0;34m=\u001b[0m \u001b[0mself\u001b[0m\u001b[0;34m.\u001b[0m\u001b[0mdata\u001b[0m\u001b[0;34m.\u001b[0m\u001b[0mk_constant\u001b[0m\u001b[0;34m\u001b[0m\u001b[0;34m\u001b[0m\u001b[0m\n",
      "\u001b[0;32m~/opt/anaconda3/lib/python3.9/site-packages/statsmodels/base/model.py\u001b[0m in \u001b[0;36m_handle_data\u001b[0;34m(self, endog, exog, missing, hasconst, **kwargs)\u001b[0m\n\u001b[1;32m    130\u001b[0m \u001b[0;34m\u001b[0m\u001b[0m\n\u001b[1;32m    131\u001b[0m     \u001b[0;32mdef\u001b[0m \u001b[0m_handle_data\u001b[0m\u001b[0;34m(\u001b[0m\u001b[0mself\u001b[0m\u001b[0;34m,\u001b[0m \u001b[0mendog\u001b[0m\u001b[0;34m,\u001b[0m \u001b[0mexog\u001b[0m\u001b[0;34m,\u001b[0m \u001b[0mmissing\u001b[0m\u001b[0;34m,\u001b[0m \u001b[0mhasconst\u001b[0m\u001b[0;34m,\u001b[0m \u001b[0;34m**\u001b[0m\u001b[0mkwargs\u001b[0m\u001b[0;34m)\u001b[0m\u001b[0;34m:\u001b[0m\u001b[0;34m\u001b[0m\u001b[0;34m\u001b[0m\u001b[0m\n\u001b[0;32m--> 132\u001b[0;31m         \u001b[0mdata\u001b[0m \u001b[0;34m=\u001b[0m \u001b[0mhandle_data\u001b[0m\u001b[0;34m(\u001b[0m\u001b[0mendog\u001b[0m\u001b[0;34m,\u001b[0m \u001b[0mexog\u001b[0m\u001b[0;34m,\u001b[0m \u001b[0mmissing\u001b[0m\u001b[0;34m,\u001b[0m \u001b[0mhasconst\u001b[0m\u001b[0;34m,\u001b[0m \u001b[0;34m**\u001b[0m\u001b[0mkwargs\u001b[0m\u001b[0;34m)\u001b[0m\u001b[0;34m\u001b[0m\u001b[0;34m\u001b[0m\u001b[0m\n\u001b[0m\u001b[1;32m    133\u001b[0m         \u001b[0;31m# kwargs arrays could have changed, easier to just attach here\u001b[0m\u001b[0;34m\u001b[0m\u001b[0;34m\u001b[0m\u001b[0m\n\u001b[1;32m    134\u001b[0m         \u001b[0;32mfor\u001b[0m \u001b[0mkey\u001b[0m \u001b[0;32min\u001b[0m \u001b[0mkwargs\u001b[0m\u001b[0;34m:\u001b[0m\u001b[0;34m\u001b[0m\u001b[0;34m\u001b[0m\u001b[0m\n",
      "\u001b[0;32m~/opt/anaconda3/lib/python3.9/site-packages/statsmodels/base/data.py\u001b[0m in \u001b[0;36mhandle_data\u001b[0;34m(endog, exog, missing, hasconst, **kwargs)\u001b[0m\n\u001b[1;32m    671\u001b[0m \u001b[0;34m\u001b[0m\u001b[0m\n\u001b[1;32m    672\u001b[0m     \u001b[0mklass\u001b[0m \u001b[0;34m=\u001b[0m \u001b[0mhandle_data_class_factory\u001b[0m\u001b[0;34m(\u001b[0m\u001b[0mendog\u001b[0m\u001b[0;34m,\u001b[0m \u001b[0mexog\u001b[0m\u001b[0;34m)\u001b[0m\u001b[0;34m\u001b[0m\u001b[0;34m\u001b[0m\u001b[0m\n\u001b[0;32m--> 673\u001b[0;31m     return klass(endog, exog=exog, missing=missing, hasconst=hasconst,\n\u001b[0m\u001b[1;32m    674\u001b[0m                  **kwargs)\n",
      "\u001b[0;32m~/opt/anaconda3/lib/python3.9/site-packages/statsmodels/base/data.py\u001b[0m in \u001b[0;36m__init__\u001b[0;34m(self, endog, exog, missing, hasconst, **kwargs)\u001b[0m\n\u001b[1;32m     84\u001b[0m         \u001b[0mself\u001b[0m\u001b[0;34m.\u001b[0m\u001b[0mconst_idx\u001b[0m \u001b[0;34m=\u001b[0m \u001b[0;32mNone\u001b[0m\u001b[0;34m\u001b[0m\u001b[0;34m\u001b[0m\u001b[0m\n\u001b[1;32m     85\u001b[0m         \u001b[0mself\u001b[0m\u001b[0;34m.\u001b[0m\u001b[0mk_constant\u001b[0m \u001b[0;34m=\u001b[0m \u001b[0;36m0\u001b[0m\u001b[0;34m\u001b[0m\u001b[0;34m\u001b[0m\u001b[0m\n\u001b[0;32m---> 86\u001b[0;31m         \u001b[0mself\u001b[0m\u001b[0;34m.\u001b[0m\u001b[0m_handle_constant\u001b[0m\u001b[0;34m(\u001b[0m\u001b[0mhasconst\u001b[0m\u001b[0;34m)\u001b[0m\u001b[0;34m\u001b[0m\u001b[0;34m\u001b[0m\u001b[0m\n\u001b[0m\u001b[1;32m     87\u001b[0m         \u001b[0mself\u001b[0m\u001b[0;34m.\u001b[0m\u001b[0m_check_integrity\u001b[0m\u001b[0;34m(\u001b[0m\u001b[0;34m)\u001b[0m\u001b[0;34m\u001b[0m\u001b[0;34m\u001b[0m\u001b[0m\n\u001b[1;32m     88\u001b[0m         \u001b[0mself\u001b[0m\u001b[0;34m.\u001b[0m\u001b[0m_cache\u001b[0m \u001b[0;34m=\u001b[0m \u001b[0;34m{\u001b[0m\u001b[0;34m}\u001b[0m\u001b[0;34m\u001b[0m\u001b[0;34m\u001b[0m\u001b[0m\n",
      "\u001b[0;32m~/opt/anaconda3/lib/python3.9/site-packages/statsmodels/base/data.py\u001b[0m in \u001b[0;36m_handle_constant\u001b[0;34m(self, hasconst)\u001b[0m\n\u001b[1;32m    128\u001b[0m             \u001b[0;31m# detect where the constant is\u001b[0m\u001b[0;34m\u001b[0m\u001b[0;34m\u001b[0m\u001b[0m\n\u001b[1;32m    129\u001b[0m             \u001b[0mcheck_implicit\u001b[0m \u001b[0;34m=\u001b[0m \u001b[0;32mFalse\u001b[0m\u001b[0;34m\u001b[0m\u001b[0;34m\u001b[0m\u001b[0m\n\u001b[0;32m--> 130\u001b[0;31m             \u001b[0mexog_max\u001b[0m \u001b[0;34m=\u001b[0m \u001b[0mnp\u001b[0m\u001b[0;34m.\u001b[0m\u001b[0mmax\u001b[0m\u001b[0;34m(\u001b[0m\u001b[0mself\u001b[0m\u001b[0;34m.\u001b[0m\u001b[0mexog\u001b[0m\u001b[0;34m,\u001b[0m \u001b[0maxis\u001b[0m\u001b[0;34m=\u001b[0m\u001b[0;36m0\u001b[0m\u001b[0;34m)\u001b[0m\u001b[0;34m\u001b[0m\u001b[0;34m\u001b[0m\u001b[0m\n\u001b[0m\u001b[1;32m    131\u001b[0m             \u001b[0;32mif\u001b[0m \u001b[0;32mnot\u001b[0m \u001b[0mnp\u001b[0m\u001b[0;34m.\u001b[0m\u001b[0misfinite\u001b[0m\u001b[0;34m(\u001b[0m\u001b[0mexog_max\u001b[0m\u001b[0;34m)\u001b[0m\u001b[0;34m.\u001b[0m\u001b[0mall\u001b[0m\u001b[0;34m(\u001b[0m\u001b[0;34m)\u001b[0m\u001b[0;34m:\u001b[0m\u001b[0;34m\u001b[0m\u001b[0;34m\u001b[0m\u001b[0m\n\u001b[1;32m    132\u001b[0m                 \u001b[0;32mraise\u001b[0m \u001b[0mMissingDataError\u001b[0m\u001b[0;34m(\u001b[0m\u001b[0;34m'exog contains inf or nans'\u001b[0m\u001b[0;34m)\u001b[0m\u001b[0;34m\u001b[0m\u001b[0;34m\u001b[0m\u001b[0m\n",
      "\u001b[0;32m<__array_function__ internals>\u001b[0m in \u001b[0;36mamax\u001b[0;34m(*args, **kwargs)\u001b[0m\n",
      "\u001b[0;32m~/opt/anaconda3/lib/python3.9/site-packages/numpy/core/fromnumeric.py\u001b[0m in \u001b[0;36mamax\u001b[0;34m(a, axis, out, keepdims, initial, where)\u001b[0m\n\u001b[1;32m   2752\u001b[0m     \u001b[0;36m5\u001b[0m\u001b[0;34m\u001b[0m\u001b[0;34m\u001b[0m\u001b[0m\n\u001b[1;32m   2753\u001b[0m     \"\"\"\n\u001b[0;32m-> 2754\u001b[0;31m     return _wrapreduction(a, np.maximum, 'max', axis, None, out,\n\u001b[0m\u001b[1;32m   2755\u001b[0m                           keepdims=keepdims, initial=initial, where=where)\n\u001b[1;32m   2756\u001b[0m \u001b[0;34m\u001b[0m\u001b[0m\n",
      "\u001b[0;32m~/opt/anaconda3/lib/python3.9/site-packages/numpy/core/fromnumeric.py\u001b[0m in \u001b[0;36m_wrapreduction\u001b[0;34m(obj, ufunc, method, axis, dtype, out, **kwargs)\u001b[0m\n\u001b[1;32m     84\u001b[0m                 \u001b[0;32mreturn\u001b[0m \u001b[0mreduction\u001b[0m\u001b[0;34m(\u001b[0m\u001b[0maxis\u001b[0m\u001b[0;34m=\u001b[0m\u001b[0maxis\u001b[0m\u001b[0;34m,\u001b[0m \u001b[0mout\u001b[0m\u001b[0;34m=\u001b[0m\u001b[0mout\u001b[0m\u001b[0;34m,\u001b[0m \u001b[0;34m**\u001b[0m\u001b[0mpasskwargs\u001b[0m\u001b[0;34m)\u001b[0m\u001b[0;34m\u001b[0m\u001b[0;34m\u001b[0m\u001b[0m\n\u001b[1;32m     85\u001b[0m \u001b[0;34m\u001b[0m\u001b[0m\n\u001b[0;32m---> 86\u001b[0;31m     \u001b[0;32mreturn\u001b[0m \u001b[0mufunc\u001b[0m\u001b[0;34m.\u001b[0m\u001b[0mreduce\u001b[0m\u001b[0;34m(\u001b[0m\u001b[0mobj\u001b[0m\u001b[0;34m,\u001b[0m \u001b[0maxis\u001b[0m\u001b[0;34m,\u001b[0m \u001b[0mdtype\u001b[0m\u001b[0;34m,\u001b[0m \u001b[0mout\u001b[0m\u001b[0;34m,\u001b[0m \u001b[0;34m**\u001b[0m\u001b[0mpasskwargs\u001b[0m\u001b[0;34m)\u001b[0m\u001b[0;34m\u001b[0m\u001b[0;34m\u001b[0m\u001b[0m\n\u001b[0m\u001b[1;32m     87\u001b[0m \u001b[0;34m\u001b[0m\u001b[0m\n\u001b[1;32m     88\u001b[0m \u001b[0;34m\u001b[0m\u001b[0m\n",
      "\u001b[0;31mValueError\u001b[0m: zero-size array to reduction operation maximum which has no identity"
     ]
    }
   ],
   "source": [
    "import statsmodels.api as sm\n",
    "from stargazer.stargazer import Stargazer\n",
    "import numpy as np\n",
    "\n",
    "\n",
    "\n",
    "# Remove any observations with missing values\n",
    "regression = regression.dropna()\n",
    "\n",
    "# Create a new column indicating if the area has high employment\n",
    "regression['high_employed'] = (unemployment['Area_name'].isin(high_employed['Area_name'])).astype(int)\n",
    "\n",
    "# Create an interaction term between high_employed and GOP_vote_ratio\n",
    "regression['interaction'] = regression['high_employed'] * regression['GOP_vote_ratio']\n",
    "\n",
    "# Specify the explanatory variables for the regression\n",
    "exog_vars = ['high_employed', 'GOP_vote_ratio', 'interaction']\n",
    "\n",
    "# Add a constant term to the explanatory variables\n",
    "exog = sm.add_constant(regression[exog_vars])\n",
    "\n",
    "# Fit the regression model\n",
    "endog_var = 'president_GOP_vote_share'\n",
    "reg1 = sm.OLS(endog=regression[endog_var], exog=exog, missing='drop')\n",
    "reg1_fit = reg1.fit()\n",
    "\n",
    "# Display the regression results using Stargazer\n",
    "stargazer = Stargazer([reg1_fit])\n",
    "stargazer.covariate_order(['const'] + exog_vars)\n",
    "HTML(stargazer.render_html())\n"
   ]
  },
  {
   "cell_type": "markdown",
   "id": "d1ca1d13",
   "metadata": {},
   "source": [
    "### Machine Learning and Regression Tree"
   ]
  },
  {
   "cell_type": "markdown",
   "id": "58a85fc8",
   "metadata": {},
   "source": [
    "**`president_GOP_vote_share = (0.719) + (-0.376)*GOP_vote_ratio + (0.045) *(GOP_vote_ratio * well_educated)+(-0.027) * well_educated`**"
   ]
  },
  {
   "cell_type": "code",
   "execution_count": null,
   "id": "3ef03d14",
   "metadata": {},
   "outputs": [],
   "source": [
    "# Import the necessary libraries\n",
    "from sklearn.tree import DecisionTreeRegressor, plot_tree\n",
    "import pandas as pd\n",
    "import matplotlib.pyplot as plt"
   ]
  },
  {
   "cell_type": "code",
   "execution_count": null,
   "id": "ee1e1f2d",
   "metadata": {},
   "outputs": [],
   "source": [
    "regression['GOP_vote_ratio*well_educated'] = regression['GOP_vote_ratio'] * regression['well_educated']\n",
    "regression"
   ]
  },
  {
   "cell_type": "code",
   "execution_count": null,
   "id": "84955999",
   "metadata": {},
   "outputs": [],
   "source": [
    "regression"
   ]
  },
  {
   "cell_type": "code",
   "execution_count": null,
   "id": "b4e72a95",
   "metadata": {
    "scrolled": true
   },
   "outputs": [],
   "source": [
    "# Drop any rows with missing values\n",
    "regression = regression.dropna()\n",
    "\n",
    "# Define the target variable as 'biden_vote_share_county'\n",
    "# Define the predictor variables as 'dem_ratio_county' and 'rich_county'\n",
    "y = regression['president_GOP_vote_share']\n",
    "X = regression[['GOP_vote_ratio']]\n",
    "\n",
    "# Create a Decision Tree Regressor object with a maximum depth of 3\n",
    "tree_reg = DecisionTreeRegressor(max_depth=3)\n",
    "\n",
    "# Fit the decision tree model using the predictor variables and target variable\n",
    "tree_reg.fit(X, y)\n",
    "\n",
    "# Plot the decision tree model\n",
    "plt.figure(figsize=(25,20))\n",
    "plot_tree(tree_reg, feature_names=X.columns, filled=True)\n",
    "plt.show()"
   ]
  },
  {
   "cell_type": "markdown",
   "id": "3a85d1fa",
   "metadata": {},
   "source": [
    "This regression tree is a machine learning model that can be used to predict Trump's vote share in a county based on Republican Senate vote share (GOP_Ratio_County). The tree is built by splitting the data into smaller and smaller subsets based on the value of GOP_Ratio_County. The splitting continues until each subset contains only a single data point. The predicted Trump vote share for each data point is then calculated based on the values of the other variables in the data set.\n",
    "\n",
    "The regression tree in this report is built using the following steps:\n",
    "\n",
    "First, The data is split into two subsets based on the value of GOP_Ratio_County. The subset with GOP_Ratio_County less than or equal to 0.64 is called the left branch, and the subset with GOP_Ratio_County greater than 0.64 is called the right branch.\n",
    "\n",
    "Second, the left branch is split into two further subsets based on the value of GOP_Ratio_County. The subset with GOP_Ratio_County less than or equal to 0.027 is called the left-left branch, and the subset with GOP_Ratio_County greater than 0.027 is called the left-right branch.\n",
    "\n",
    "Third, the left-left branch is split into two further subsets based on the value of GOP_Ratio_County. The subset with GOP_Ratio_County less than or equal to 0.012 is called the left-left-left branch, and the subset with GOP_Ratio_County greater than 0.012 is called the left-left-right branch.\n",
    "\n",
    "Fourth, the left-right branch is split into two further subsets based on the value of GOP_Ratio_County. The subset with GOP_Ratio_County less than or equal to 0.771 is called the left-right-left branch, and the subset with GOP_Ratio_County greater than 0.771 is called the left-right-right branch.\n",
    "\n",
    "Fifth, the right branch is split into two further subsets based on the value of GOP_Ratio_County. The subset with GOP_Ratio_County greater than or equal to 0.977 is called the right-right-left branch, and the subset with GOP_Ratio_County less than or equal to 0.977 is called the right-right-right branch."
   ]
  },
  {
   "cell_type": "markdown",
   "id": "231fc176",
   "metadata": {},
   "source": [
    "The predicted Trump vote share for a data point is calculated as follows:\n",
    "\n",
    "First, if the data point is in the left branch, then the predicted Trump vote share is 0.544 if GOP_Ratio_County is less than or equal to 0.012, and 0.464 if GOP_Ratio_County is greater than 0.012.\n",
    "Second, if the data point is in the left-right branch, then the predicted Trump vote share is 0.237 if GOP_Ratio_County is equal to 0.977, and 0.35 if GOP_Ratio_County is not equal to 0.977.\n",
    "\n",
    "Third, if the data point is in the right-right-left branch, then the predicted Trump vote share is 0.421 if GOP_Ratio_County is less than or equal to 0.771, and 0.378 if GOP_Ratio_County is greater than 0.771.\n",
    "\n",
    "Fourth, if the data point is in the right-right-right branch, then the predicted Trump vote share is 0.35."
   ]
  },
  {
   "cell_type": "code",
   "execution_count": null,
   "id": "d55b7ec7",
   "metadata": {},
   "outputs": [],
   "source": [
    "# Compute the mean squared error of the decision tree model\n",
    "mse = ((tree_reg.predict(X) - y) ** 2).mean()\n",
    "mse"
   ]
  },
  {
   "cell_type": "markdown",
   "id": "7afe78a3",
   "metadata": {},
   "source": [
    "The MSE of the regression tree is 0.012085414582391332, which is a relatively low value. This indicates that the regression tree is a good fit for the data. The relatively low MSE indicates a relatively small average error in this regression tree, which means this tree suits the data quite well. The MSE can also be considered as the standard deviation of the residuals. The residuals are the differences between the predicted values and the actual values. A lower standard deviation indicates that the residuals are more tightly clustered around zero, which means that the tree is a good fit for the data."
   ]
  },
  {
   "cell_type": "markdown",
   "id": "aa1cbca4",
   "metadata": {},
   "source": [
    "To sum up, this tree could provide an approximate estimation for the result, but we need to remember it is not that reliable, we still need to make our judgement based on context and reality."
   ]
  },
  {
   "cell_type": "markdown",
   "id": "cadc78c4",
   "metadata": {},
   "source": [
    "### Comparison Between OLS Regressiona and Regression Tree"
   ]
  },
  {
   "cell_type": "markdown",
   "id": "98d66bfb",
   "metadata": {},
   "source": [
    "One significant distinction between regression trees and linear regression is that regression trees can model nonlinear relationships between the dependent variable and independent variables, whereas linear regression assumes a linear relationship. This makes regression trees better suited for predicting outcomes under complex scenarios. Additionally, regression trees can identify subgroups or segments of the data that display varying relationships between dependent and independent variables. For instance, in our data analytics report, we divided all counties into rich and poor categories, providing more detailed insights into relationships between variables that may be obscured by linear regression.\n",
    "\n",
    "Lastly, we can compare the predicted outcomes of different independent variables to understand how changing inputs may affect the final result. From an economic perspective, regression trees enable us to more easily compare and implement targeted strategies based on nuanced differences in rich and poor counties. Given that counties have their own per capita income levels and political dynamics, being able to observe and utilize this information is critical in presidential elections."
   ]
  },
  {
   "cell_type": "markdown",
   "id": "2ab9b2f2",
   "metadata": {},
   "source": [
    "## Conclusion"
   ]
  },
  {
   "cell_type": "markdown",
   "id": "90309490",
   "metadata": {},
   "source": [
    "This report examines whether Donald Trump dragged down the Republican Party in the 2020 presidential election. Two investigations were conducted using the Republican Party's vote share in the congressional election as a measure of popularity. The first investigation found that the Republican presidential candidate performed worse than the Republican Senate candidate in over half of the counties. The second investigation found that Donald Trump performed worse than the Republican House candidate in most states. These findings suggest that Trump's popularity is lower than the overall popularity of the Republican Party.\n",
    "\n",
    "Furthermore, the analysis was also conducted from various perspectives to find out causalities behind the findings. An economic perspective suggests that Trump's mishandling of the U.S. economy may have contributed to the Republicans' loss. A geographical perspective reveals that Trump's performance was worse than the Republican Party's popularity in most U.S. states but better in coastal states than House Republican candidates. From a demographical perspective, Trump did not boost Republican votes among rich voters but did drag down the support for the Republicans among poorer voters in the 2020 presidential election. Trump's failure to address income inequality, which has been a growing concern for many Americans, may have also impacted voter behavior. Many voters may have been looking for policies that address economic inequality and provide opportunities for upward mobility. Trump's policies, which largely favored the wealthy, may have failed to resonate with many voters. Finally, a religious perspective shows that Trump's performance dragged down the Republican Party's performance both among more Christian and less Christian voters in the 2020 presidential election, so Christianity did not make a significant difference.\n",
    "\n",
    "This paper approached the research question from various perspective, which enables us to view this topic from different perspectives. Other than the perspectives we choose are unique, the statistical approach and data analytics techniques we is very rarely observed among papers on similiar topics, including regression and machine learning. \n",
    "\n",
    "In conclusion, this data analysis report supports the claim that Trump should take the most responsibility for the Republicans' loss in the 2020 presidential election. This conclusion raises an additional question that remains unanswered: Was the Republican Party's failure in the 2020 presidential election due to Donald Trump's policies, or was it simply a result of voters' personal dislike for him? If the former holds true, then a pertinent question would be whether he could have won by implementing appropriate policies"
   ]
  },
  {
   "cell_type": "markdown",
   "id": "7604a03b",
   "metadata": {},
   "source": [
    "## References"
   ]
  },
  {
   "cell_type": "markdown",
   "id": "778b866b",
   "metadata": {},
   "source": [
    "Baccini, L., Brodeur, A., & Weymouth, S. (2021, January 15). The COVID-19 pandemic and the 2020 US presidential election - journal of population economics. SpringerLink.\n",
    "\n",
    "Blendon, R. J., & Benson, J. M. (n.d.). Implications of the 2020 election for U.S. health policy | nejm. Retrieved April 1, 2023, from https://www.nejm.org/doi/full/10.1056/NEJMsr2031592 \n",
    "\n",
    "\n",
    "Enten, H. (2020, October 24). How trump is dragging down fellow Republicans | CNN politics. CNN. \n",
    "\n",
    "Smith, G. A. (2020, December 14). White Christians continue to favor Trump over Biden, but support has slipped. Pew Research Center. \n",
    "\n",
    "Stieb, M. (2019, March 21). A brief history of trump's feud with John McCain. Intelligencer."
   ]
  }
 ],
 "metadata": {
  "kernelspec": {
   "display_name": "Python 3 (ipykernel)",
   "language": "python",
   "name": "python3"
  },
  "language_info": {
   "codemirror_mode": {
    "name": "ipython",
    "version": 3
   },
   "file_extension": ".py",
   "mimetype": "text/x-python",
   "name": "python",
   "nbconvert_exporter": "python",
   "pygments_lexer": "ipython3",
   "version": "3.9.13"
  }
 },
 "nbformat": 4,
 "nbformat_minor": 5
}
